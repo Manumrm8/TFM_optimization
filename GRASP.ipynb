{
 "cells": [
  {
   "cell_type": "markdown",
   "id": "e3b6d217",
   "metadata": {},
   "source": [
    "# Datos"
   ]
  },
  {
   "cell_type": "code",
   "execution_count": 14,
   "id": "15353fc4",
   "metadata": {},
   "outputs": [],
   "source": [
    "archive = \"WorkSpace 1000_50_5\"\n",
    "k=5\n",
    "m=50"
   ]
  },
  {
   "cell_type": "markdown",
   "id": "66b370df",
   "metadata": {},
   "source": [
    "# Preparar los datos"
   ]
  },
  {
   "cell_type": "code",
   "execution_count": 15,
   "id": "2db9dd13",
   "metadata": {},
   "outputs": [],
   "source": [
    "from tools import create_distances\n",
    "create_distances.create_distances(archive)"
   ]
  },
  {
   "cell_type": "markdown",
   "id": "f48c1b51",
   "metadata": {},
   "source": [
    "# Ejecución GRASP"
   ]
  },
  {
   "cell_type": "code",
   "execution_count": 16,
   "id": "93a6fc55",
   "metadata": {},
   "outputs": [],
   "source": [
    "from tools.grasp import Grasp"
   ]
  },
  {
   "cell_type": "code",
   "execution_count": 17,
   "id": "167275c8",
   "metadata": {},
   "outputs": [
    {
     "name": "stdout",
     "output_type": "stream",
     "text": [
      "            solution          f1   f2   f3\n",
      "0  [1, 3, 8, 27, 30]  460.335747  248   85\n",
      "1  [1, 5, 7, 28, 30]  402.612717  295  218\n",
      "2  [3, 8, 9, 25, 30]  463.919174  211   22\n",
      "3  [0, 1, 3, 24, 31]  452.443367  257   99\n",
      "4  [1, 2, 4, 28, 30]  413.358198  265  173\n"
     ]
    }
   ],
   "source": [
    "algoritmo_grasp=Grasp(archive, k, m)"
   ]
  },
  {
   "cell_type": "code",
   "execution_count": 5,
   "id": "7e27ef5d",
   "metadata": {},
   "outputs": [],
   "source": [
    "algoritmo_grasp.run()"
   ]
  },
  {
   "cell_type": "code",
   "execution_count": 18,
   "id": "6bae4d7c",
   "metadata": {},
   "outputs": [
    {
     "name": "stderr",
     "output_type": "stream",
     "text": [
      "Ejecutando GRASP: 100%|██████████| 1000/1000 [03:25<00:00,  4.86it/s]\n"
     ]
    }
   ],
   "source": [
    "from tqdm import tqdm\n",
    "\n",
    "for i in tqdm(range(1000), desc=\"Ejecutando GRASP\"):\n",
    "    algoritmo_grasp.run()"
   ]
  },
  {
   "cell_type": "markdown",
   "id": "067272d6",
   "metadata": {},
   "source": [
    "# Limpiar soluciones"
   ]
  },
  {
   "cell_type": "code",
   "execution_count": 11,
   "id": "81045adf",
   "metadata": {},
   "outputs": [
    {
     "name": "stdout",
     "output_type": "stream",
     "text": [
      "Soluciones no dominadas:\n",
      "            solution          f1   f2   f3\n",
      "0  [1, 3, 8, 27, 30]  460.335747  248   85\n",
      "1  [1, 5, 7, 28, 30]  402.612717  295  218\n",
      "2  [3, 8, 9, 25, 30]  463.919174  211   22\n",
      "3  [0, 1, 3, 24, 31]  452.443367  257   99\n",
      "4  [1, 2, 4, 28, 30]  413.358198  265  173\n",
      "Soluciones no dominadas guardadas en el archivo original.\n"
     ]
    }
   ],
   "source": [
    "from tools.delete_dominated_solutions import delete_dominated_solutions\n",
    "delete_dominated_solutions(archive)"
   ]
  }
 ],
 "metadata": {
  "kernelspec": {
   "display_name": "Optimization",
   "language": "python",
   "name": "python3"
  },
  "language_info": {
   "codemirror_mode": {
    "name": "ipython",
    "version": 3
   },
   "file_extension": ".py",
   "mimetype": "text/x-python",
   "name": "python",
   "nbconvert_exporter": "python",
   "pygments_lexer": "ipython3",
   "version": "3.12.7"
  }
 },
 "nbformat": 4,
 "nbformat_minor": 5
}
