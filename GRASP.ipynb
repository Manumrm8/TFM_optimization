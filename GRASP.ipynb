{
 "cells": [
  {
   "cell_type": "markdown",
   "id": "a6ed2d80",
   "metadata": {},
   "source": [
    "# Librerías"
   ]
  },
  {
   "cell_type": "code",
   "execution_count": 16,
   "id": "a2c3a350",
   "metadata": {},
   "outputs": [],
   "source": [
    "import numpy as np\n",
    "\n",
    "from tools.compare_functions import load_solutions, get_pareto_front, get_styled_table, classify_solutions\n",
    "from tools import create_distances\n",
    "from tools.grasp_2 import Grasp\n",
    "\n",
    "\n",
    "from tqdm import tqdm\n",
    "from IPython.display import display, HTML"
   ]
  },
  {
   "cell_type": "markdown",
   "id": "e3b6d217",
   "metadata": {},
   "source": [
    "# Datos"
   ]
  },
  {
   "cell_type": "code",
   "execution_count": 4,
   "id": "15353fc4",
   "metadata": {},
   "outputs": [],
   "source": [
    "archive = \"WorkSpace 1000_50_5\"\n",
    "k=5\n",
    "m=50"
   ]
  },
  {
   "cell_type": "markdown",
   "id": "66b370df",
   "metadata": {},
   "source": [
    "# Preparar los datos"
   ]
  },
  {
   "cell_type": "code",
   "execution_count": null,
   "id": "2db9dd13",
   "metadata": {},
   "outputs": [],
   "source": [
    "create_distances.create_distances(archive)"
   ]
  },
  {
   "cell_type": "markdown",
   "id": "f48c1b51",
   "metadata": {},
   "source": [
    "# Ejecución GRASP"
   ]
  },
  {
   "cell_type": "code",
   "execution_count": 13,
   "id": "167275c8",
   "metadata": {},
   "outputs": [
    {
     "name": "stdout",
     "output_type": "stream",
     "text": [
      "               solution          f1   f2   f3\n",
      "0    [0, 3, 16, 24, 31]  427.023419  247  103\n",
      "1   [3, 18, 20, 24, 30]  458.802790  209   22\n",
      "2   [5, 15, 28, 30, 47]  377.005305  281  210\n",
      "3    [0, 6, 14, 24, 36]  457.106115  218   40\n",
      "4    [4, 8, 13, 28, 30]  442.764046  229  104\n",
      "5    [3, 9, 12, 28, 30]  481.133038  203    6\n",
      "6   [4, 10, 13, 28, 30]  442.764046  233  103\n",
      "7    [2, 5, 14, 28, 30]  412.506970  262  163\n",
      "8    [4, 8, 14, 24, 30]  433.416659  239  139\n",
      "9    [2, 5, 17, 28, 30]  379.969736  271  172\n",
      "10    [1, 2, 5, 28, 30]  381.790518  269  170\n",
      "11  [5, 15, 28, 30, 48]  377.005305  284  202\n",
      "12   [2, 4, 14, 24, 31]  415.120464  248  174\n",
      "13   [2, 5, 16, 28, 30]  422.413305  249  150\n",
      "14   [0, 3, 16, 24, 30]  424.721085  270  130\n",
      "15  [4, 13, 16, 28, 31]  450.699456  227   83\n",
      "16  [4, 10, 14, 28, 30]  433.416659  243  113\n",
      "17  [4, 11, 17, 28, 30]  424.609232  257  141\n",
      "18  [4, 11, 16, 28, 31]  441.834811  241  125\n",
      "19   [2, 4, 15, 28, 30]  413.358198  252  160\n",
      "20   [2, 4, 16, 28, 30]  422.413305  244  152\n",
      "21   [2, 4, 16, 24, 31]  422.413305  240  166\n"
     ]
    }
   ],
   "source": [
    "algoritmo_grasp=Grasp(archive, k, m, alpha=0.8)"
   ]
  },
  {
   "cell_type": "code",
   "execution_count": 11,
   "id": "7e27ef5d",
   "metadata": {},
   "outputs": [
    {
     "name": "stdout",
     "output_type": "stream",
     "text": [
      "           solution          f1   f2   f3\n",
      "0  [0, 6, 8, 9, 24]  531.919167  249  119\n",
      "            solution          f1   f2  f3\n",
      "0  [0, 8, 9, 24, 47]  565.742874  217  30\n"
     ]
    }
   ],
   "source": [
    "algoritmo_grasp.run()"
   ]
  },
  {
   "cell_type": "code",
   "execution_count": null,
   "id": "6bae4d7c",
   "metadata": {},
   "outputs": [
    {
     "name": "stderr",
     "output_type": "stream",
     "text": [
      "Ejecutando GRASP:   0%|          | 3/100000 [00:01<10:18:05,  2.70it/s]"
     ]
    },
    {
     "name": "stdout",
     "output_type": "stream",
     "text": [
      "             solution          f1   f2   f3\n",
      "0  [4, 8, 18, 28, 35]  482.580563  330  205\n"
     ]
    },
    {
     "name": "stderr",
     "output_type": "stream",
     "text": [
      "Ejecutando GRASP:   0%|          | 5/100000 [00:01<10:18:17,  2.70it/s]"
     ]
    },
    {
     "name": "stdout",
     "output_type": "stream",
     "text": [
      "             solution         f1   f2   f3\n",
      "0  [1, 3, 20, 25, 33]  458.80279  300  136\n",
      "              solution          f1   f2   f3\n",
      "0  [5, 14, 28, 31, 42]  442.944692  304  240\n",
      "             solution          f1   f2   f3\n",
      "0  [5, 7, 14, 28, 31]  412.418477  289  212\n"
     ]
    },
    {
     "name": "stderr",
     "output_type": "stream",
     "text": [
      "Ejecutando GRASP:   0%|          | 7/100000 [00:02<10:24:05,  2.67it/s]"
     ]
    },
    {
     "name": "stdout",
     "output_type": "stream",
     "text": [
      "             solution         f1   f2   f3\n",
      "0  [4, 6, 14, 24, 31]  436.64402  282  227\n",
      "             solution          f1   f2  f3\n",
      "0  [6, 8, 14, 24, 31]  503.008946  214  31\n"
     ]
    },
    {
     "name": "stderr",
     "output_type": "stream",
     "text": [
      "Ejecutando GRASP:   0%|          | 8/100000 [00:03<10:54:04,  2.55it/s]"
     ]
    },
    {
     "name": "stdout",
     "output_type": "stream",
     "text": [
      "             solution          f1   f2  f3\n",
      "0  [6, 8, 14, 24, 34]  530.117911  214  30\n"
     ]
    },
    {
     "name": "stderr",
     "output_type": "stream",
     "text": [
      "Ejecutando GRASP:   0%|          | 9/100000 [00:03<11:03:30,  2.51it/s]"
     ]
    },
    {
     "name": "stdout",
     "output_type": "stream",
     "text": [
      "              solution          f1   f2  f3\n",
      "0  [3, 14, 19, 25, 34]  502.677829  243  80\n"
     ]
    },
    {
     "name": "stderr",
     "output_type": "stream",
     "text": [
      "Ejecutando GRASP:   0%|          | 11/100000 [00:04<10:44:28,  2.59it/s]"
     ]
    },
    {
     "name": "stdout",
     "output_type": "stream",
     "text": [
      "             solution          f1   f2  f3\n",
      "0  [7, 9, 19, 24, 31]  658.267423  213  30\n",
      "             solution          f1   f2  f3\n",
      "0  [3, 9, 19, 24, 31]  468.376985  224  55\n"
     ]
    },
    {
     "name": "stderr",
     "output_type": "stream",
     "text": [
      "Ejecutando GRASP:   0%|          | 13/100000 [00:05<10:53:14,  2.55it/s]"
     ]
    },
    {
     "name": "stdout",
     "output_type": "stream",
     "text": [
      "              solution         f1   f2  f3\n",
      "0  [3, 13, 20, 24, 34]  458.80279  211  31\n"
     ]
    },
    {
     "name": "stderr",
     "output_type": "stream",
     "text": [
      "Ejecutando GRASP:   0%|          | 18/100000 [00:07<11:05:44,  2.50it/s]"
     ]
    },
    {
     "name": "stdout",
     "output_type": "stream",
     "text": [
      "             solution          f1   f2   f3\n",
      "0  [0, 3, 17, 24, 30]  424.721085  287  139\n"
     ]
    },
    {
     "name": "stderr",
     "output_type": "stream",
     "text": [
      "Ejecutando GRASP:   0%|          | 23/100000 [00:09<11:02:10,  2.52it/s]"
     ]
    },
    {
     "name": "stdout",
     "output_type": "stream",
     "text": [
      "               solution          f1   f2  f3\n",
      "0  [15, 19, 25, 34, 48]  638.625086  205  11\n"
     ]
    },
    {
     "name": "stderr",
     "output_type": "stream",
     "text": [
      "Ejecutando GRASP:   0%|          | 31/100000 [00:12<10:26:24,  2.66it/s]"
     ]
    },
    {
     "name": "stdout",
     "output_type": "stream",
     "text": [
      "              solution          f1   f2  f3\n",
      "0  [3, 14, 21, 23, 34]  585.629576  214  23\n"
     ]
    },
    {
     "name": "stderr",
     "output_type": "stream",
     "text": [
      "Ejecutando GRASP:   0%|          | 32/100000 [00:12<10:54:56,  2.54it/s]"
     ]
    },
    {
     "name": "stdout",
     "output_type": "stream",
     "text": [
      "               solution          f1   f2  f3\n",
      "0  [14, 19, 24, 38, 42]  617.029173  213  27\n",
      "               solution          f1   f2  f3\n",
      "0  [14, 19, 24, 38, 47]  604.632947  208  17\n"
     ]
    },
    {
     "name": "stderr",
     "output_type": "stream",
     "text": [
      "Ejecutando GRASP:   0%|          | 36/100000 [00:14<11:04:36,  2.51it/s]"
     ]
    },
    {
     "name": "stdout",
     "output_type": "stream",
     "text": [
      "             solution          f1   f2  f3\n",
      "0  [6, 7, 10, 29, 44]  597.866206  208  26\n"
     ]
    },
    {
     "name": "stderr",
     "output_type": "stream",
     "text": [
      "Ejecutando GRASP:   0%|          | 55/100000 [00:21<11:19:39,  2.45it/s]"
     ]
    },
    {
     "name": "stdout",
     "output_type": "stream",
     "text": [
      "              solution          f1   f2  f3\n",
      "0  [3, 11, 15, 25, 49]  568.585086  216  29\n"
     ]
    },
    {
     "name": "stderr",
     "output_type": "stream",
     "text": [
      "Ejecutando GRASP:   0%|          | 69/100000 [00:27<10:39:11,  2.61it/s]"
     ]
    },
    {
     "name": "stdout",
     "output_type": "stream",
     "text": [
      "              solution          f1   f2   f3\n",
      "0  [5, 14, 25, 30, 47]  445.004494  275  219\n",
      "              solution         f1   f2   f3\n",
      "0  [5, 14, 28, 30, 47]  412.50697  270  199\n"
     ]
    },
    {
     "name": "stderr",
     "output_type": "stream",
     "text": [
      "Ejecutando GRASP:   0%|          | 85/100000 [00:33<10:32:41,  2.63it/s]"
     ]
    },
    {
     "name": "stdout",
     "output_type": "stream",
     "text": [
      "             solution          f1   f2   f3\n",
      "0  [0, 3, 16, 24, 31]  427.023419  247  103\n"
     ]
    },
    {
     "name": "stderr",
     "output_type": "stream",
     "text": [
      "Ejecutando GRASP:   0%|          | 92/100000 [00:35<11:04:34,  2.51it/s]"
     ]
    },
    {
     "name": "stdout",
     "output_type": "stream",
     "text": [
      "               solution          f1   f2  f3\n",
      "0  [11, 20, 24, 38, 47]  604.632947  207  16\n"
     ]
    },
    {
     "name": "stderr",
     "output_type": "stream",
     "text": [
      "Ejecutando GRASP:   0%|          | 95/100000 [00:37<10:48:27,  2.57it/s]"
     ]
    },
    {
     "name": "stdout",
     "output_type": "stream",
     "text": [
      "              solution          f1   f2  f3\n",
      "0  [3, 18, 21, 28, 31]  481.133038  212  25\n"
     ]
    },
    {
     "name": "stderr",
     "output_type": "stream",
     "text": [
      "Ejecutando GRASP:   0%|          | 104/100000 [00:40<10:03:12,  2.76it/s]"
     ]
    },
    {
     "name": "stdout",
     "output_type": "stream",
     "text": [
      "             solution          f1   f2  f3\n",
      "0  [3, 8, 10, 25, 33]  568.585086  208  21\n"
     ]
    },
    {
     "name": "stderr",
     "output_type": "stream",
     "text": [
      "Ejecutando GRASP:   0%|          | 129/100000 [00:49<10:48:22,  2.57it/s]"
     ]
    },
    {
     "name": "stdout",
     "output_type": "stream",
     "text": [
      "              solution         f1   f2  f3\n",
      "0  [3, 18, 20, 24, 30]  458.80279  209  22\n"
     ]
    },
    {
     "name": "stderr",
     "output_type": "stream",
     "text": [
      "Ejecutando GRASP:   0%|          | 142/100000 [00:55<11:29:46,  2.41it/s]"
     ]
    },
    {
     "name": "stdout",
     "output_type": "stream",
     "text": [
      "             solution          f1   f2  f3\n",
      "0  [1, 7, 23, 40, 47]  604.632947  206  21\n"
     ]
    },
    {
     "name": "stderr",
     "output_type": "stream",
     "text": [
      "Ejecutando GRASP:   0%|          | 155/100000 [01:00<10:27:19,  2.65it/s]"
     ]
    },
    {
     "name": "stdout",
     "output_type": "stream",
     "text": [
      "             solution          f1   f2  f3\n",
      "0  [3, 8, 16, 25, 31]  548.008212  207  13\n"
     ]
    },
    {
     "name": "stderr",
     "output_type": "stream",
     "text": [
      "Ejecutando GRASP:   0%|          | 178/100000 [01:08<10:17:57,  2.69it/s]"
     ]
    },
    {
     "name": "stdout",
     "output_type": "stream",
     "text": [
      "              solution          f1   f2  f3\n",
      "0  [3, 18, 20, 28, 30]  481.133038  208  22\n"
     ]
    },
    {
     "name": "stderr",
     "output_type": "stream",
     "text": [
      "Ejecutando GRASP:   0%|          | 181/100000 [01:09<10:43:21,  2.59it/s]"
     ]
    },
    {
     "name": "stdout",
     "output_type": "stream",
     "text": [
      "              solution          f1   f2   f3\n",
      "0  [4, 16, 24, 30, 48]  422.413305  253  189\n"
     ]
    },
    {
     "name": "stderr",
     "output_type": "stream",
     "text": [
      "Ejecutando GRASP:   0%|          | 222/100000 [01:24<10:05:57,  2.74it/s]"
     ]
    },
    {
     "name": "stdout",
     "output_type": "stream",
     "text": [
      "              solution          f1   f2  f3\n",
      "0  [3, 14, 22, 29, 34]  699.704223  204   7\n"
     ]
    },
    {
     "name": "stderr",
     "output_type": "stream",
     "text": [
      "Ejecutando GRASP:   0%|          | 234/100000 [01:29<10:37:49,  2.61it/s]"
     ]
    },
    {
     "name": "stdout",
     "output_type": "stream",
     "text": [
      "               solution          f1   f2  f3\n",
      "0  [11, 21, 24, 38, 47]  604.632947  206  13\n"
     ]
    },
    {
     "name": "stderr",
     "output_type": "stream",
     "text": [
      "Ejecutando GRASP:   0%|          | 251/100000 [01:35<11:02:03,  2.51it/s]"
     ]
    },
    {
     "name": "stdout",
     "output_type": "stream",
     "text": [
      "              solution          f1   f2  f3\n",
      "0  [3, 12, 16, 28, 36]  481.133038  212  20\n"
     ]
    },
    {
     "name": "stderr",
     "output_type": "stream",
     "text": [
      "Ejecutando GRASP:   0%|          | 254/100000 [01:37<11:11:45,  2.47it/s]"
     ]
    },
    {
     "name": "stdout",
     "output_type": "stream",
     "text": [
      "              solution          f1   f2  f3\n",
      "0  [3, 15, 19, 23, 34]  585.629576  204  11\n"
     ]
    },
    {
     "name": "stderr",
     "output_type": "stream",
     "text": [
      "Ejecutando GRASP:   0%|          | 267/100000 [01:42<10:40:54,  2.59it/s]"
     ]
    },
    {
     "name": "stdout",
     "output_type": "stream",
     "text": [
      "             solution          f1   f2  f3\n",
      "0  [0, 3, 17, 24, 31]  452.443367  238  85\n"
     ]
    },
    {
     "name": "stderr",
     "output_type": "stream",
     "text": [
      "Ejecutando GRASP:   0%|          | 315/100000 [02:00<10:19:30,  2.68it/s]"
     ]
    },
    {
     "name": "stdout",
     "output_type": "stream",
     "text": [
      "             solution          f1   f2   f3\n",
      "0  [4, 8, 13, 24, 30]  442.764046  236  136\n"
     ]
    },
    {
     "name": "stderr",
     "output_type": "stream",
     "text": [
      "Ejecutando GRASP:   0%|          | 346/100000 [02:11<11:04:34,  2.50it/s]"
     ]
    },
    {
     "name": "stdout",
     "output_type": "stream",
     "text": [
      "              solution          f1   f2  f3\n",
      "0  [3, 12, 16, 28, 35]  481.133038  204   9\n"
     ]
    },
    {
     "name": "stderr",
     "output_type": "stream",
     "text": [
      "Ejecutando GRASP:   0%|          | 472/100000 [02:59<10:14:33,  2.70it/s]"
     ]
    },
    {
     "name": "stdout",
     "output_type": "stream",
     "text": [
      "              solution          f1   f2   f3\n",
      "0  [5, 18, 28, 30, 48]  377.005305  300  218\n"
     ]
    },
    {
     "name": "stderr",
     "output_type": "stream",
     "text": [
      "Ejecutando GRASP:   1%|          | 518/100000 [03:16<9:49:57,  2.81it/s] "
     ]
    },
    {
     "name": "stdout",
     "output_type": "stream",
     "text": [
      "              solution          f1   f2   f3\n",
      "0  [5, 15, 28, 30, 47]  377.005305  281  210\n"
     ]
    },
    {
     "name": "stderr",
     "output_type": "stream",
     "text": [
      "Ejecutando GRASP:   1%|          | 544/100000 [03:26<10:04:16,  2.74it/s]"
     ]
    },
    {
     "name": "stdout",
     "output_type": "stream",
     "text": [
      "             solution          f1   f2  f3\n",
      "0  [0, 3, 15, 24, 31]  452.443367  238  84\n"
     ]
    },
    {
     "name": "stderr",
     "output_type": "stream",
     "text": [
      "Ejecutando GRASP:   1%|          | 549/100000 [03:28<10:17:35,  2.68it/s]"
     ]
    },
    {
     "name": "stdout",
     "output_type": "stream",
     "text": [
      "             solution          f1   f2   f3\n",
      "0  [2, 5, 18, 24, 30]  415.120464  261  185\n"
     ]
    },
    {
     "name": "stderr",
     "output_type": "stream",
     "text": [
      "Ejecutando GRASP:   1%|          | 611/100000 [03:51<10:40:33,  2.59it/s]"
     ]
    },
    {
     "name": "stdout",
     "output_type": "stream",
     "text": [
      "             solution          f1   f2   f3\n",
      "0  [2, 5, 14, 24, 31]  415.120464  257  181\n"
     ]
    },
    {
     "name": "stderr",
     "output_type": "stream",
     "text": [
      "Ejecutando GRASP:   1%|          | 915/100000 [05:45<10:21:39,  2.66it/s]"
     ]
    },
    {
     "name": "stdout",
     "output_type": "stream",
     "text": [
      "               solution          f1   f2  f3\n",
      "0  [17, 19, 25, 31, 48]  638.625086  204   7\n"
     ]
    },
    {
     "name": "stderr",
     "output_type": "stream",
     "text": [
      "Ejecutando GRASP:   1%|          | 1159/100000 [07:16<9:58:01,  2.75it/s] "
     ]
    },
    {
     "name": "stdout",
     "output_type": "stream",
     "text": [
      "              solution          f1   f2   f3\n",
      "0  [4, 12, 16, 24, 30]  422.413305  253  168\n"
     ]
    },
    {
     "name": "stderr",
     "output_type": "stream",
     "text": [
      "Ejecutando GRASP:   1%|          | 1213/100000 [07:36<10:07:49,  2.71it/s]"
     ]
    },
    {
     "name": "stdout",
     "output_type": "stream",
     "text": [
      "             solution          f1   f2  f3\n",
      "0  [0, 6, 14, 24, 36]  457.106115  218  40\n"
     ]
    },
    {
     "name": "stderr",
     "output_type": "stream",
     "text": [
      "Ejecutando GRASP:   1%|▏         | 1267/100000 [07:57<10:05:11,  2.72it/s]"
     ]
    },
    {
     "name": "stdout",
     "output_type": "stream",
     "text": [
      "             solution          f1   f2   f3\n",
      "0  [4, 8, 13, 28, 30]  442.764046  229  104\n"
     ]
    },
    {
     "name": "stderr",
     "output_type": "stream",
     "text": [
      "Ejecutando GRASP:   1%|▏         | 1467/100000 [09:13<10:07:27,  2.70it/s]"
     ]
    },
    {
     "name": "stdout",
     "output_type": "stream",
     "text": [
      "              solution          f1   f2   f3\n",
      "0  [4, 11, 18, 28, 30]  424.609232  263  147\n"
     ]
    },
    {
     "name": "stderr",
     "output_type": "stream",
     "text": [
      "Ejecutando GRASP:   2%|▏         | 1706/100000 [10:43<9:43:36,  2.81it/s] "
     ]
    },
    {
     "name": "stdout",
     "output_type": "stream",
     "text": [
      "              solution          f1   f2   f3\n",
      "0  [4, 11, 24, 30, 44]  415.120464  265  174\n"
     ]
    },
    {
     "name": "stderr",
     "output_type": "stream",
     "text": [
      "Ejecutando GRASP:   2%|▏         | 1718/100000 [10:48<9:57:39,  2.74it/s] "
     ]
    },
    {
     "name": "stdout",
     "output_type": "stream",
     "text": [
      "             solution          f1   f2  f3\n",
      "0  [3, 9, 12, 28, 30]  481.133038  203   6\n"
     ]
    },
    {
     "name": "stderr",
     "output_type": "stream",
     "text": [
      "Ejecutando GRASP:   2%|▏         | 1874/100000 [11:47<12:06:42,  2.25it/s]"
     ]
    },
    {
     "name": "stdout",
     "output_type": "stream",
     "text": [
      "             solution          f1   f2   f3\n",
      "0  [2, 5, 16, 24, 30]  422.413305  246  170\n"
     ]
    },
    {
     "name": "stderr",
     "output_type": "stream",
     "text": [
      "Ejecutando GRASP:   2%|▏         | 2347/100000 [14:46<10:14:20,  2.65it/s]"
     ]
    },
    {
     "name": "stdout",
     "output_type": "stream",
     "text": [
      "             solution          f1   f2   f3\n",
      "0  [2, 5, 16, 28, 31]  422.413305  265  166\n"
     ]
    },
    {
     "name": "stderr",
     "output_type": "stream",
     "text": [
      "Ejecutando GRASP:   2%|▏         | 2406/100000 [15:08<9:56:36,  2.73it/s] "
     ]
    },
    {
     "name": "stdout",
     "output_type": "stream",
     "text": [
      "              solution          f1   f2   f3\n",
      "0  [4, 14, 24, 30, 48]  415.120464  254  190\n"
     ]
    },
    {
     "name": "stderr",
     "output_type": "stream",
     "text": [
      "Ejecutando GRASP:   3%|▎         | 2502/100000 [15:44<10:00:25,  2.71it/s]"
     ]
    },
    {
     "name": "stdout",
     "output_type": "stream",
     "text": [
      "             solution          f1   f2   f3\n",
      "0  [2, 5, 18, 28, 30]  379.969736  275  176\n"
     ]
    },
    {
     "name": "stderr",
     "output_type": "stream",
     "text": [
      "Ejecutando GRASP:   3%|▎         | 2579/100000 [16:13<9:52:47,  2.74it/s] "
     ]
    },
    {
     "name": "stdout",
     "output_type": "stream",
     "text": [
      "              solution          f1   f2   f3\n",
      "0  [4, 10, 13, 28, 30]  442.764046  233  103\n"
     ]
    },
    {
     "name": "stderr",
     "output_type": "stream",
     "text": [
      "Ejecutando GRASP:   3%|▎         | 2629/100000 [16:32<10:11:00,  2.66it/s]"
     ]
    },
    {
     "name": "stdout",
     "output_type": "stream",
     "text": [
      "              solution          f1   f2   f3\n",
      "0  [4, 12, 17, 28, 30]  413.358198  277  172\n"
     ]
    },
    {
     "name": "stderr",
     "output_type": "stream",
     "text": [
      "Ejecutando GRASP:   3%|▎         | 3391/100000 [21:20<10:37:00,  2.53it/s]"
     ]
    },
    {
     "name": "stdout",
     "output_type": "stream",
     "text": [
      "              solution          f1   f2  f3\n",
      "0  [4, 13, 14, 28, 31]  450.699456  237  93\n",
      "             solution          f1   f2   f3\n",
      "0  [2, 4, 14, 28, 31]  413.358198  265  173\n"
     ]
    },
    {
     "name": "stderr",
     "output_type": "stream",
     "text": [
      "Ejecutando GRASP:   4%|▎         | 3709/100000 [23:24<9:59:18,  2.68it/s] "
     ]
    },
    {
     "name": "stdout",
     "output_type": "stream",
     "text": [
      "             solution         f1   f2   f3\n",
      "0  [2, 5, 14, 28, 30]  412.50697  262  163\n"
     ]
    },
    {
     "name": "stderr",
     "output_type": "stream",
     "text": [
      "Ejecutando GRASP:   4%|▍         | 4094/100000 [25:50<9:53:06,  2.70it/s] "
     ]
    },
    {
     "name": "stdout",
     "output_type": "stream",
     "text": [
      "             solution          f1   f2   f3\n",
      "0  [4, 8, 14, 24, 30]  433.416659  239  139\n"
     ]
    },
    {
     "name": "stderr",
     "output_type": "stream",
     "text": [
      "Ejecutando GRASP:   4%|▍         | 4313/100000 [27:12<9:46:54,  2.72it/s] "
     ]
    },
    {
     "name": "stdout",
     "output_type": "stream",
     "text": [
      "              solution          f1   f2   f3\n",
      "0  [4, 11, 17, 24, 30]  415.120464  254  163\n"
     ]
    },
    {
     "name": "stderr",
     "output_type": "stream",
     "text": [
      "Ejecutando GRASP:   5%|▍         | 4511/100000 [28:27<9:54:00,  2.68it/s] "
     ]
    },
    {
     "name": "stdout",
     "output_type": "stream",
     "text": [
      "             solution          f1   f2   f3\n",
      "0  [2, 5, 17, 28, 30]  379.969736  271  172\n"
     ]
    },
    {
     "name": "stderr",
     "output_type": "stream",
     "text": [
      "Ejecutando GRASP:   5%|▍         | 4784/100000 [30:12<10:02:06,  2.64it/s]"
     ]
    },
    {
     "name": "stdout",
     "output_type": "stream",
     "text": [
      "            solution          f1   f2   f3\n",
      "0  [1, 2, 5, 28, 30]  381.790518  269  170\n"
     ]
    },
    {
     "name": "stderr",
     "output_type": "stream",
     "text": [
      "Ejecutando GRASP:   5%|▍         | 4807/100000 [30:21<9:42:21,  2.72it/s] "
     ]
    },
    {
     "name": "stdout",
     "output_type": "stream",
     "text": [
      "              solution          f1   f2   f3\n",
      "0  [5, 15, 28, 30, 48]  377.005305  284  202\n"
     ]
    },
    {
     "name": "stderr",
     "output_type": "stream",
     "text": [
      "Ejecutando GRASP:   6%|▌         | 5998/100000 [37:59<9:53:27,  2.64it/s] "
     ]
    },
    {
     "name": "stdout",
     "output_type": "stream",
     "text": [
      "             solution          f1   f2   f3\n",
      "0  [2, 4, 14, 24, 31]  415.120464  248  174\n"
     ]
    },
    {
     "name": "stderr",
     "output_type": "stream",
     "text": [
      "Ejecutando GRASP:   6%|▋         | 6331/100000 [40:06<9:32:01,  2.73it/s] "
     ]
    },
    {
     "name": "stdout",
     "output_type": "stream",
     "text": [
      "             solution          f1   f2   f3\n",
      "0  [2, 5, 16, 28, 30]  422.413305  249  150\n"
     ]
    },
    {
     "name": "stderr",
     "output_type": "stream",
     "text": [
      "Ejecutando GRASP:   7%|▋         | 6912/100000 [43:44<9:15:47,  2.79it/s] "
     ]
    },
    {
     "name": "stdout",
     "output_type": "stream",
     "text": [
      "              solution          f1   f2   f3\n",
      "0  [4, 12, 14, 28, 30]  413.358198  267  162\n"
     ]
    },
    {
     "name": "stderr",
     "output_type": "stream",
     "text": [
      "Ejecutando GRASP:   7%|▋         | 7330/100000 [46:21<9:49:05,  2.62it/s] "
     ]
    },
    {
     "name": "stdout",
     "output_type": "stream",
     "text": [
      "             solution          f1   f2   f3\n",
      "0  [0, 3, 16, 24, 30]  424.721085  270  130\n"
     ]
    },
    {
     "name": "stderr",
     "output_type": "stream",
     "text": [
      "Ejecutando GRASP:   7%|▋         | 7442/100000 [47:04<9:55:28,  2.59it/s] "
     ]
    },
    {
     "name": "stdout",
     "output_type": "stream",
     "text": [
      "              solution          f1   f2  f3\n",
      "0  [4, 13, 16, 28, 31]  450.699456  227  83\n"
     ]
    },
    {
     "name": "stderr",
     "output_type": "stream",
     "text": [
      "Ejecutando GRASP:   9%|▊         | 8556/100000 [54:04<10:26:13,  2.43it/s]"
     ]
    },
    {
     "name": "stdout",
     "output_type": "stream",
     "text": [
      "              solution          f1   f2   f3\n",
      "0  [4, 10, 14, 28, 30]  433.416659  243  113\n"
     ]
    },
    {
     "name": "stderr",
     "output_type": "stream",
     "text": [
      "Ejecutando GRASP:   9%|▉         | 8973/100000 [56:41<9:33:34,  2.65it/s] "
     ]
    },
    {
     "name": "stdout",
     "output_type": "stream",
     "text": [
      "              solution          f1   f2   f3\n",
      "0  [4, 11, 17, 28, 30]  424.609232  257  141\n"
     ]
    },
    {
     "name": "stderr",
     "output_type": "stream",
     "text": [
      "Ejecutando GRASP:  11%|█         | 10644/100000 [1:07:09<8:55:09,  2.78it/s] "
     ]
    },
    {
     "name": "stdout",
     "output_type": "stream",
     "text": [
      "              solution          f1   f2   f3\n",
      "0  [4, 11, 16, 28, 31]  441.834811  241  125\n"
     ]
    },
    {
     "name": "stderr",
     "output_type": "stream",
     "text": [
      "Ejecutando GRASP:  11%|█         | 10992/100000 [1:09:20<8:54:28,  2.78it/s] "
     ]
    },
    {
     "name": "stdout",
     "output_type": "stream",
     "text": [
      "             solution          f1   f2   f3\n",
      "0  [2, 4, 15, 28, 30]  413.358198  252  160\n"
     ]
    },
    {
     "name": "stderr",
     "output_type": "stream",
     "text": [
      "Ejecutando GRASP:  12%|█▏        | 11990/100000 [1:15:33<9:20:36,  2.62it/s] "
     ]
    },
    {
     "name": "stdout",
     "output_type": "stream",
     "text": [
      "             solution          f1   f2   f3\n",
      "0  [2, 4, 16, 28, 30]  422.413305  244  152\n"
     ]
    },
    {
     "name": "stderr",
     "output_type": "stream",
     "text": [
      "Ejecutando GRASP:  12%|█▏        | 12218/100000 [1:16:59<9:03:53,  2.69it/s]"
     ]
    },
    {
     "name": "stdout",
     "output_type": "stream",
     "text": [
      "             solution          f1   f2   f3\n",
      "0  [2, 4, 16, 24, 31]  422.413305  240  166\n"
     ]
    },
    {
     "name": "stderr",
     "output_type": "stream",
     "text": [
      "Ejecutando GRASP:  17%|█▋        | 17140/100000 [1:47:58<8:42:01,  2.65it/s] \n"
     ]
    },
    {
     "ename": "KeyboardInterrupt",
     "evalue": "",
     "output_type": "error",
     "traceback": [
      "\u001b[1;31m---------------------------------------------------------------------------\u001b[0m",
      "\u001b[1;31mKeyboardInterrupt\u001b[0m                         Traceback (most recent call last)",
      "Cell \u001b[1;32mIn[12], line 4\u001b[0m\n\u001b[0;32m      1\u001b[0m \u001b[38;5;28;01mfrom\u001b[39;00m \u001b[38;5;21;01mtqdm\u001b[39;00m \u001b[38;5;28;01mimport\u001b[39;00m tqdm\n\u001b[0;32m      3\u001b[0m \u001b[38;5;28;01mfor\u001b[39;00m i \u001b[38;5;129;01min\u001b[39;00m tqdm(\u001b[38;5;28mrange\u001b[39m(\u001b[38;5;241m100000\u001b[39m), desc\u001b[38;5;241m=\u001b[39m\u001b[38;5;124m\"\u001b[39m\u001b[38;5;124mEjecutando GRASP\u001b[39m\u001b[38;5;124m\"\u001b[39m):\n\u001b[1;32m----> 4\u001b[0m     \u001b[43malgoritmo_grasp\u001b[49m\u001b[38;5;241;43m.\u001b[39;49m\u001b[43mrun\u001b[49m\u001b[43m(\u001b[49m\u001b[43m)\u001b[49m\n",
      "File \u001b[1;32mc:\\Users\\User\\Desktop\\2ºañomaster\\TFM\\TFM_optimization\\tools\\grasp_2.py:212\u001b[0m, in \u001b[0;36mGrasp.run\u001b[1;34m(self)\u001b[0m\n\u001b[0;32m    210\u001b[0m     f3_value \u001b[38;5;241m=\u001b[39m \u001b[38;5;28mself\u001b[39m\u001b[38;5;241m.\u001b[39mf3(solution)\n\u001b[0;32m    211\u001b[0m \u001b[38;5;28;01melif\u001b[39;00m first_name \u001b[38;5;241m==\u001b[39m \u001b[38;5;124m\"\u001b[39m\u001b[38;5;124mf2\u001b[39m\u001b[38;5;124m\"\u001b[39m:\n\u001b[1;32m--> 212\u001b[0m     solution, f2_value \u001b[38;5;241m=\u001b[39m \u001b[43mfirst_ls\u001b[49m\u001b[43m(\u001b[49m\u001b[43msolution\u001b[49m\u001b[43m,\u001b[49m\u001b[43m \u001b[49m\u001b[43mf2_value\u001b[49m\u001b[43m)\u001b[49m\n\u001b[0;32m    213\u001b[0m     f1_value \u001b[38;5;241m=\u001b[39m \u001b[38;5;28mself\u001b[39m\u001b[38;5;241m.\u001b[39mf1(solution)\n\u001b[0;32m    214\u001b[0m     f3_value \u001b[38;5;241m=\u001b[39m \u001b[38;5;28mself\u001b[39m\u001b[38;5;241m.\u001b[39mf3(solution)\n",
      "File \u001b[1;32mc:\\Users\\User\\Desktop\\2ºañomaster\\TFM\\TFM_optimization\\tools\\grasp_2.py:99\u001b[0m, in \u001b[0;36mGrasp.local_search_f2\u001b[1;34m(self, solution, value)\u001b[0m\n\u001b[0;32m     97\u001b[0m temp_solution \u001b[38;5;241m=\u001b[39m solution[:]\n\u001b[0;32m     98\u001b[0m temp_solution[i] \u001b[38;5;241m=\u001b[39m j\n\u001b[1;32m---> 99\u001b[0m temp_objective \u001b[38;5;241m=\u001b[39m \u001b[38;5;28;43mself\u001b[39;49m\u001b[38;5;241;43m.\u001b[39;49m\u001b[43mmax_demand_per_supply\u001b[49m\u001b[43m(\u001b[49m\u001b[43mtemp_solution\u001b[49m\u001b[43m)\u001b[49m\n\u001b[0;32m    101\u001b[0m \u001b[38;5;28;01mif\u001b[39;00m temp_objective \u001b[38;5;241m<\u001b[39m best_objective:\n\u001b[0;32m    102\u001b[0m     best_objective \u001b[38;5;241m=\u001b[39m temp_objective\n",
      "File \u001b[1;32mc:\\Users\\User\\Desktop\\2ºañomaster\\TFM\\TFM_optimization\\tools\\grasp_2.py:83\u001b[0m, in \u001b[0;36mGrasp.max_demand_per_supply\u001b[1;34m(self, supply_selected)\u001b[0m\n\u001b[0;32m     79\u001b[0m \u001b[38;5;28;01mdef\u001b[39;00m \u001b[38;5;21mmax_demand_per_supply\u001b[39m(\u001b[38;5;28mself\u001b[39m, supply_selected):\n\u001b[0;32m     80\u001b[0m \u001b[38;5;250m    \u001b[39m\u001b[38;5;124;03m\"\"\"\u001b[39;00m\n\u001b[0;32m     81\u001b[0m \u001b[38;5;124;03m    Calcula el número máximo de demandas asignadas a un único punto de suministro.\u001b[39;00m\n\u001b[0;32m     82\u001b[0m \u001b[38;5;124;03m    \"\"\"\u001b[39;00m\n\u001b[1;32m---> 83\u001b[0m     asignacion \u001b[38;5;241m=\u001b[39m \u001b[38;5;28;43mself\u001b[39;49m\u001b[38;5;241;43m.\u001b[39;49m\u001b[43mdf_distances_demand\u001b[49m\u001b[38;5;241;43m.\u001b[39;49m\u001b[43miloc\u001b[49m\u001b[43m[\u001b[49m\u001b[43m:\u001b[49m\u001b[43m,\u001b[49m\u001b[43m \u001b[49m\u001b[43msupply_selected\u001b[49m\u001b[43m]\u001b[49m\u001b[38;5;241;43m.\u001b[39;49m\u001b[43midxmin\u001b[49m\u001b[43m(\u001b[49m\u001b[43maxis\u001b[49m\u001b[38;5;241;43m=\u001b[39;49m\u001b[38;5;241;43m1\u001b[39;49m\u001b[43m)\u001b[49m\n\u001b[0;32m     84\u001b[0m     \u001b[38;5;28;01mreturn\u001b[39;00m asignacion\u001b[38;5;241m.\u001b[39mvalue_counts()\u001b[38;5;241m.\u001b[39mmax()\n",
      "File \u001b[1;32mc:\\Users\\User\\anaconda3\\envs\\Optimization\\Lib\\site-packages\\pandas\\core\\frame.py:11853\u001b[0m, in \u001b[0;36mDataFrame.idxmin\u001b[1;34m(self, axis, skipna, numeric_only)\u001b[0m\n\u001b[0;32m  11850\u001b[0m \u001b[38;5;28;01melse\u001b[39;00m:\n\u001b[0;32m  11851\u001b[0m     data \u001b[38;5;241m=\u001b[39m \u001b[38;5;28mself\u001b[39m\n\u001b[1;32m> 11853\u001b[0m res \u001b[38;5;241m=\u001b[39m \u001b[43mdata\u001b[49m\u001b[38;5;241;43m.\u001b[39;49m\u001b[43m_reduce\u001b[49m\u001b[43m(\u001b[49m\n\u001b[0;32m  11854\u001b[0m \u001b[43m    \u001b[49m\u001b[43mnanops\u001b[49m\u001b[38;5;241;43m.\u001b[39;49m\u001b[43mnanargmin\u001b[49m\u001b[43m,\u001b[49m\u001b[43m \u001b[49m\u001b[38;5;124;43m\"\u001b[39;49m\u001b[38;5;124;43margmin\u001b[39;49m\u001b[38;5;124;43m\"\u001b[39;49m\u001b[43m,\u001b[49m\u001b[43m \u001b[49m\u001b[43maxis\u001b[49m\u001b[38;5;241;43m=\u001b[39;49m\u001b[43maxis\u001b[49m\u001b[43m,\u001b[49m\u001b[43m \u001b[49m\u001b[43mskipna\u001b[49m\u001b[38;5;241;43m=\u001b[39;49m\u001b[43mskipna\u001b[49m\u001b[43m,\u001b[49m\u001b[43m \u001b[49m\u001b[43mnumeric_only\u001b[49m\u001b[38;5;241;43m=\u001b[39;49m\u001b[38;5;28;43;01mFalse\u001b[39;49;00m\n\u001b[0;32m  11855\u001b[0m \u001b[43m\u001b[49m\u001b[43m)\u001b[49m\n\u001b[0;32m  11856\u001b[0m indices \u001b[38;5;241m=\u001b[39m res\u001b[38;5;241m.\u001b[39m_values\n\u001b[0;32m  11857\u001b[0m \u001b[38;5;66;03m# indices will always be np.ndarray since axis is not N\u001b[39;00m\n",
      "File \u001b[1;32mc:\\Users\\User\\anaconda3\\envs\\Optimization\\Lib\\site-packages\\pandas\\core\\frame.py:11562\u001b[0m, in \u001b[0;36mDataFrame._reduce\u001b[1;34m(self, op, name, axis, skipna, numeric_only, filter_type, **kwds)\u001b[0m\n\u001b[0;32m  11558\u001b[0m     df \u001b[38;5;241m=\u001b[39m df\u001b[38;5;241m.\u001b[39mT\n\u001b[0;32m  11560\u001b[0m \u001b[38;5;66;03m# After possibly _get_data and transposing, we are now in the\u001b[39;00m\n\u001b[0;32m  11561\u001b[0m \u001b[38;5;66;03m#  simple case where we can use BlockManager.reduce\u001b[39;00m\n\u001b[1;32m> 11562\u001b[0m res \u001b[38;5;241m=\u001b[39m \u001b[43mdf\u001b[49m\u001b[38;5;241;43m.\u001b[39;49m\u001b[43m_mgr\u001b[49m\u001b[38;5;241;43m.\u001b[39;49m\u001b[43mreduce\u001b[49m\u001b[43m(\u001b[49m\u001b[43mblk_func\u001b[49m\u001b[43m)\u001b[49m\n\u001b[0;32m  11563\u001b[0m out \u001b[38;5;241m=\u001b[39m df\u001b[38;5;241m.\u001b[39m_constructor_from_mgr(res, axes\u001b[38;5;241m=\u001b[39mres\u001b[38;5;241m.\u001b[39maxes)\u001b[38;5;241m.\u001b[39miloc[\u001b[38;5;241m0\u001b[39m]\n\u001b[0;32m  11564\u001b[0m \u001b[38;5;28;01mif\u001b[39;00m out_dtype \u001b[38;5;129;01mis\u001b[39;00m \u001b[38;5;129;01mnot\u001b[39;00m \u001b[38;5;28;01mNone\u001b[39;00m \u001b[38;5;129;01mand\u001b[39;00m out\u001b[38;5;241m.\u001b[39mdtype \u001b[38;5;241m!=\u001b[39m \u001b[38;5;124m\"\u001b[39m\u001b[38;5;124mboolean\u001b[39m\u001b[38;5;124m\"\u001b[39m:\n",
      "File \u001b[1;32mc:\\Users\\User\\anaconda3\\envs\\Optimization\\Lib\\site-packages\\pandas\\core\\internals\\managers.py:1500\u001b[0m, in \u001b[0;36mBlockManager.reduce\u001b[1;34m(self, func)\u001b[0m\n\u001b[0;32m   1498\u001b[0m res_blocks: \u001b[38;5;28mlist\u001b[39m[Block] \u001b[38;5;241m=\u001b[39m []\n\u001b[0;32m   1499\u001b[0m \u001b[38;5;28;01mfor\u001b[39;00m blk \u001b[38;5;129;01min\u001b[39;00m \u001b[38;5;28mself\u001b[39m\u001b[38;5;241m.\u001b[39mblocks:\n\u001b[1;32m-> 1500\u001b[0m     nbs \u001b[38;5;241m=\u001b[39m \u001b[43mblk\u001b[49m\u001b[38;5;241;43m.\u001b[39;49m\u001b[43mreduce\u001b[49m\u001b[43m(\u001b[49m\u001b[43mfunc\u001b[49m\u001b[43m)\u001b[49m\n\u001b[0;32m   1501\u001b[0m     res_blocks\u001b[38;5;241m.\u001b[39mextend(nbs)\n\u001b[0;32m   1503\u001b[0m index \u001b[38;5;241m=\u001b[39m Index([\u001b[38;5;28;01mNone\u001b[39;00m])  \u001b[38;5;66;03m# placeholder\u001b[39;00m\n",
      "File \u001b[1;32mc:\\Users\\User\\anaconda3\\envs\\Optimization\\Lib\\site-packages\\pandas\\core\\internals\\blocks.py:404\u001b[0m, in \u001b[0;36mBlock.reduce\u001b[1;34m(self, func)\u001b[0m\n\u001b[0;32m    398\u001b[0m \u001b[38;5;129m@final\u001b[39m\n\u001b[0;32m    399\u001b[0m \u001b[38;5;28;01mdef\u001b[39;00m \u001b[38;5;21mreduce\u001b[39m(\u001b[38;5;28mself\u001b[39m, func) \u001b[38;5;241m-\u001b[39m\u001b[38;5;241m>\u001b[39m \u001b[38;5;28mlist\u001b[39m[Block]:\n\u001b[0;32m    400\u001b[0m     \u001b[38;5;66;03m# We will apply the function and reshape the result into a single-row\u001b[39;00m\n\u001b[0;32m    401\u001b[0m     \u001b[38;5;66;03m#  Block with the same mgr_locs; squeezing will be done at a higher level\u001b[39;00m\n\u001b[0;32m    402\u001b[0m     \u001b[38;5;28;01massert\u001b[39;00m \u001b[38;5;28mself\u001b[39m\u001b[38;5;241m.\u001b[39mndim \u001b[38;5;241m==\u001b[39m \u001b[38;5;241m2\u001b[39m\n\u001b[1;32m--> 404\u001b[0m     result \u001b[38;5;241m=\u001b[39m \u001b[43mfunc\u001b[49m\u001b[43m(\u001b[49m\u001b[38;5;28;43mself\u001b[39;49m\u001b[38;5;241;43m.\u001b[39;49m\u001b[43mvalues\u001b[49m\u001b[43m)\u001b[49m\n\u001b[0;32m    406\u001b[0m     \u001b[38;5;28;01mif\u001b[39;00m \u001b[38;5;28mself\u001b[39m\u001b[38;5;241m.\u001b[39mvalues\u001b[38;5;241m.\u001b[39mndim \u001b[38;5;241m==\u001b[39m \u001b[38;5;241m1\u001b[39m:\n\u001b[0;32m    407\u001b[0m         res_values \u001b[38;5;241m=\u001b[39m result\n",
      "File \u001b[1;32mc:\\Users\\User\\anaconda3\\envs\\Optimization\\Lib\\site-packages\\pandas\\core\\frame.py:11481\u001b[0m, in \u001b[0;36mDataFrame._reduce.<locals>.blk_func\u001b[1;34m(values, axis)\u001b[0m\n\u001b[0;32m  11479\u001b[0m         \u001b[38;5;28;01mreturn\u001b[39;00m np\u001b[38;5;241m.\u001b[39marray([result])\n\u001b[0;32m  11480\u001b[0m \u001b[38;5;28;01melse\u001b[39;00m:\n\u001b[1;32m> 11481\u001b[0m     \u001b[38;5;28;01mreturn\u001b[39;00m \u001b[43mop\u001b[49m\u001b[43m(\u001b[49m\u001b[43mvalues\u001b[49m\u001b[43m,\u001b[49m\u001b[43m \u001b[49m\u001b[43maxis\u001b[49m\u001b[38;5;241;43m=\u001b[39;49m\u001b[43maxis\u001b[49m\u001b[43m,\u001b[49m\u001b[43m \u001b[49m\u001b[43mskipna\u001b[49m\u001b[38;5;241;43m=\u001b[39;49m\u001b[43mskipna\u001b[49m\u001b[43m,\u001b[49m\u001b[43m \u001b[49m\u001b[38;5;241;43m*\u001b[39;49m\u001b[38;5;241;43m*\u001b[39;49m\u001b[43mkwds\u001b[49m\u001b[43m)\u001b[49m\n",
      "File \u001b[1;32mc:\\Users\\User\\anaconda3\\envs\\Optimization\\Lib\\site-packages\\pandas\\core\\nanops.py:1194\u001b[0m, in \u001b[0;36mnanargmin\u001b[1;34m(values, axis, skipna, mask)\u001b[0m\n\u001b[0;32m   1162\u001b[0m \u001b[38;5;250m\u001b[39m\u001b[38;5;124;03m\"\"\"\u001b[39;00m\n\u001b[0;32m   1163\u001b[0m \u001b[38;5;124;03mParameters\u001b[39;00m\n\u001b[0;32m   1164\u001b[0m \u001b[38;5;124;03m----------\u001b[39;00m\n\u001b[1;32m   (...)\u001b[0m\n\u001b[0;32m   1191\u001b[0m \u001b[38;5;124;03marray([0, 0, 1, 1])\u001b[39;00m\n\u001b[0;32m   1192\u001b[0m \u001b[38;5;124;03m\"\"\"\u001b[39;00m\n\u001b[0;32m   1193\u001b[0m values, mask \u001b[38;5;241m=\u001b[39m _get_values(values, \u001b[38;5;28;01mTrue\u001b[39;00m, fill_value_typ\u001b[38;5;241m=\u001b[39m\u001b[38;5;124m\"\u001b[39m\u001b[38;5;124m+inf\u001b[39m\u001b[38;5;124m\"\u001b[39m, mask\u001b[38;5;241m=\u001b[39mmask)\n\u001b[1;32m-> 1194\u001b[0m result \u001b[38;5;241m=\u001b[39m \u001b[43mvalues\u001b[49m\u001b[38;5;241;43m.\u001b[39;49m\u001b[43margmin\u001b[49m\u001b[43m(\u001b[49m\u001b[43maxis\u001b[49m\u001b[43m)\u001b[49m\n\u001b[0;32m   1195\u001b[0m \u001b[38;5;66;03m# error: Argument 1 to \"_maybe_arg_null_out\" has incompatible type \"Any |\u001b[39;00m\n\u001b[0;32m   1196\u001b[0m \u001b[38;5;66;03m# signedinteger[Any]\"; expected \"ndarray[Any, Any]\"\u001b[39;00m\n\u001b[0;32m   1197\u001b[0m result \u001b[38;5;241m=\u001b[39m _maybe_arg_null_out(result, axis, mask, skipna)  \u001b[38;5;66;03m# type: ignore[arg-type]\u001b[39;00m\n",
      "\u001b[1;31mKeyboardInterrupt\u001b[0m: "
     ]
    }
   ],
   "source": [
    "for i in tqdm(range(100000), desc=\"Ejecutando GRASP\"):\n",
    "    algoritmo_grasp.run()"
   ]
  },
  {
   "cell_type": "markdown",
   "id": "1651f520",
   "metadata": {},
   "source": [
    "# Comparar soluciones con el pareto front"
   ]
  },
  {
   "cell_type": "code",
   "execution_count": 17,
   "id": "39bb1fc4",
   "metadata": {},
   "outputs": [
    {
     "data": {
      "text/html": [
       "\n",
       "<div style=\"display: flex; gap: 30px;\">\n",
       "  <div style=\"flex: 1;\">\n",
       "    <h3>Soluciones CSV (con ID)</h3>\n",
       "    <style type=\"text/css\">\n",
       "#T_51cef_row0_col0, #T_51cef_row0_col1, #T_51cef_row0_col2, #T_51cef_row0_col3, #T_51cef_row3_col0, #T_51cef_row3_col1, #T_51cef_row3_col2, #T_51cef_row3_col3, #T_51cef_row4_col0, #T_51cef_row4_col1, #T_51cef_row4_col2, #T_51cef_row4_col3 {\n",
       "  background-color: green;\n",
       "}\n",
       "#T_51cef_row1_col0, #T_51cef_row1_col1, #T_51cef_row1_col2, #T_51cef_row1_col3, #T_51cef_row6_col0, #T_51cef_row6_col1, #T_51cef_row6_col2, #T_51cef_row6_col3, #T_51cef_row7_col0, #T_51cef_row7_col1, #T_51cef_row7_col2, #T_51cef_row7_col3, #T_51cef_row8_col0, #T_51cef_row8_col1, #T_51cef_row8_col2, #T_51cef_row8_col3, #T_51cef_row9_col0, #T_51cef_row9_col1, #T_51cef_row9_col2, #T_51cef_row9_col3, #T_51cef_row10_col0, #T_51cef_row10_col1, #T_51cef_row10_col2, #T_51cef_row10_col3, #T_51cef_row12_col0, #T_51cef_row12_col1, #T_51cef_row12_col2, #T_51cef_row12_col3, #T_51cef_row13_col0, #T_51cef_row13_col1, #T_51cef_row13_col2, #T_51cef_row13_col3, #T_51cef_row14_col0, #T_51cef_row14_col1, #T_51cef_row14_col2, #T_51cef_row14_col3, #T_51cef_row15_col0, #T_51cef_row15_col1, #T_51cef_row15_col2, #T_51cef_row15_col3, #T_51cef_row17_col0, #T_51cef_row17_col1, #T_51cef_row17_col2, #T_51cef_row17_col3, #T_51cef_row18_col0, #T_51cef_row18_col1, #T_51cef_row18_col2, #T_51cef_row18_col3, #T_51cef_row19_col0, #T_51cef_row19_col1, #T_51cef_row19_col2, #T_51cef_row19_col3, #T_51cef_row20_col0, #T_51cef_row20_col1, #T_51cef_row20_col2, #T_51cef_row20_col3, #T_51cef_row21_col0, #T_51cef_row21_col1, #T_51cef_row21_col2, #T_51cef_row21_col3 {\n",
       "  background-color: red;\n",
       "}\n",
       "#T_51cef_row2_col0, #T_51cef_row2_col1, #T_51cef_row2_col2, #T_51cef_row2_col3, #T_51cef_row5_col0, #T_51cef_row5_col1, #T_51cef_row5_col2, #T_51cef_row5_col3, #T_51cef_row11_col0, #T_51cef_row11_col1, #T_51cef_row11_col2, #T_51cef_row11_col3, #T_51cef_row16_col0, #T_51cef_row16_col1, #T_51cef_row16_col2, #T_51cef_row16_col3 {\n",
       "  background-color: blue;\n",
       "}\n",
       "</style>\n",
       "<table id=\"T_51cef\">\n",
       "  <thead>\n",
       "    <tr>\n",
       "      <th class=\"blank level0\" >&nbsp;</th>\n",
       "      <th id=\"T_51cef_level0_col0\" class=\"col_heading level0 col0\" >solution</th>\n",
       "      <th id=\"T_51cef_level0_col1\" class=\"col_heading level0 col1\" >f1</th>\n",
       "      <th id=\"T_51cef_level0_col2\" class=\"col_heading level0 col2\" >f2</th>\n",
       "      <th id=\"T_51cef_level0_col3\" class=\"col_heading level0 col3\" >f3</th>\n",
       "    </tr>\n",
       "  </thead>\n",
       "  <tbody>\n",
       "    <tr>\n",
       "      <th id=\"T_51cef_level0_row0\" class=\"row_heading level0 row0\" >0</th>\n",
       "      <td id=\"T_51cef_row0_col0\" class=\"data row0 col0\" >[0, 3, 16, 24, 31]</td>\n",
       "      <td id=\"T_51cef_row0_col1\" class=\"data row0 col1\" >427.000000</td>\n",
       "      <td id=\"T_51cef_row0_col2\" class=\"data row0 col2\" >247</td>\n",
       "      <td id=\"T_51cef_row0_col3\" class=\"data row0 col3\" >103</td>\n",
       "    </tr>\n",
       "    <tr>\n",
       "      <th id=\"T_51cef_level0_row1\" class=\"row_heading level0 row1\" >1</th>\n",
       "      <td id=\"T_51cef_row1_col0\" class=\"data row1 col0\" >[3, 18, 20, 24, 30]</td>\n",
       "      <td id=\"T_51cef_row1_col1\" class=\"data row1 col1\" >459.000000</td>\n",
       "      <td id=\"T_51cef_row1_col2\" class=\"data row1 col2\" >209</td>\n",
       "      <td id=\"T_51cef_row1_col3\" class=\"data row1 col3\" >22</td>\n",
       "    </tr>\n",
       "    <tr>\n",
       "      <th id=\"T_51cef_level0_row2\" class=\"row_heading level0 row2\" >2</th>\n",
       "      <td id=\"T_51cef_row2_col0\" class=\"data row2 col0\" >[5, 15, 28, 30, 47]</td>\n",
       "      <td id=\"T_51cef_row2_col1\" class=\"data row2 col1\" >377.000000</td>\n",
       "      <td id=\"T_51cef_row2_col2\" class=\"data row2 col2\" >281</td>\n",
       "      <td id=\"T_51cef_row2_col3\" class=\"data row2 col3\" >210</td>\n",
       "    </tr>\n",
       "    <tr>\n",
       "      <th id=\"T_51cef_level0_row3\" class=\"row_heading level0 row3\" >3</th>\n",
       "      <td id=\"T_51cef_row3_col0\" class=\"data row3 col0\" >[0, 6, 14, 24, 36]</td>\n",
       "      <td id=\"T_51cef_row3_col1\" class=\"data row3 col1\" >457.000000</td>\n",
       "      <td id=\"T_51cef_row3_col2\" class=\"data row3 col2\" >218</td>\n",
       "      <td id=\"T_51cef_row3_col3\" class=\"data row3 col3\" >40</td>\n",
       "    </tr>\n",
       "    <tr>\n",
       "      <th id=\"T_51cef_level0_row4\" class=\"row_heading level0 row4\" >4</th>\n",
       "      <td id=\"T_51cef_row4_col0\" class=\"data row4 col0\" >[4, 8, 13, 28, 30]</td>\n",
       "      <td id=\"T_51cef_row4_col1\" class=\"data row4 col1\" >443.000000</td>\n",
       "      <td id=\"T_51cef_row4_col2\" class=\"data row4 col2\" >229</td>\n",
       "      <td id=\"T_51cef_row4_col3\" class=\"data row4 col3\" >104</td>\n",
       "    </tr>\n",
       "    <tr>\n",
       "      <th id=\"T_51cef_level0_row5\" class=\"row_heading level0 row5\" >5</th>\n",
       "      <td id=\"T_51cef_row5_col0\" class=\"data row5 col0\" >[3, 9, 12, 28, 30]</td>\n",
       "      <td id=\"T_51cef_row5_col1\" class=\"data row5 col1\" >481.000000</td>\n",
       "      <td id=\"T_51cef_row5_col2\" class=\"data row5 col2\" >203</td>\n",
       "      <td id=\"T_51cef_row5_col3\" class=\"data row5 col3\" >6</td>\n",
       "    </tr>\n",
       "    <tr>\n",
       "      <th id=\"T_51cef_level0_row6\" class=\"row_heading level0 row6\" >6</th>\n",
       "      <td id=\"T_51cef_row6_col0\" class=\"data row6 col0\" >[4, 10, 13, 28, 30]</td>\n",
       "      <td id=\"T_51cef_row6_col1\" class=\"data row6 col1\" >443.000000</td>\n",
       "      <td id=\"T_51cef_row6_col2\" class=\"data row6 col2\" >233</td>\n",
       "      <td id=\"T_51cef_row6_col3\" class=\"data row6 col3\" >103</td>\n",
       "    </tr>\n",
       "    <tr>\n",
       "      <th id=\"T_51cef_level0_row7\" class=\"row_heading level0 row7\" >7</th>\n",
       "      <td id=\"T_51cef_row7_col0\" class=\"data row7 col0\" >[2, 5, 14, 28, 30]</td>\n",
       "      <td id=\"T_51cef_row7_col1\" class=\"data row7 col1\" >413.000000</td>\n",
       "      <td id=\"T_51cef_row7_col2\" class=\"data row7 col2\" >262</td>\n",
       "      <td id=\"T_51cef_row7_col3\" class=\"data row7 col3\" >163</td>\n",
       "    </tr>\n",
       "    <tr>\n",
       "      <th id=\"T_51cef_level0_row8\" class=\"row_heading level0 row8\" >8</th>\n",
       "      <td id=\"T_51cef_row8_col0\" class=\"data row8 col0\" >[4, 8, 14, 24, 30]</td>\n",
       "      <td id=\"T_51cef_row8_col1\" class=\"data row8 col1\" >433.000000</td>\n",
       "      <td id=\"T_51cef_row8_col2\" class=\"data row8 col2\" >239</td>\n",
       "      <td id=\"T_51cef_row8_col3\" class=\"data row8 col3\" >139</td>\n",
       "    </tr>\n",
       "    <tr>\n",
       "      <th id=\"T_51cef_level0_row9\" class=\"row_heading level0 row9\" >9</th>\n",
       "      <td id=\"T_51cef_row9_col0\" class=\"data row9 col0\" >[2, 5, 17, 28, 30]</td>\n",
       "      <td id=\"T_51cef_row9_col1\" class=\"data row9 col1\" >380.000000</td>\n",
       "      <td id=\"T_51cef_row9_col2\" class=\"data row9 col2\" >271</td>\n",
       "      <td id=\"T_51cef_row9_col3\" class=\"data row9 col3\" >172</td>\n",
       "    </tr>\n",
       "    <tr>\n",
       "      <th id=\"T_51cef_level0_row10\" class=\"row_heading level0 row10\" >10</th>\n",
       "      <td id=\"T_51cef_row10_col0\" class=\"data row10 col0\" >[1, 2, 5, 28, 30]</td>\n",
       "      <td id=\"T_51cef_row10_col1\" class=\"data row10 col1\" >382.000000</td>\n",
       "      <td id=\"T_51cef_row10_col2\" class=\"data row10 col2\" >269</td>\n",
       "      <td id=\"T_51cef_row10_col3\" class=\"data row10 col3\" >170</td>\n",
       "    </tr>\n",
       "    <tr>\n",
       "      <th id=\"T_51cef_level0_row11\" class=\"row_heading level0 row11\" >11</th>\n",
       "      <td id=\"T_51cef_row11_col0\" class=\"data row11 col0\" >[5, 15, 28, 30, 48]</td>\n",
       "      <td id=\"T_51cef_row11_col1\" class=\"data row11 col1\" >377.000000</td>\n",
       "      <td id=\"T_51cef_row11_col2\" class=\"data row11 col2\" >284</td>\n",
       "      <td id=\"T_51cef_row11_col3\" class=\"data row11 col3\" >202</td>\n",
       "    </tr>\n",
       "    <tr>\n",
       "      <th id=\"T_51cef_level0_row12\" class=\"row_heading level0 row12\" >12</th>\n",
       "      <td id=\"T_51cef_row12_col0\" class=\"data row12 col0\" >[2, 4, 14, 24, 31]</td>\n",
       "      <td id=\"T_51cef_row12_col1\" class=\"data row12 col1\" >415.000000</td>\n",
       "      <td id=\"T_51cef_row12_col2\" class=\"data row12 col2\" >248</td>\n",
       "      <td id=\"T_51cef_row12_col3\" class=\"data row12 col3\" >174</td>\n",
       "    </tr>\n",
       "    <tr>\n",
       "      <th id=\"T_51cef_level0_row13\" class=\"row_heading level0 row13\" >13</th>\n",
       "      <td id=\"T_51cef_row13_col0\" class=\"data row13 col0\" >[2, 5, 16, 28, 30]</td>\n",
       "      <td id=\"T_51cef_row13_col1\" class=\"data row13 col1\" >422.000000</td>\n",
       "      <td id=\"T_51cef_row13_col2\" class=\"data row13 col2\" >249</td>\n",
       "      <td id=\"T_51cef_row13_col3\" class=\"data row13 col3\" >150</td>\n",
       "    </tr>\n",
       "    <tr>\n",
       "      <th id=\"T_51cef_level0_row14\" class=\"row_heading level0 row14\" >14</th>\n",
       "      <td id=\"T_51cef_row14_col0\" class=\"data row14 col0\" >[0, 3, 16, 24, 30]</td>\n",
       "      <td id=\"T_51cef_row14_col1\" class=\"data row14 col1\" >425.000000</td>\n",
       "      <td id=\"T_51cef_row14_col2\" class=\"data row14 col2\" >270</td>\n",
       "      <td id=\"T_51cef_row14_col3\" class=\"data row14 col3\" >130</td>\n",
       "    </tr>\n",
       "    <tr>\n",
       "      <th id=\"T_51cef_level0_row15\" class=\"row_heading level0 row15\" >15</th>\n",
       "      <td id=\"T_51cef_row15_col0\" class=\"data row15 col0\" >[4, 13, 16, 28, 31]</td>\n",
       "      <td id=\"T_51cef_row15_col1\" class=\"data row15 col1\" >451.000000</td>\n",
       "      <td id=\"T_51cef_row15_col2\" class=\"data row15 col2\" >227</td>\n",
       "      <td id=\"T_51cef_row15_col3\" class=\"data row15 col3\" >83</td>\n",
       "    </tr>\n",
       "    <tr>\n",
       "      <th id=\"T_51cef_level0_row16\" class=\"row_heading level0 row16\" >16</th>\n",
       "      <td id=\"T_51cef_row16_col0\" class=\"data row16 col0\" >[4, 10, 14, 28, 30]</td>\n",
       "      <td id=\"T_51cef_row16_col1\" class=\"data row16 col1\" >433.000000</td>\n",
       "      <td id=\"T_51cef_row16_col2\" class=\"data row16 col2\" >243</td>\n",
       "      <td id=\"T_51cef_row16_col3\" class=\"data row16 col3\" >113</td>\n",
       "    </tr>\n",
       "    <tr>\n",
       "      <th id=\"T_51cef_level0_row17\" class=\"row_heading level0 row17\" >17</th>\n",
       "      <td id=\"T_51cef_row17_col0\" class=\"data row17 col0\" >[4, 11, 17, 28, 30]</td>\n",
       "      <td id=\"T_51cef_row17_col1\" class=\"data row17 col1\" >425.000000</td>\n",
       "      <td id=\"T_51cef_row17_col2\" class=\"data row17 col2\" >257</td>\n",
       "      <td id=\"T_51cef_row17_col3\" class=\"data row17 col3\" >141</td>\n",
       "    </tr>\n",
       "    <tr>\n",
       "      <th id=\"T_51cef_level0_row18\" class=\"row_heading level0 row18\" >18</th>\n",
       "      <td id=\"T_51cef_row18_col0\" class=\"data row18 col0\" >[4, 11, 16, 28, 31]</td>\n",
       "      <td id=\"T_51cef_row18_col1\" class=\"data row18 col1\" >442.000000</td>\n",
       "      <td id=\"T_51cef_row18_col2\" class=\"data row18 col2\" >241</td>\n",
       "      <td id=\"T_51cef_row18_col3\" class=\"data row18 col3\" >125</td>\n",
       "    </tr>\n",
       "    <tr>\n",
       "      <th id=\"T_51cef_level0_row19\" class=\"row_heading level0 row19\" >19</th>\n",
       "      <td id=\"T_51cef_row19_col0\" class=\"data row19 col0\" >[2, 4, 15, 28, 30]</td>\n",
       "      <td id=\"T_51cef_row19_col1\" class=\"data row19 col1\" >413.000000</td>\n",
       "      <td id=\"T_51cef_row19_col2\" class=\"data row19 col2\" >252</td>\n",
       "      <td id=\"T_51cef_row19_col3\" class=\"data row19 col3\" >160</td>\n",
       "    </tr>\n",
       "    <tr>\n",
       "      <th id=\"T_51cef_level0_row20\" class=\"row_heading level0 row20\" >20</th>\n",
       "      <td id=\"T_51cef_row20_col0\" class=\"data row20 col0\" >[2, 4, 16, 28, 30]</td>\n",
       "      <td id=\"T_51cef_row20_col1\" class=\"data row20 col1\" >422.000000</td>\n",
       "      <td id=\"T_51cef_row20_col2\" class=\"data row20 col2\" >244</td>\n",
       "      <td id=\"T_51cef_row20_col3\" class=\"data row20 col3\" >152</td>\n",
       "    </tr>\n",
       "    <tr>\n",
       "      <th id=\"T_51cef_level0_row21\" class=\"row_heading level0 row21\" >21</th>\n",
       "      <td id=\"T_51cef_row21_col0\" class=\"data row21 col0\" >[2, 4, 16, 24, 31]</td>\n",
       "      <td id=\"T_51cef_row21_col1\" class=\"data row21 col1\" >422.000000</td>\n",
       "      <td id=\"T_51cef_row21_col2\" class=\"data row21 col2\" >240</td>\n",
       "      <td id=\"T_51cef_row21_col3\" class=\"data row21 col3\" >166</td>\n",
       "    </tr>\n",
       "  </tbody>\n",
       "</table>\n",
       "\n",
       "  </div>\n",
       "  <div style=\"flex: 1;\">\n",
       "    <h3>Soluciones TXT</h3>\n",
       "    <style type=\"text/css\">\n",
       "#T_2192d_row0_col0, #T_2192d_row0_col1, #T_2192d_row0_col2, #T_2192d_row2_col0, #T_2192d_row2_col1, #T_2192d_row2_col2, #T_2192d_row4_col0, #T_2192d_row4_col1, #T_2192d_row4_col2, #T_2192d_row6_col0, #T_2192d_row6_col1, #T_2192d_row6_col2, #T_2192d_row8_col0, #T_2192d_row8_col1, #T_2192d_row8_col2, #T_2192d_row9_col0, #T_2192d_row9_col1, #T_2192d_row9_col2, #T_2192d_row10_col0, #T_2192d_row10_col1, #T_2192d_row10_col2, #T_2192d_row11_col0, #T_2192d_row11_col1, #T_2192d_row11_col2, #T_2192d_row12_col0, #T_2192d_row12_col1, #T_2192d_row12_col2, #T_2192d_row13_col0, #T_2192d_row13_col1, #T_2192d_row13_col2, #T_2192d_row14_col0, #T_2192d_row14_col1, #T_2192d_row14_col2, #T_2192d_row15_col0, #T_2192d_row15_col1, #T_2192d_row15_col2, #T_2192d_row16_col0, #T_2192d_row16_col1, #T_2192d_row16_col2 {\n",
       "  background-color: green;\n",
       "}\n",
       "#T_2192d_row1_col0, #T_2192d_row1_col1, #T_2192d_row1_col2, #T_2192d_row3_col0, #T_2192d_row3_col1, #T_2192d_row3_col2, #T_2192d_row5_col0, #T_2192d_row5_col1, #T_2192d_row5_col2, #T_2192d_row7_col0, #T_2192d_row7_col1, #T_2192d_row7_col2 {\n",
       "  background-color: blue;\n",
       "}\n",
       "</style>\n",
       "<table id=\"T_2192d\">\n",
       "  <thead>\n",
       "    <tr>\n",
       "      <th class=\"blank level0\" >&nbsp;</th>\n",
       "      <th id=\"T_2192d_level0_col0\" class=\"col_heading level0 col0\" >0</th>\n",
       "      <th id=\"T_2192d_level0_col1\" class=\"col_heading level0 col1\" >1</th>\n",
       "      <th id=\"T_2192d_level0_col2\" class=\"col_heading level0 col2\" >2</th>\n",
       "    </tr>\n",
       "  </thead>\n",
       "  <tbody>\n",
       "    <tr>\n",
       "      <th id=\"T_2192d_level0_row0\" class=\"row_heading level0 row0\" >0</th>\n",
       "      <td id=\"T_2192d_row0_col0\" class=\"data row0 col0\" >422</td>\n",
       "      <td id=\"T_2192d_row0_col1\" class=\"data row0 col1\" >237</td>\n",
       "      <td id=\"T_2192d_row0_col2\" class=\"data row0 col2\" >127</td>\n",
       "    </tr>\n",
       "    <tr>\n",
       "      <th id=\"T_2192d_level0_row1\" class=\"row_heading level0 row1\" >1</th>\n",
       "      <td id=\"T_2192d_row1_col0\" class=\"data row1 col0\" >433</td>\n",
       "      <td id=\"T_2192d_row1_col1\" class=\"data row1 col1\" >243</td>\n",
       "      <td id=\"T_2192d_row1_col2\" class=\"data row1 col2\" >113</td>\n",
       "    </tr>\n",
       "    <tr>\n",
       "      <th id=\"T_2192d_level0_row2\" class=\"row_heading level0 row2\" >2</th>\n",
       "      <td id=\"T_2192d_row2_col0\" class=\"data row2 col0\" >412</td>\n",
       "      <td id=\"T_2192d_row2_col1\" class=\"data row2 col1\" >246</td>\n",
       "      <td id=\"T_2192d_row2_col2\" class=\"data row2 col2\" >147</td>\n",
       "    </tr>\n",
       "    <tr>\n",
       "      <th id=\"T_2192d_level0_row3\" class=\"row_heading level0 row3\" >3</th>\n",
       "      <td id=\"T_2192d_row3_col0\" class=\"data row3 col0\" >377</td>\n",
       "      <td id=\"T_2192d_row3_col1\" class=\"data row3 col1\" >281</td>\n",
       "      <td id=\"T_2192d_row3_col2\" class=\"data row3 col2\" >210</td>\n",
       "    </tr>\n",
       "    <tr>\n",
       "      <th id=\"T_2192d_level0_row4\" class=\"row_heading level0 row4\" >4</th>\n",
       "      <td id=\"T_2192d_row4_col0\" class=\"data row4 col0\" >379</td>\n",
       "      <td id=\"T_2192d_row4_col1\" class=\"data row4 col1\" >259</td>\n",
       "      <td id=\"T_2192d_row4_col2\" class=\"data row4 col2\" >160</td>\n",
       "    </tr>\n",
       "    <tr>\n",
       "      <th id=\"T_2192d_level0_row5\" class=\"row_heading level0 row5\" >5</th>\n",
       "      <td id=\"T_2192d_row5_col0\" class=\"data row5 col0\" >377</td>\n",
       "      <td id=\"T_2192d_row5_col1\" class=\"data row5 col1\" >284</td>\n",
       "      <td id=\"T_2192d_row5_col2\" class=\"data row5 col2\" >202</td>\n",
       "    </tr>\n",
       "    <tr>\n",
       "      <th id=\"T_2192d_level0_row6\" class=\"row_heading level0 row6\" >6</th>\n",
       "      <td id=\"T_2192d_row6_col0\" class=\"data row6 col0\" >415</td>\n",
       "      <td id=\"T_2192d_row6_col1\" class=\"data row6 col1\" >242</td>\n",
       "      <td id=\"T_2192d_row6_col2\" class=\"data row6 col2\" >120</td>\n",
       "    </tr>\n",
       "    <tr>\n",
       "      <th id=\"T_2192d_level0_row7\" class=\"row_heading level0 row7\" >7</th>\n",
       "      <td id=\"T_2192d_row7_col0\" class=\"data row7 col0\" >481</td>\n",
       "      <td id=\"T_2192d_row7_col1\" class=\"data row7 col1\" >203</td>\n",
       "      <td id=\"T_2192d_row7_col2\" class=\"data row7 col2\" >6</td>\n",
       "    </tr>\n",
       "    <tr>\n",
       "      <th id=\"T_2192d_level0_row8\" class=\"row_heading level0 row8\" >8</th>\n",
       "      <td id=\"T_2192d_row8_col0\" class=\"data row8 col0\" >415</td>\n",
       "      <td id=\"T_2192d_row8_col1\" class=\"data row8 col1\" >238</td>\n",
       "      <td id=\"T_2192d_row8_col2\" class=\"data row8 col2\" >127</td>\n",
       "    </tr>\n",
       "    <tr>\n",
       "      <th id=\"T_2192d_level0_row9\" class=\"row_heading level0 row9\" >9</th>\n",
       "      <td id=\"T_2192d_row9_col0\" class=\"data row9 col0\" >442</td>\n",
       "      <td id=\"T_2192d_row9_col1\" class=\"data row9 col1\" >233</td>\n",
       "      <td id=\"T_2192d_row9_col2\" class=\"data row9 col2\" >103</td>\n",
       "    </tr>\n",
       "    <tr>\n",
       "      <th id=\"T_2192d_level0_row10\" class=\"row_heading level0 row10\" >10</th>\n",
       "      <td id=\"T_2192d_row10_col0\" class=\"data row10 col0\" >438</td>\n",
       "      <td id=\"T_2192d_row10_col1\" class=\"data row10 col1\" >249</td>\n",
       "      <td id=\"T_2192d_row10_col2\" class=\"data row10 col2\" >97</td>\n",
       "    </tr>\n",
       "    <tr>\n",
       "      <th id=\"T_2192d_level0_row11\" class=\"row_heading level0 row11\" >11</th>\n",
       "      <td id=\"T_2192d_row11_col0\" class=\"data row11 col0\" >415</td>\n",
       "      <td id=\"T_2192d_row11_col1\" class=\"data row11 col1\" >232</td>\n",
       "      <td id=\"T_2192d_row11_col2\" class=\"data row11 col2\" >128</td>\n",
       "    </tr>\n",
       "    <tr>\n",
       "      <th id=\"T_2192d_level0_row12\" class=\"row_heading level0 row12\" >12</th>\n",
       "      <td id=\"T_2192d_row12_col0\" class=\"data row12 col0\" >463</td>\n",
       "      <td id=\"T_2192d_row12_col1\" class=\"data row12 col1\" >209</td>\n",
       "      <td id=\"T_2192d_row12_col2\" class=\"data row12 col2\" >18</td>\n",
       "    </tr>\n",
       "    <tr>\n",
       "      <th id=\"T_2192d_level0_row13\" class=\"row_heading level0 row13\" >13</th>\n",
       "      <td id=\"T_2192d_row13_col0\" class=\"data row13 col0\" >423</td>\n",
       "      <td id=\"T_2192d_row13_col1\" class=\"data row13 col1\" >250</td>\n",
       "      <td id=\"T_2192d_row13_col2\" class=\"data row13 col2\" >112</td>\n",
       "    </tr>\n",
       "    <tr>\n",
       "      <th id=\"T_2192d_level0_row14\" class=\"row_heading level0 row14\" >14</th>\n",
       "      <td id=\"T_2192d_row14_col0\" class=\"data row14 col0\" >450</td>\n",
       "      <td id=\"T_2192d_row14_col1\" class=\"data row14 col1\" >227</td>\n",
       "      <td id=\"T_2192d_row14_col2\" class=\"data row14 col2\" >83</td>\n",
       "    </tr>\n",
       "    <tr>\n",
       "      <th id=\"T_2192d_level0_row15\" class=\"row_heading level0 row15\" >15</th>\n",
       "      <td id=\"T_2192d_row15_col0\" class=\"data row15 col0\" >458</td>\n",
       "      <td id=\"T_2192d_row15_col1\" class=\"data row15 col1\" >209</td>\n",
       "      <td id=\"T_2192d_row15_col2\" class=\"data row15 col2\" >22</td>\n",
       "    </tr>\n",
       "    <tr>\n",
       "      <th id=\"T_2192d_level0_row16\" class=\"row_heading level0 row16\" >16</th>\n",
       "      <td id=\"T_2192d_row16_col0\" class=\"data row16 col0\" >442</td>\n",
       "      <td id=\"T_2192d_row16_col1\" class=\"data row16 col1\" >232</td>\n",
       "      <td id=\"T_2192d_row16_col2\" class=\"data row16 col2\" >107</td>\n",
       "    </tr>\n",
       "  </tbody>\n",
       "</table>\n",
       "\n",
       "  </div>\n",
       "</div>\n"
      ],
      "text/plain": [
       "<IPython.core.display.HTML object>"
      ]
     },
     "metadata": {},
     "output_type": "display_data"
    }
   ],
   "source": [
    "# Carga\n",
    "ruta_solution=\"Solutions/\"+archive+\".csv\"\n",
    "ruta_pareto=\"Pareto_front_paper/\"+archive+\".txt\"\n",
    "df_csv_full, df_csv_obj, df_txt = load_solutions(ruta_solution, ruta_pareto)\n",
    "\n",
    "# Unir y encontrar frente de Pareto\n",
    "all_solutions = np.vstack([df_csv_obj.values, df_txt.values])\n",
    "pareto_mask = get_pareto_front(all_solutions)\n",
    "pareto_solutions = all_solutions[pareto_mask]\n",
    "\n",
    "# Arrays para detección de comunes\n",
    "csv_array = df_csv_obj.values\n",
    "txt_array = df_txt.values\n",
    "\n",
    "# Clasificar\n",
    "colors_csv = classify_solutions(df_csv_obj, pareto_solutions, txt_array)\n",
    "colors_txt = classify_solutions(df_txt, pareto_solutions, csv_array)\n",
    "\n",
    "# Mostrar\n",
    "html_csv = get_styled_table(df_csv_full, colors_csv)\n",
    "html_txt = get_styled_table(df_txt, colors_txt)\n",
    "\n",
    "# Mostrar lado a lado con HTML\n",
    "display(HTML(f\"\"\"\n",
    "<div style=\"display: flex; gap: 30px;\">\n",
    "  <div style=\"flex: 1;\">\n",
    "    <h3>Soluciones CSV (con ID)</h3>\n",
    "    {html_csv}\n",
    "  </div>\n",
    "  <div style=\"flex: 1;\">\n",
    "    <h3>Soluciones TXT</h3>\n",
    "    {html_txt}\n",
    "  </div>\n",
    "</div>\n",
    "\"\"\"))\n"
   ]
  }
 ],
 "metadata": {
  "kernelspec": {
   "display_name": "Optimization",
   "language": "python",
   "name": "python3"
  },
  "language_info": {
   "codemirror_mode": {
    "name": "ipython",
    "version": 3
   },
   "file_extension": ".py",
   "mimetype": "text/x-python",
   "name": "python",
   "nbconvert_exporter": "python",
   "pygments_lexer": "ipython3",
   "version": "3.12.7"
  }
 },
 "nbformat": 4,
 "nbformat_minor": 5
}
