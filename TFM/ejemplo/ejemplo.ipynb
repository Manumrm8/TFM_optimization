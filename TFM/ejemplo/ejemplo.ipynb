{
 "cells": [
  {
   "cell_type": "code",
   "execution_count": 2,
   "id": "f51f9de6",
   "metadata": {},
   "outputs": [],
   "source": [
    "from tools import crear_mapa_con_puntos, generar_coordenadas_aleatorias"
   ]
  },
  {
   "cell_type": "code",
   "execution_count": 16,
   "id": "3ddcf5b3",
   "metadata": {},
   "outputs": [],
   "source": [
    "# Definir parámetros comunes\n",
    "NUM_PUNTOS_AZULES = 400\n",
    "NUM_PUNTOS_VERDES_TOTAL = 20\n",
    "CENTRO_LAT = 39.4699 # Valencia\n",
    "CENTRO_LON = -0.3763 # Valencia\n",
    "RADIO_DISPERSION = 5 # km\n",
    "ZOOM_NIVEL = 12\n",
    "k = 5"
   ]
  },
  {
   "cell_type": "code",
   "execution_count": 14,
   "id": "b001b486",
   "metadata": {},
   "outputs": [
    {
     "name": "stdout",
     "output_type": "stream",
     "text": [
      "--- Paso 1: Generando coordenadas de puntos (con semilla fija) ---\n",
      "Generadas 400 coordenadas azules.\n",
      "Generadas 20 coordenadas verdes.\n"
     ]
    }
   ],
   "source": [
    "GLOBAL_POINTS_SEED = 42\n",
    "\n",
    "print(\"--- Paso 1: Generando coordenadas de puntos (con semilla fija) ---\")\n",
    "# Generar las coordenadas una única vez con la semilla GLOBAL_POINTS_SEED\n",
    "coordenadas_azules_fijas = generar_coordenadas_aleatorias(NUM_PUNTOS_AZULES, CENTRO_LAT, CENTRO_LON, RADIO_DISPERSION, random_seed=GLOBAL_POINTS_SEED)\n",
    "# Es importante usar la misma semilla o una semilla diferente pero fija para los verdes si quieres que sean reproducibles\n",
    "coordenadas_verdes_fijas = generar_coordenadas_aleatorias(NUM_PUNTOS_VERDES_TOTAL, CENTRO_LAT, CENTRO_LON, RADIO_DISPERSION, random_seed=GLOBAL_POINTS_SEED + 1) # Usar una semilla diferente para los verdes, pero también fija.\n",
    "\n",
    "print(f\"Generadas {len(coordenadas_azules_fijas)} coordenadas azules.\")\n",
    "print(f\"Generadas {len(coordenadas_verdes_fijas)} coordenadas verdes.\")"
   ]
  },
  {
   "cell_type": "markdown",
   "id": "7fc9f61d",
   "metadata": {},
   "source": [
    "# Mapa inicial"
   ]
  },
  {
   "cell_type": "code",
   "execution_count": 15,
   "id": "aafa7fa8",
   "metadata": {},
   "outputs": [
    {
     "name": "stdout",
     "output_type": "stream",
     "text": [
      "Mapa guardado en mapa_valencia_poblacion_facilities.html\n",
      "Abre 'mapa_valencia_poblacion_facilities.html' en tu navegador para verlo.\n"
     ]
    }
   ],
   "source": [
    "crear_mapa_con_puntos(\n",
    "    n_azules=NUM_PUNTOS_AZULES,\n",
    "    m_verdes=NUM_PUNTOS_VERDES_TOTAL,\n",
    "    k_rojos=0, # Cero puntos rojos para este mapa inicial\n",
    "    coord_azules=coordenadas_azules_fijas,\n",
    "    coord_verdes_originales=coordenadas_verdes_fijas,\n",
    "    centro_latitud=CENTRO_LAT,\n",
    "    centro_longitud=CENTRO_LON,\n",
    "    zoom_nivel=ZOOM_NIVEL,\n",
    "    nombre_mapa=\"mapa_valencia_poblacion_facilities.html\"\n",
    ")"
   ]
  },
  {
   "cell_type": "markdown",
   "id": "97c9c575",
   "metadata": {},
   "source": [
    "## Solución 1"
   ]
  },
  {
   "cell_type": "code",
   "execution_count": 17,
   "id": "1b68d250",
   "metadata": {},
   "outputs": [
    {
     "name": "stdout",
     "output_type": "stream",
     "text": [
      "Mapa guardado en solucion_1.html\n",
      "Abre 'solucion_1.html' en tu navegador para verlo.\n"
     ]
    }
   ],
   "source": [
    "crear_mapa_con_puntos(\n",
    "    n_azules=NUM_PUNTOS_AZULES,\n",
    "    m_verdes=NUM_PUNTOS_VERDES_TOTAL,\n",
    "    k_rojos=k,\n",
    "    coord_azules=coordenadas_azules_fijas,\n",
    "    coord_verdes_originales=coordenadas_verdes_fijas,\n",
    "    centro_latitud=CENTRO_LAT,\n",
    "    centro_longitud=CENTRO_LON,\n",
    "    zoom_nivel=ZOOM_NIVEL,\n",
    "    nombre_mapa=f\"solucion_1.html\"\n",
    ")"
   ]
  },
  {
   "cell_type": "markdown",
   "id": "8c094291",
   "metadata": {},
   "source": [
    "## Solución 2"
   ]
  },
  {
   "cell_type": "code",
   "execution_count": 18,
   "id": "5168b7c9",
   "metadata": {},
   "outputs": [
    {
     "name": "stdout",
     "output_type": "stream",
     "text": [
      "Mapa guardado en solucion_2.html\n",
      "Abre 'solucion_2.html' en tu navegador para verlo.\n"
     ]
    }
   ],
   "source": [
    "crear_mapa_con_puntos(\n",
    "    n_azules=NUM_PUNTOS_AZULES,\n",
    "    m_verdes=NUM_PUNTOS_VERDES_TOTAL,\n",
    "    k_rojos=k,\n",
    "    coord_azules=coordenadas_azules_fijas,\n",
    "    coord_verdes_originales=coordenadas_verdes_fijas,\n",
    "    centro_latitud=CENTRO_LAT,\n",
    "    centro_longitud=CENTRO_LON,\n",
    "    zoom_nivel=ZOOM_NIVEL,\n",
    "    nombre_mapa=f\"solucion_2.html\"\n",
    ")"
   ]
  },
  {
   "cell_type": "markdown",
   "id": "504c6f16",
   "metadata": {},
   "source": [
    "## Solución 3"
   ]
  },
  {
   "cell_type": "code",
   "execution_count": 19,
   "id": "c75bf71c",
   "metadata": {},
   "outputs": [
    {
     "name": "stdout",
     "output_type": "stream",
     "text": [
      "Mapa guardado en solucion_3.html\n",
      "Abre 'solucion_3.html' en tu navegador para verlo.\n"
     ]
    }
   ],
   "source": [
    "crear_mapa_con_puntos(\n",
    "    n_azules=NUM_PUNTOS_AZULES,\n",
    "    m_verdes=NUM_PUNTOS_VERDES_TOTAL,\n",
    "    k_rojos=k,\n",
    "    coord_azules=coordenadas_azules_fijas,\n",
    "    coord_verdes_originales=coordenadas_verdes_fijas,\n",
    "    centro_latitud=CENTRO_LAT,\n",
    "    centro_longitud=CENTRO_LON,\n",
    "    zoom_nivel=ZOOM_NIVEL,\n",
    "    nombre_mapa=f\"solucion_3.html\"\n",
    ")"
   ]
  }
 ],
 "metadata": {
  "kernelspec": {
   "display_name": "Optimization",
   "language": "python",
   "name": "python3"
  },
  "language_info": {
   "codemirror_mode": {
    "name": "ipython",
    "version": 3
   },
   "file_extension": ".py",
   "mimetype": "text/x-python",
   "name": "python",
   "nbconvert_exporter": "python",
   "pygments_lexer": "ipython3",
   "version": "3.12.7"
  }
 },
 "nbformat": 4,
 "nbformat_minor": 5
}
