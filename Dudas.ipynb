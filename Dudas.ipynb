{
 "cells": [
  {
   "cell_type": "markdown",
   "metadata": {},
   "source": [
    "## Dudas:"
   ]
  },
  {
   "cell_type": "markdown",
   "metadata": {},
   "source": [
    "* Con los datos en jblc_instances, pmed, no se puede sacar información:\n",
    "100 vértices y 200 aristas, creo que lo utiliza jesús para alguna parte del proceso, pero como tal los datos no pueden ser estoo, se supone que debería haber 1000 puntos a suministrar al menos, y 50 facilities, pero aquí solo tengo 200 distancias, osea aunque aplique el algoritmo de floid, no me salen las cuentas\n",
    "https://people.brunel.ac.uk/~mastjjb/jeb/orlib/pmedinfo.html\n",
    "En vez de eso, he cogido de kbl_instances two_of la primera A3, y he hecho un muestreo de 1000-50\n",
    "\n",
    "* Funciones objetivo \n",
    "- minimizar máximo de las distancias entre puntos a suministrar y los puntos de suministro escogido\n",
    "- maximizar la distancia entre puntos de suministro (aún no implementado, la calculo como la media de las distancias de cada uno al resto, o la suma total de las distancias?)\n",
    "Y utilizaría pesos, variandolos de 0 a 1, para ir generando el frente de pareto (lo de primero optimizar uno y luego el otro igual genera soluciones muu localizadas en ciertas partes?)\n",
    "\n",
    "* únicamente que sólo se puedan utilizar k facilities?\n",
    "\n"
   ]
  },
  {
   "cell_type": "markdown",
   "metadata": {},
   "source": [
    "## Cosas para hacer:"
   ]
  },
  {
   "cell_type": "markdown",
   "metadata": {},
   "source": [
    "* Crear grasp "
   ]
  },
  {
   "cell_type": "markdown",
   "metadata": {},
   "source": [
    "* ¿Greedy para generar las soluciones iniciales? El genético de momento no tiene nada metido, genera soluciones aleatorias (¿probar un eurístico para generarlas?), y luego las mezcla entre si.\n",
    "\n",
    "* Strategic Oscilation: poner puntos de suministro de más para mejorar el valor de la función objetivo, pero siendo una solución no factible.\n",
    "También tengo que generar soluciones con menos puntos para luego poder usar path relinking, no?\n",
    "\n",
    "* Path relinking: fijado un k, de momento 5, y un 𝛽, se sacan soluciones con k-𝛽k y k+𝛽k puntos de suministro. Hay que crear un camino que vaya de una a la otra, y mirar la solución factible que queda entre medias"
   ]
  },
  {
   "cell_type": "markdown",
   "metadata": {},
   "source": [
    "## Comentarios Anna"
   ]
  },
  {
   "cell_type": "markdown",
   "metadata": {},
   "source": []
  }
 ],
 "metadata": {
  "language_info": {
   "name": "python"
  }
 },
 "nbformat": 4,
 "nbformat_minor": 2
}
