{
 "cells": [
  {
   "cell_type": "code",
   "execution_count": null,
   "id": "9ab797b4",
   "metadata": {},
   "outputs": [],
   "source": [
    "import numpy as np\n",
    "import pandas as pd\n",
    "from tools.greedy import Greedy\n",
    "import os"
   ]
  },
  {
   "cell_type": "code",
   "execution_count": null,
   "id": "09431e61",
   "metadata": {},
   "outputs": [],
   "source": [
    "archive = \"WorkSpace 1000_50_5\"\n",
    "k=5\n",
    "m=50"
   ]
  },
  {
   "cell_type": "code",
   "execution_count": null,
   "id": "7551f012",
   "metadata": {},
   "outputs": [],
   "source": [
    "solucion=[13, 20, 23, 29, 49]"
   ]
  },
  {
   "cell_type": "code",
   "execution_count": null,
   "id": "bddf9f47",
   "metadata": {},
   "outputs": [],
   "source": [
    "folder_distances = \"./data/distances/demand/\"\n",
    "route_distances = os.path.join(folder_distances, f\"{archive}.csv\")\n",
    "\n",
    "df_distances_demand = pd.read_csv(route_distances, index_col=0)"
   ]
  },
  {
   "cell_type": "code",
   "execution_count": null,
   "id": "d6cceb17",
   "metadata": {},
   "outputs": [],
   "source": [
    "asignacion = df_distances_demand.iloc[:, solucion].idxmin(axis=1)"
   ]
  },
  {
   "cell_type": "code",
   "execution_count": null,
   "id": "3b9c71b5",
   "metadata": {},
   "outputs": [
    {
     "name": "stdout",
     "output_type": "stream",
     "text": [
      "             13          20           23          29           49\n",
      "0    234.000000  556.138472  1063.989662  611.778555   956.694831\n",
      "1    270.149958  579.276273  1090.668144  617.234153   993.362975\n",
      "2    279.685538  634.137209  1135.222445  698.645117   987.008105\n",
      "3    211.123187  572.060312  1068.951355  656.883551   922.366522\n",
      "4    302.592135  628.012739  1137.453296  666.532070  1021.376033\n",
      "..          ...         ...          ...         ...          ...\n",
      "995  164.073154  484.406854   988.907478  564.925659   887.840639\n",
      "996  305.181913  578.662250  1095.230569  588.510833  1028.572312\n",
      "997  244.560831  498.036143  1014.282012  524.843786   962.050414\n",
      "998  229.706334  541.059146  1050.583171  593.177882   953.471552\n",
      "999  346.343760  568.031689  1087.538505  541.705640  1062.753499\n",
      "\n",
      "[1000 rows x 5 columns]\n"
     ]
    }
   ],
   "source": [
    "print(df_distances_demand.iloc[:, solucion])"
   ]
  },
  {
   "cell_type": "code",
   "execution_count": null,
   "id": "943eb38e",
   "metadata": {},
   "outputs": [],
   "source": [
    "df=df_distances_demand.iloc[:, solucion].round(0)"
   ]
  },
  {
   "cell_type": "code",
   "execution_count": null,
   "id": "bb846a97",
   "metadata": {},
   "outputs": [],
   "source": [
    "distancia_minima = df.min(axis=1)"
   ]
  },
  {
   "cell_type": "code",
   "execution_count": null,
   "id": "97e9a4e4",
   "metadata": {},
   "outputs": [],
   "source": [
    "conteo_de_minimos = df.eq(distancia_minima, axis=0).sum(axis=1)\n",
    "hay_empate = conteo_de_minimos > 1"
   ]
  },
  {
   "cell_type": "code",
   "execution_count": null,
   "id": "a33cfbc3",
   "metadata": {},
   "outputs": [],
   "source": [
    "columna_minima = df.idxmin(axis=1)"
   ]
  },
  {
   "cell_type": "code",
   "execution_count": null,
   "id": "e6500448",
   "metadata": {},
   "outputs": [],
   "source": [
    "df_resultados = pd.DataFrame({\n",
    "    'columna_mas_cercana': columna_minima,\n",
    "    'distancia_minima': distancia_minima,\n",
    "    'hay_empate_en_minimo': hay_empate\n",
    "})"
   ]
  },
  {
   "cell_type": "code",
   "execution_count": null,
   "id": "06fa73e1",
   "metadata": {},
   "outputs": [
    {
     "name": "stdout",
     "output_type": "stream",
     "text": [
      "    columna_mas_cercana  distancia_minima  hay_empate_en_minimo\n",
      "435                  13             317.0                  True\n",
      "827                  13             218.0                  True\n"
     ]
    }
   ],
   "source": [
    "print(df_resultados[df_resultados['hay_empate_en_minimo'] == True])"
   ]
  },
  {
   "cell_type": "markdown",
   "id": "3191591d",
   "metadata": {},
   "source": [
    "# Búsqueda de a cuáles se han asignado los empates:\n",
    "* El 435 se asigna al 20, pero debería asignarse al 13 (en caso de redondear las distancias claro)\n",
    "* El 827 también se ha asignado al 20. Se le debería asignar al 13."
   ]
  },
  {
   "cell_type": "code",
   "execution_count": null,
   "id": "20df00a4",
   "metadata": {},
   "outputs": [
    {
     "data": {
      "text/plain": [
       "13    218.0\n",
       "20    218.0\n",
       "23    653.0\n",
       "29    478.0\n",
       "49    588.0\n",
       "Name: 827, dtype: float64"
      ]
     },
     "metadata": {},
     "output_type": "display_data"
    }
   ],
   "source": [
    "df.iloc[827,:]"
   ]
  },
  {
   "cell_type": "code",
   "execution_count": null,
   "id": "63e15f73",
   "metadata": {},
   "outputs": [
    {
     "name": "stdout",
     "output_type": "stream",
     "text": [
      "[55, 56, 57, 58, 59, 60, 61, 62, 63, 66, 67, 68, 69, 70, 71, 72, 73, 74, 75, 76, 78, 79, 80, 81, 82, 83, 84, 85, 86, 87, 88, 89, 90, 91, 92, 93, 94, 101, 102, 103, 104, 105, 106, 107, 108, 109, 110, 111, 112, 113, 115, 226, 227, 255, 278, 279, 280, 315, 316, 319, 320, 321, 326, 327, 328, 354, 355, 363, 426, 430, 431, 432, 433, 434, 435, 436, 437, 438, 439, 440, 441, 442, 443, 450, 464, 465, 521, 522, 523, 524, 525, 526, 527, 568, 569, 570, 571, 572, 573, 574, 575, 576, 577, 578, 579, 580, 581, 585, 586, 588, 589, 621, 622, 640, 641, 642, 643, 644, 645, 646, 647, 648, 649, 650, 654, 655, 656, 657, 658, 659, 660, 661, 662, 664, 665, 716, 717, 721, 722, 728, 729, 731, 741, 742, 745, 764, 765, 778, 779, 780, 806, 818, 823, 824, 825, 826, 827, 832, 833, 834, 835, 838, 839, 840, 848, 849, 850, 851, 852, 881, 882, 883, 884, 915, 916, 917, 918, 919, 920, 921, 922, 923, 924, 925, 926, 927, 928, 929, 930, 931, 932, 933, 934, 935, 936, 937, 938, 939, 940, 941, 942, 943, 944, 945, 946, 947, 948, 949, 950, 951, 952, 953, 954, 955, 956, 957, 958, 959, 960, 961, 962, 963, 964, 965, 966, 967, 968, 969, 970, 971, 972, 973, 974]\n"
     ]
    }
   ],
   "source": [
    "print(list(asignacion[asignacion=='20'].index))"
   ]
  },
  {
   "cell_type": "code",
   "execution_count": null,
   "id": "9f626e3b",
   "metadata": {},
   "outputs": [
    {
     "name": "stdout",
     "output_type": "stream",
     "text": [
      "[0, 1, 2, 3, 4, 5, 6, 7, 8, 9, 10, 11, 12, 13, 14, 15, 16, 17, 18, 19, 20, 21, 22, 23, 24, 25, 26, 27, 28, 29, 30, 31, 32, 33, 34, 35, 36, 37, 38, 39, 40, 41, 42, 43, 44, 45, 46, 47, 48, 49, 50, 51, 52, 53, 54, 222, 223, 224, 225, 228, 229, 230, 256, 257, 258, 259, 260, 261, 364, 365, 366, 367, 368, 369, 370, 371, 372, 373, 374, 375, 376, 377, 378, 379, 427, 428, 429, 471, 472, 473, 474, 475, 476, 477, 478, 479, 480, 481, 482, 483, 484, 485, 486, 487, 488, 489, 490, 491, 492, 493, 494, 495, 496, 497, 498, 499, 500, 501, 502, 503, 504, 505, 506, 507, 508, 509, 510, 511, 512, 513, 514, 515, 516, 517, 518, 519, 520, 667, 668, 672, 673, 675, 676, 680, 681, 682, 683, 684, 685, 686, 713, 714, 715, 718, 719, 723, 724, 725, 726, 727, 746, 747, 748, 749, 750, 751, 752, 769, 770, 781, 782, 783, 784, 785, 799, 800, 801, 802, 803, 804, 805, 807, 808, 809, 810, 811, 812, 819, 820, 821, 822, 828, 829, 830, 831, 855, 856, 857, 858, 859, 860, 861, 862, 863, 864, 868, 869, 870, 871, 873, 874, 875, 876, 877, 878, 879, 880, 989, 990, 991, 992, 993, 994, 995, 996, 997, 998, 999]\n"
     ]
    }
   ],
   "source": [
    "print(list(asignacion[asignacion=='13'].index))"
   ]
  },
  {
   "cell_type": "code",
   "execution_count": null,
   "id": "a2254415",
   "metadata": {},
   "outputs": [
    {
     "name": "stderr",
     "output_type": "stream",
     "text": [
      "C:\\Users\\User\\AppData\\Local\\Temp\\ipykernel_32744\\2214086861.py:1: FutureWarning: pandas.value_counts is deprecated and will be removed in a future version. Use pd.Series(obj).value_counts() instead.\n",
      "  pd.value_counts(asignacion)\n"
     ]
    },
    {
     "data": {
      "text/plain": [
       "20    233\n",
       "13    228\n",
       "23    224\n",
       "29    211\n",
       "49    104\n",
       "Name: count, dtype: int64"
      ]
     },
     "metadata": {},
     "output_type": "display_data"
    }
   ],
   "source": [
    "pd.value_counts(asignacion)"
   ]
  }
 ],
 "metadata": {
  "language_info": {
   "name": "python"
  }
 },
 "nbformat": 4,
 "nbformat_minor": 5
}
