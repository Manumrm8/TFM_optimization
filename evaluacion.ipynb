{
 "cells": [
  {
   "cell_type": "code",
   "execution_count": 1,
   "id": "b78d63a2",
   "metadata": {},
   "outputs": [],
   "source": [
    "import numpy as np\n",
    "import os\n",
    "import pandas as pd\n",
    "\n",
    "from tools.compare_functions import load_solutions, get_pareto_front, get_styled_table, classify_solutions\n",
    "from tools import create_distances\n",
    "from tools.delete_dominated_solutions import delete_dominated_solutions\n",
    "from tools.grasp_multiprocessing_MAB import multi_GRASP_Bandit\n",
    "\n",
    "import multiprocessing\n",
    "from tqdm import tqdm\n",
    "from IPython.display import display, HTML\n",
    "import glob\n"
   ]
  },
  {
   "cell_type": "code",
   "execution_count": 2,
   "id": "82250ac9",
   "metadata": {},
   "outputs": [],
   "source": [
    "archive = \"WorkSpace 1000_50_5\"\n",
    "k=5\n",
    "m=50\n",
    "context_size=3"
   ]
  },
  {
   "cell_type": "code",
   "execution_count": 3,
   "id": "cd128706",
   "metadata": {},
   "outputs": [],
   "source": [
    "max_iterations=5"
   ]
  },
  {
   "cell_type": "code",
   "execution_count": 4,
   "id": "96575a5e",
   "metadata": {},
   "outputs": [],
   "source": [
    "alpha=0.8\n",
    "betha=0.2\n",
    "learning_rate=1"
   ]
  },
  {
   "cell_type": "code",
   "execution_count": 5,
   "id": "5acdaeea",
   "metadata": {},
   "outputs": [],
   "source": [
    "create_distances.create_distances(archive)"
   ]
  },
  {
   "cell_type": "code",
   "execution_count": 6,
   "id": "4a7b2f77",
   "metadata": {},
   "outputs": [],
   "source": [
    "def ejecutar_con_pool_alpha(archive, k, m, context_size, max_iterations, betha, learning_rate):\n",
    "    \"\"\"\n",
    "    Ejecuta la función multi_GRASP_Bandit 110 veces en paralelo.\n",
    "\n",
    "    Las ejecuciones se dividen en 11 grupos de 10. Cada grupo tiene un\n",
    "    valor de alpha diferente, comenzando en 0.0 para el primer grupo y\n",
    "    aumentando en 0.1 hasta llegar a 1.0 en el último.\n",
    "\n",
    "    Args:\n",
    "        archive: El parámetro 'archive' para multi_GRASP_Bandit.\n",
    "        k: El parámetro 'k' para multi_GRASP_Bandit.\n",
    "        m: El parámetro 'm' para multi_GRASP_Bandit.\n",
    "        context_size: El parámetro 'context_size' para multi_GRASP_Bandit.\n",
    "        max_iterations: El parámetro 'max_iterations' para multi_GRASP_Bandit.\n",
    "        betha: El parámetro 'betha' para multi_GRASP_Bandit.\n",
    "        learning_rate: El parámetro 'learning_rate' para multi_GRASP_Bandit.\n",
    "    \"\"\"\n",
    "    # Genera la lista de 11 valores para alpha, de 0.0 a 1.0\n",
    "    # np.linspace(0, 1, 11) crea [0.0, 0.1, 0.2, 0.3, 0.4, 0.5, 0.6, 0.7, 0.8, 0.9, 1.0]\n",
    "    alphas = np.linspace(0, 1, 11)\n",
    "    \n",
    "    lista_de_argumentos = []\n",
    "    corrida_id_counter = 1\n",
    "\n",
    "    # Itera sobre cada valor de alpha\n",
    "    for alpha_val in alphas:\n",
    "        # Para cada alpha, crea 10 ejecuciones (corridas)\n",
    "        for _ in range(10):\n",
    "            argumentos = (archive, k, m, context_size, max_iterations, alpha_val, betha, learning_rate, corrida_id_counter)\n",
    "            lista_de_argumentos.append(argumentos)\n",
    "            corrida_id_counter += 1\n",
    "            \n",
    "    # Usa un pool de procesos para ejecutar todas las tareas en paralelo\n",
    "    with multiprocessing.Pool() as pool:\n",
    "        # starmap es útil cuando los argumentos de la función son tuplas\n",
    "        pool.starmap(multi_GRASP_Bandit, lista_de_argumentos)\n"
   ]
  },
  {
   "cell_type": "code",
   "execution_count": 16,
   "id": "fae818a7",
   "metadata": {},
   "outputs": [
    {
     "name": "stderr",
     "output_type": "stream",
     "text": [
      "Ejecutando GRASP:  18%|█▊        | 18/100 [01:38<07:29,  5.49s/it]\n"
     ]
    },
    {
     "ename": "KeyboardInterrupt",
     "evalue": "",
     "output_type": "error",
     "traceback": [
      "\u001b[1;31m---------------------------------------------------------------------------\u001b[0m",
      "\u001b[1;31mKeyboardInterrupt\u001b[0m                         Traceback (most recent call last)",
      "Cell \u001b[1;32mIn[16], line 2\u001b[0m\n\u001b[0;32m      1\u001b[0m \u001b[38;5;28;01mfor\u001b[39;00m i \u001b[38;5;129;01min\u001b[39;00m tqdm(\u001b[38;5;28mrange\u001b[39m(\u001b[38;5;241m100\u001b[39m), desc\u001b[38;5;241m=\u001b[39m\u001b[38;5;124m\"\u001b[39m\u001b[38;5;124mEjecutando GRASP\u001b[39m\u001b[38;5;124m\"\u001b[39m):\n\u001b[1;32m----> 2\u001b[0m     \u001b[43mejecutar_con_pool_alpha\u001b[49m\u001b[43m(\u001b[49m\u001b[43marchive\u001b[49m\u001b[43m,\u001b[49m\u001b[43m \u001b[49m\u001b[43mk\u001b[49m\u001b[43m,\u001b[49m\u001b[43m \u001b[49m\u001b[43mm\u001b[49m\u001b[43m,\u001b[49m\u001b[43m \u001b[49m\u001b[43mcontext_size\u001b[49m\u001b[43m,\u001b[49m\u001b[43m \u001b[49m\u001b[43mmax_iterations\u001b[49m\u001b[43m,\u001b[49m\u001b[43m \u001b[49m\u001b[43mbetha\u001b[49m\u001b[43m,\u001b[49m\u001b[43m \u001b[49m\u001b[43mlearning_rate\u001b[49m\u001b[43m)\u001b[49m\n",
      "Cell \u001b[1;32mIn[6], line 36\u001b[0m, in \u001b[0;36mejecutar_con_pool_alpha\u001b[1;34m(archive, k, m, context_size, max_iterations, betha, learning_rate)\u001b[0m\n\u001b[0;32m     33\u001b[0m \u001b[38;5;66;03m# Usa un pool de procesos para ejecutar todas las tareas en paralelo\u001b[39;00m\n\u001b[0;32m     34\u001b[0m \u001b[38;5;28;01mwith\u001b[39;00m multiprocessing\u001b[38;5;241m.\u001b[39mPool() \u001b[38;5;28;01mas\u001b[39;00m pool:\n\u001b[0;32m     35\u001b[0m     \u001b[38;5;66;03m# starmap es útil cuando los argumentos de la función son tuplas\u001b[39;00m\n\u001b[1;32m---> 36\u001b[0m     \u001b[43mpool\u001b[49m\u001b[38;5;241;43m.\u001b[39;49m\u001b[43mstarmap\u001b[49m\u001b[43m(\u001b[49m\u001b[43mmulti_GRASP_Bandit\u001b[49m\u001b[43m,\u001b[49m\u001b[43m \u001b[49m\u001b[43mlista_de_argumentos\u001b[49m\u001b[43m)\u001b[49m\n",
      "File \u001b[1;32mc:\\Users\\User\\anaconda3\\envs\\Optimization\\Lib\\multiprocessing\\pool.py:375\u001b[0m, in \u001b[0;36mPool.starmap\u001b[1;34m(self, func, iterable, chunksize)\u001b[0m\n\u001b[0;32m    369\u001b[0m \u001b[38;5;28;01mdef\u001b[39;00m \u001b[38;5;21mstarmap\u001b[39m(\u001b[38;5;28mself\u001b[39m, func, iterable, chunksize\u001b[38;5;241m=\u001b[39m\u001b[38;5;28;01mNone\u001b[39;00m):\n\u001b[0;32m    370\u001b[0m \u001b[38;5;250m    \u001b[39m\u001b[38;5;124;03m'''\u001b[39;00m\n\u001b[0;32m    371\u001b[0m \u001b[38;5;124;03m    Like `map()` method but the elements of the `iterable` are expected to\u001b[39;00m\n\u001b[0;32m    372\u001b[0m \u001b[38;5;124;03m    be iterables as well and will be unpacked as arguments. Hence\u001b[39;00m\n\u001b[0;32m    373\u001b[0m \u001b[38;5;124;03m    `func` and (a, b) becomes func(a, b).\u001b[39;00m\n\u001b[0;32m    374\u001b[0m \u001b[38;5;124;03m    '''\u001b[39;00m\n\u001b[1;32m--> 375\u001b[0m     \u001b[38;5;28;01mreturn\u001b[39;00m \u001b[38;5;28;43mself\u001b[39;49m\u001b[38;5;241;43m.\u001b[39;49m\u001b[43m_map_async\u001b[49m\u001b[43m(\u001b[49m\u001b[43mfunc\u001b[49m\u001b[43m,\u001b[49m\u001b[43m \u001b[49m\u001b[43miterable\u001b[49m\u001b[43m,\u001b[49m\u001b[43m \u001b[49m\u001b[43mstarmapstar\u001b[49m\u001b[43m,\u001b[49m\u001b[43m \u001b[49m\u001b[43mchunksize\u001b[49m\u001b[43m)\u001b[49m\u001b[38;5;241;43m.\u001b[39;49m\u001b[43mget\u001b[49m\u001b[43m(\u001b[49m\u001b[43m)\u001b[49m\n",
      "File \u001b[1;32mc:\\Users\\User\\anaconda3\\envs\\Optimization\\Lib\\multiprocessing\\pool.py:768\u001b[0m, in \u001b[0;36mApplyResult.get\u001b[1;34m(self, timeout)\u001b[0m\n\u001b[0;32m    767\u001b[0m \u001b[38;5;28;01mdef\u001b[39;00m \u001b[38;5;21mget\u001b[39m(\u001b[38;5;28mself\u001b[39m, timeout\u001b[38;5;241m=\u001b[39m\u001b[38;5;28;01mNone\u001b[39;00m):\n\u001b[1;32m--> 768\u001b[0m     \u001b[38;5;28;43mself\u001b[39;49m\u001b[38;5;241;43m.\u001b[39;49m\u001b[43mwait\u001b[49m\u001b[43m(\u001b[49m\u001b[43mtimeout\u001b[49m\u001b[43m)\u001b[49m\n\u001b[0;32m    769\u001b[0m     \u001b[38;5;28;01mif\u001b[39;00m \u001b[38;5;129;01mnot\u001b[39;00m \u001b[38;5;28mself\u001b[39m\u001b[38;5;241m.\u001b[39mready():\n\u001b[0;32m    770\u001b[0m         \u001b[38;5;28;01mraise\u001b[39;00m \u001b[38;5;167;01mTimeoutError\u001b[39;00m\n",
      "File \u001b[1;32mc:\\Users\\User\\anaconda3\\envs\\Optimization\\Lib\\multiprocessing\\pool.py:765\u001b[0m, in \u001b[0;36mApplyResult.wait\u001b[1;34m(self, timeout)\u001b[0m\n\u001b[0;32m    764\u001b[0m \u001b[38;5;28;01mdef\u001b[39;00m \u001b[38;5;21mwait\u001b[39m(\u001b[38;5;28mself\u001b[39m, timeout\u001b[38;5;241m=\u001b[39m\u001b[38;5;28;01mNone\u001b[39;00m):\n\u001b[1;32m--> 765\u001b[0m     \u001b[38;5;28;43mself\u001b[39;49m\u001b[38;5;241;43m.\u001b[39;49m\u001b[43m_event\u001b[49m\u001b[38;5;241;43m.\u001b[39;49m\u001b[43mwait\u001b[49m\u001b[43m(\u001b[49m\u001b[43mtimeout\u001b[49m\u001b[43m)\u001b[49m\n",
      "File \u001b[1;32mc:\\Users\\User\\anaconda3\\envs\\Optimization\\Lib\\threading.py:655\u001b[0m, in \u001b[0;36mEvent.wait\u001b[1;34m(self, timeout)\u001b[0m\n\u001b[0;32m    653\u001b[0m signaled \u001b[38;5;241m=\u001b[39m \u001b[38;5;28mself\u001b[39m\u001b[38;5;241m.\u001b[39m_flag\n\u001b[0;32m    654\u001b[0m \u001b[38;5;28;01mif\u001b[39;00m \u001b[38;5;129;01mnot\u001b[39;00m signaled:\n\u001b[1;32m--> 655\u001b[0m     signaled \u001b[38;5;241m=\u001b[39m \u001b[38;5;28;43mself\u001b[39;49m\u001b[38;5;241;43m.\u001b[39;49m\u001b[43m_cond\u001b[49m\u001b[38;5;241;43m.\u001b[39;49m\u001b[43mwait\u001b[49m\u001b[43m(\u001b[49m\u001b[43mtimeout\u001b[49m\u001b[43m)\u001b[49m\n\u001b[0;32m    656\u001b[0m \u001b[38;5;28;01mreturn\u001b[39;00m signaled\n",
      "File \u001b[1;32mc:\\Users\\User\\anaconda3\\envs\\Optimization\\Lib\\threading.py:355\u001b[0m, in \u001b[0;36mCondition.wait\u001b[1;34m(self, timeout)\u001b[0m\n\u001b[0;32m    353\u001b[0m \u001b[38;5;28;01mtry\u001b[39;00m:    \u001b[38;5;66;03m# restore state no matter what (e.g., KeyboardInterrupt)\u001b[39;00m\n\u001b[0;32m    354\u001b[0m     \u001b[38;5;28;01mif\u001b[39;00m timeout \u001b[38;5;129;01mis\u001b[39;00m \u001b[38;5;28;01mNone\u001b[39;00m:\n\u001b[1;32m--> 355\u001b[0m         \u001b[43mwaiter\u001b[49m\u001b[38;5;241;43m.\u001b[39;49m\u001b[43macquire\u001b[49m\u001b[43m(\u001b[49m\u001b[43m)\u001b[49m\n\u001b[0;32m    356\u001b[0m         gotit \u001b[38;5;241m=\u001b[39m \u001b[38;5;28;01mTrue\u001b[39;00m\n\u001b[0;32m    357\u001b[0m     \u001b[38;5;28;01melse\u001b[39;00m:\n",
      "\u001b[1;31mKeyboardInterrupt\u001b[0m: "
     ]
    }
   ],
   "source": [
    "for i in tqdm(range(100), desc=\"Ejecutando GRASP\"):\n",
    "    ejecutar_con_pool_alpha(archive, k, m, context_size, max_iterations, betha, learning_rate)"
   ]
  },
  {
   "cell_type": "code",
   "execution_count": 10,
   "id": "00a90a90",
   "metadata": {},
   "outputs": [],
   "source": [
    "import numpy as np\n",
    "import pandas as pd\n",
    "import os\n",
    "\n",
    "def contar_soluciones_en_pareto(archive: str, path_pareto: str, path_soluciones: str, total_corridas: int = 110) -> list:\n",
    "    \"\"\"\n",
    "    Carga un frente de Pareto desde un CSV y cuenta cuántas soluciones de cada \n",
    "    archivo de resultados (también CSV) se encuentran en dicho frente, usando \n",
    "    solo las columnas 'f1', 'f2' y 'f3'.\n",
    "\n",
    "    Args:\n",
    "        archive (str): El nombre base del archivo para construir las rutas de soluciones.\n",
    "        path_pareto (str): La ruta completa al archivo CSV del frente de Pareto.\n",
    "        path_soluciones (str): La ruta al directorio que contiene los archivos de soluciones.\n",
    "        total_corridas (int): El número total de archivos de soluciones a procesar.\n",
    "\n",
    "    Returns:\n",
    "        list: Una lista donde cada elemento es el recuento de soluciones\n",
    "              en el frente de Pareto para el archivo correspondiente.\n",
    "    \"\"\"\n",
    "    \n",
    "    # 1. Cargar el frente de Pareto de referencia desde un CSV\n",
    "    try:\n",
    "        # Leer el archivo CSV completo\n",
    "        df_pareto = pd.read_csv(path_pareto)\n",
    "        # Seleccionar solo las columnas de interés y convertir a un array de NumPy\n",
    "        frente_pareto = df_pareto[['f1', 'f2', 'f3']].values\n",
    "\n",
    "        print(f\"✅ Frente de Pareto cargado desde '{path_pareto}'. Contiene {len(frente_pareto)} soluciones.\")\n",
    "    except FileNotFoundError:\n",
    "        print(f\"❌ Error: No se encontró el archivo del frente de Pareto en '{path_pareto}'.\")\n",
    "        return []\n",
    "    except KeyError:\n",
    "        print(f\"❌ Error: El archivo '{path_pareto}' no contiene las columnas 'f1', 'f2' y 'f3'.\")\n",
    "        return []\n",
    "    except Exception as e:\n",
    "        print(f\"❌ Error al leer el archivo del frente de Pareto: {e}\")\n",
    "        return []\n",
    "\n",
    "    # 2. Iterar a través de cada archivo de solución y contar las coincidencias\n",
    "    conteo_por_archivo = []\n",
    "    \n",
    "    for i in range(1, total_corridas + 1):\n",
    "        # Construir la ruta para cada archivo CSV de solución\n",
    "        ruta_solution = f\"{path_soluciones}/{archive}_#{i}.csv\"\n",
    "        \n",
    "        if not os.path.exists(ruta_solution):\n",
    "            print(f\"⚠️  Advertencia: El archivo '{ruta_solution}' no existe. Se contará como 0.\")\n",
    "            conteo_por_archivo.append(0)\n",
    "            continue\n",
    "\n",
    "        try:\n",
    "            # Cargar las soluciones del archivo actual\n",
    "            df_soluciones = pd.read_csv(ruta_solution)\n",
    "            # Seleccionar solo las columnas de interés y convertir a NumPy array\n",
    "            soluciones_actuales = df_soluciones[['f1', 'f2', 'f3']].values\n",
    "            \n",
    "            # Contar cuántas soluciones están en el frente de Pareto\n",
    "            contador = 0\n",
    "            if soluciones_actuales.size > 0: # Asegurarse de que no está vacío tras seleccionar\n",
    "                for sol in soluciones_actuales:\n",
    "                    if any(np.allclose(sol, p_sol, atol=1e-6) for p_sol in frente_pareto):\n",
    "                        contador += 1\n",
    "            \n",
    "            conteo_por_archivo.append(contador)\n",
    "            \n",
    "        except pd.errors.EmptyDataError:\n",
    "            print(f\"ℹ️  Info: El archivo '{ruta_solution}' está vacío. Se contará como 0.\")\n",
    "            conteo_por_archivo.append(0)\n",
    "        except KeyError:\n",
    "            print(f\"⚠️  Advertencia: El archivo '{ruta_solution}' no contiene las columnas 'f1', 'f2' y 'f3'. Se contará como 0.\")\n",
    "            conteo_por_archivo.append(0)\n",
    "        except Exception as e:\n",
    "            print(f\"❌ Error procesando el archivo '{ruta_solution}': {e}\")\n",
    "            conteo_por_archivo.append(0)\n",
    "\n",
    "    return conteo_por_archivo\n"
   ]
  },
  {
   "cell_type": "code",
   "execution_count": 13,
   "id": "def036b0",
   "metadata": {},
   "outputs": [],
   "source": [
    "path_pareto = f\"Pareto_front/{archive}.csv\"\n",
    "path_soluciones = f\"Solutions/Multiprocessing/{archive}\""
   ]
  },
  {
   "cell_type": "code",
   "execution_count": 17,
   "id": "7ab061c3",
   "metadata": {},
   "outputs": [
    {
     "name": "stdout",
     "output_type": "stream",
     "text": [
      "✅ Frente de Pareto cargado desde 'Pareto_front/WorkSpace 1000_50_5.csv'. Contiene 18 soluciones.\n"
     ]
    }
   ],
   "source": [
    "# Llamar a la función principal (procesará hasta el número 5, aunque solo existan 4)\n",
    "vector_de_conteos = contar_soluciones_en_pareto(archive, path_pareto, path_soluciones, total_corridas=110)"
   ]
  },
  {
   "cell_type": "code",
   "execution_count": 18,
   "id": "c1b2cd9b",
   "metadata": {},
   "outputs": [
    {
     "name": "stdout",
     "output_type": "stream",
     "text": [
      "\n",
      "--- RESULTADO FINAL ---\n",
      "Vector de conteos (soluciones en el frente por archivo):\n",
      "[0, 0, 0, 0, 0, 0, 0, 0, 1, 0, 1, 0, 0, 0, 1, 0, 0, 0, 0, 0, 0, 0, 0, 0, 1, 0, 0, 0, 0, 1, 0, 0, 0, 0, 0, 0, 0, 0, 0, 0, 0, 0, 0, 0, 0, 0, 0, 0, 0, 0, 0, 0, 0, 0, 0, 0, 0, 0, 0, 0, 0, 0, 0, 0, 0, 0, 0, 0, 0, 0, 1, 0, 0, 0, 0, 0, 0, 0, 0, 0, 0, 0, 0, 0, 0, 0, 0, 0, 0, 0, 0, 0, 0, 0, 0, 0, 0, 0, 0, 0, 0, 0, 0, 0, 0, 0, 0, 0, 0, 0]\n"
     ]
    }
   ],
   "source": [
    "# Imprimir el resultado\n",
    "print(\"\\n--- RESULTADO FINAL ---\")\n",
    "print(\"Vector de conteos (soluciones en el frente por archivo):\")\n",
    "print(vector_de_conteos)"
   ]
  },
  {
   "cell_type": "code",
   "execution_count": 21,
   "id": "71adcc15",
   "metadata": {},
   "outputs": [],
   "source": [
    "import seaborn as sns\n",
    "import matplotlib.pyplot as plt"
   ]
  },
  {
   "cell_type": "code",
   "execution_count": 22,
   "id": "013d018e",
   "metadata": {},
   "outputs": [],
   "source": [
    "def graficar_boxplots_por_alpha(vector_de_conteos: list, archive: str):\n",
    "    \"\"\"\n",
    "    Genera una gráfica de boxplots a partir de un vector de conteos.\n",
    "\n",
    "    La función asume que el vector contiene 110 elementos que corresponden a\n",
    "    11 grupos de 10 ejecuciones cada uno, donde cada grupo representa un\n",
    "    valor de alpha de 0.0 a 1.0.\n",
    "\n",
    "    Args:\n",
    "        vector_de_conteos (list): La lista de 110 conteos de soluciones.\n",
    "        archive (str): El nombre base del archivo, usado para el título del gráfico.\n",
    "    \"\"\"\n",
    "    if len(vector_de_conteos) != 110:\n",
    "        print(f\"❌ Error: Se esperaba un vector con 110 elementos, pero se recibieron {len(vector_de_conteos)}.\")\n",
    "        return\n",
    "\n",
    "    # 1. Preparar los datos para la gráfica\n",
    "    # Creamos las etiquetas para los 11 grupos de alpha\n",
    "    alphas = np.linspace(0, 1, 11)  # [0.0, 0.1, ..., 1.0]\n",
    "    \n",
    "    # Repetimos cada valor de alpha 10 veces para que coincida con cada conteo\n",
    "    grupos_alpha = np.repeat(alphas, 10) # [0.0, 0.0, ..., 0.1, 0.1, ..., 1.0]\n",
    "\n",
    "    # Creamos un DataFrame de Pandas, que es el formato ideal para Seaborn\n",
    "    df_grafica = pd.DataFrame({\n",
    "        'Alpha': grupos_alpha,\n",
    "        'Conteo de Soluciones': vector_de_conteos\n",
    "    })\n",
    "\n",
    "    # 2. Crear la gráfica\n",
    "    sns.set_theme(style=\"whitegrid\")  # Establecer un estilo visual agradable\n",
    "    plt.figure(figsize=(14, 8))       # Definir el tamaño de la figura\n",
    "\n",
    "    # Crear el boxplot\n",
    "    ax = sns.boxplot(x='Alpha', y='Conteo de Soluciones', data=df_grafica, palette=\"viridis\")\n",
    "\n",
    "    # 3. Personalizar la gráfica\n",
    "    # Formatear las etiquetas del eje X para que muestren solo un decimal\n",
    "    ax.set_xticklabels([f'{alpha:.1f}' for alpha in alphas])\n",
    "    \n",
    "    plt.title(f'Distribución de Soluciones Encontradas en el Frente de Pareto\\n(Instancia: {archive})', fontsize=16)\n",
    "    plt.xlabel('Valor de Alpha', fontsize=12)\n",
    "    plt.ylabel('Número de Soluciones en el Frente', fontsize=12)\n",
    "    plt.tight_layout() # Ajusta el gráfico para que todo encaje bien\n",
    "\n",
    "    # 4. Mostrar la gráfica\n",
    "    plt.show()"
   ]
  },
  {
   "cell_type": "code",
   "execution_count": 23,
   "id": "fe3319a4",
   "metadata": {},
   "outputs": [
    {
     "name": "stderr",
     "output_type": "stream",
     "text": [
      "C:\\Users\\User\\AppData\\Local\\Temp\\ipykernel_14120\\2683077784.py:35: FutureWarning: \n",
      "\n",
      "Passing `palette` without assigning `hue` is deprecated and will be removed in v0.14.0. Assign the `x` variable to `hue` and set `legend=False` for the same effect.\n",
      "\n",
      "  ax = sns.boxplot(x='Alpha', y='Conteo de Soluciones', data=df_grafica, palette=\"viridis\")\n",
      "C:\\Users\\User\\AppData\\Local\\Temp\\ipykernel_14120\\2683077784.py:39: UserWarning: set_ticklabels() should only be used with a fixed number of ticks, i.e. after set_ticks() or using a FixedLocator.\n",
      "  ax.set_xticklabels([f'{alpha:.1f}' for alpha in alphas])\n"
     ]
    },
    {
     "data": {
      "image/png": "[encoded data removed]",
      "text/plain": [
       "<Figure size 1400x800 with 1 Axes>"
      ]
     },
     "metadata": {},
     "output_type": "display_data"
    }
   ],
   "source": [
    "graficar_boxplots_por_alpha(vector_de_conteos, archive)"
   ]
  }
 ],
 "metadata": {
  "kernelspec": {
   "display_name": "Optimization",
   "language": "python",
   "name": "python3"
  },
  "language_info": {
   "codemirror_mode": {
    "name": "ipython",
    "version": 3
   },
   "file_extension": ".py",
   "mimetype": "text/x-python",
   "name": "python",
   "nbconvert_exporter": "python",
   "pygments_lexer": "ipython3",
   "version": "3.12.7"
  }
 },
 "nbformat": 4,
 "nbformat_minor": 5
}
