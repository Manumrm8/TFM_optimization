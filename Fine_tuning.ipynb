{
 "cells": [
  {
   "cell_type": "code",
   "execution_count": 22,
   "id": "b78d63a2",
   "metadata": {},
   "outputs": [],
   "source": [
    "import numpy as np\n",
    "import os\n",
    "import json\n",
    "\n",
    "from tools import create_distances\n",
    "from tools.grasp_multiprocessing_MAB import multi_GRASP_Bandit\n",
    "from tools.fine_tuning import contar_soluciones_en_pareto, graficar_boxplots_por_alpha, graficar_boxplots_por_beta, borrar_resultados_hashtag\n",
    "\n",
    "import multiprocessing\n",
    "from tqdm import tqdm\n"
   ]
  },
  {
   "cell_type": "code",
   "execution_count": 2,
   "id": "82250ac9",
   "metadata": {},
   "outputs": [],
   "source": [
    "archive = \"WorkSpace 1000_50_5\"\n",
    "k=5\n",
    "m=50\n",
    "context_size=3"
   ]
  },
  {
   "cell_type": "code",
   "execution_count": 4,
   "id": "cd128706",
   "metadata": {},
   "outputs": [],
   "source": [
    "max_iterations=5"
   ]
  },
  {
   "cell_type": "code",
   "execution_count": 5,
   "id": "96575a5e",
   "metadata": {},
   "outputs": [],
   "source": [
    "#alpha=0.3\n",
    "beta=0.2\n",
    "learning_rate=1"
   ]
  },
  {
   "cell_type": "code",
   "execution_count": 6,
   "id": "5acdaeea",
   "metadata": {},
   "outputs": [],
   "source": [
    "create_distances.create_distances(archive)"
   ]
  },
  {
   "cell_type": "code",
   "execution_count": 7,
   "id": "8a22def6",
   "metadata": {},
   "outputs": [],
   "source": [
    "def ejecutar_con_pool_alpha(archive, k, m, context_size, max_iterations, beta, learning_rate):\n",
    "    \"\"\"\n",
    "    Ejecuta la función multi_GRASP_Bandit 110 veces en paralelo.\n",
    "\n",
    "    Las ejecuciones se dividen en 11 grupos de 10. Cada grupo tiene un\n",
    "    valor de alpha diferente, comenzando en 0.0 para el primer grupo y\n",
    "    aumentando en 0.1 hasta llegar a 1.0 en el último.\n",
    "\n",
    "    Args:\n",
    "        archive: El parámetro 'archive' para multi_GRASP_Bandit.\n",
    "        k: El parámetro 'k' para multi_GRASP_Bandit.\n",
    "        m: El parámetro 'm' para multi_GRASP_Bandit.\n",
    "        context_size: El parámetro 'context_size' para multi_GRASP_Bandit.\n",
    "        max_iterations: El parámetro 'max_iterations' para multi_GRASP_Bandit.\n",
    "        betha: El parámetro 'betha' para multi_GRASP_Bandit.\n",
    "        learning_rate: El parámetro 'learning_rate' para multi_GRASP_Bandit.\n",
    "    \"\"\"\n",
    "    # Genera la lista de 11 valores para alpha, de 0.0 a 1.0\n",
    "    # np.linspace(0, 1, 11) crea [0.0, 0.1, 0.2, 0.3, 0.4, 0.5, 0.6, 0.7, 0.8, 0.9, 1.0]\n",
    "    alphas = np.linspace(0, 1, 11)\n",
    "    \n",
    "    lista_de_argumentos = []\n",
    "    corrida_id_counter = 1\n",
    "\n",
    "    # Itera sobre cada valor de alpha\n",
    "    for alpha_val in alphas:\n",
    "        # Para cada alpha, crea 20 ejecuciones (corridas)\n",
    "        for _ in range(20):\n",
    "            argumentos = (archive, k, m, context_size, max_iterations, alpha_val, beta, learning_rate, corrida_id_counter)\n",
    "            lista_de_argumentos.append(argumentos)\n",
    "            corrida_id_counter += 1\n",
    "            \n",
    "    # Usa un pool de procesos para ejecutar todas las tareas en paralelo\n",
    "    with multiprocessing.Pool() as pool:\n",
    "        # starmap es útil cuando los argumentos de la función son tuplas\n",
    "        pool.starmap(multi_GRASP_Bandit, lista_de_argumentos)\n"
   ]
  },
  {
   "cell_type": "code",
   "execution_count": null,
   "id": "4a7b2f77",
   "metadata": {},
   "outputs": [],
   "source": [
    "def ejecutar_con_pool_beta(archive, k, m, context_size, max_iterations, alpha, learning_rate):\n",
    "    \"\"\"\n",
    "    Ejecuta la función multi_GRASP_Bandit 110 veces en paralelo.\n",
    "\n",
    "    Las ejecuciones se dividen en 11 grupos de 10. Cada grupo tiene un\n",
    "    valor de alpha diferente, comenzando en 0.0 para el primer grupo y\n",
    "    aumentando en 0.1 hasta llegar a 1.0 en el último.\n",
    "\n",
    "    Args:\n",
    "        archive: El parámetro 'archive' para multi_GRASP_Bandit.\n",
    "        k: El parámetro 'k' para multi_GRASP_Bandit.\n",
    "        m: El parámetro 'm' para multi_GRASP_Bandit.\n",
    "        context_size: El parámetro 'context_size' para multi_GRASP_Bandit.\n",
    "        max_iterations: El parámetro 'max_iterations' para multi_GRASP_Bandit.\n",
    "        betha: El parámetro 'betha' para multi_GRASP_Bandit.\n",
    "        learning_rate: El parámetro 'learning_rate' para multi_GRASP_Bandit.\n",
    "    \"\"\"\n",
    "    # Genera la lista de 11 valores para alpha, de 0.0 a 1.0\n",
    "    # np.linspace(0, 1, 11) crea [0.0, 0.1, 0.2, 0.3, 0.4, 0.5, 0.6, 0.7, 0.8, 0.9, 1.0]\n",
    "    bethas = np.linspace(0, 1, 11)\n",
    "    \n",
    "    lista_de_argumentos = []\n",
    "    corrida_id_counter = 1\n",
    "\n",
    "    # Itera sobre cada valor de alpha\n",
    "    for betha_val in bethas:\n",
    "        # Para cada alpha, crea 20 ejecuciones (corridas)\n",
    "        for _ in range(20):\n",
    "            argumentos = (archive, k, m, context_size, max_iterations, alpha, betha_val, learning_rate, corrida_id_counter)\n",
    "            lista_de_argumentos.append(argumentos)\n",
    "            corrida_id_counter += 1\n",
    "            \n",
    "    # Usa un pool de procesos para ejecutar todas las tareas en paralelo\n",
    "    with multiprocessing.Pool() as pool:\n",
    "        # starmap es útil cuando los argumentos de la función son tuplas\n",
    "        pool.starmap(multi_GRASP_Bandit, lista_de_argumentos)\n"
   ]
  },
  {
   "cell_type": "code",
   "execution_count": 8,
   "id": "19012794",
   "metadata": {},
   "outputs": [
    {
     "name": "stdout",
     "output_type": "stream",
     "text": [
      "Buscando archivos con '#' en la carpeta: Solutions/Multiprocessing/WorkSpace 1000_50_5\n"
     ]
    }
   ],
   "source": [
    "ruta_borrado=f\"Solutions/Multiprocessing/{archive}\"\n",
    "borrar_resultados_hashtag(ruta_borrado)"
   ]
  },
  {
   "cell_type": "code",
   "execution_count": 43,
   "id": "fae818a7",
   "metadata": {},
   "outputs": [
    {
     "name": "stderr",
     "output_type": "stream",
     "text": [
      "Ejecutando GRASP: 100%|██████████| 2000/2000 [3:22:13<00:00,  6.07s/it]  \n"
     ]
    }
   ],
   "source": [
    "for i in tqdm(range(2000), desc=\"Ejecutando GRASP\"):\n",
    "    ejecutar_con_pool_alpha(archive, k, m, context_size, max_iterations, beta, learning_rate)"
   ]
  },
  {
   "cell_type": "code",
   "execution_count": 44,
   "id": "7ab061c3",
   "metadata": {},
   "outputs": [
    {
     "name": "stdout",
     "output_type": "stream",
     "text": [
      "✅ Frente de Pareto cargado desde 'Pareto_front/WorkSpace 1000_50_5.csv'. Contiene 18 soluciones.\n"
     ]
    }
   ],
   "source": [
    "# Llamar a la función principal (procesará hasta el número 5, aunque solo existan 4)\n",
    "vector_de_conteos = contar_soluciones_en_pareto(archive, total_corridas=220)"
   ]
  },
  {
   "cell_type": "markdown",
   "id": "1f086486",
   "metadata": {},
   "source": [
    "# Guardar conteos"
   ]
  },
  {
   "cell_type": "code",
   "execution_count": 45,
   "id": "052fb93a",
   "metadata": {},
   "outputs": [],
   "source": [
    "nombre_archivo = \"Results_finetuning/alpha_6000.json\""
   ]
  },
  {
   "cell_type": "code",
   "execution_count": 46,
   "id": "aa7ab902",
   "metadata": {},
   "outputs": [
    {
     "name": "stdout",
     "output_type": "stream",
     "text": [
      "✅ Archivo de texto 'Results_finetuning/alpha_6000.json' creado.\n"
     ]
    }
   ],
   "source": [
    "if not os.path.exists(nombre_archivo):\n",
    "    with open(nombre_archivo, 'w') as f:\n",
    "        for elemento in vector_de_conteos:\n",
    "            f.write(str(elemento) + '\\n')\n",
    "    print(f\"✅ Archivo de texto '{nombre_archivo}' creado.\")\n",
    "else:\n",
    "    print(f\"⚠️ El archivo '{nombre_archivo}' ya existe.\")"
   ]
  },
  {
   "cell_type": "markdown",
   "id": "b5917007",
   "metadata": {},
   "source": [
    "# Leer conteos"
   ]
  },
  {
   "cell_type": "code",
   "execution_count": 47,
   "id": "6121dfed",
   "metadata": {},
   "outputs": [
    {
     "name": "stdout",
     "output_type": "stream",
     "text": [
      "Lista cargada: [14.0, 11.0, 10.0, 11.0, 13.0, 11.0, 11.0, 11.0, 10.0, 13.0, 10.0, 10.0, 11.0, 9.0, 11.0, 11.0, 14.0, 10.0, 11.0, 11.0, 11.0, 13.0, 13.0, 13.0, 10.0, 14.0, 14.0, 12.0, 11.0, 9.0, 12.0, 15.0, 11.0, 12.0, 14.0, 12.0, 12.0, 11.0, 11.0, 15.0, 14.0, 11.0, 12.0, 12.0, 12.0, 10.0, 14.0, 12.0, 10.0, 12.0, 7.0, 12.0, 14.0, 14.0, 10.0, 13.0, 11.0, 12.0, 11.0, 12.0, 14.0, 10.0, 11.0, 9.0, 13.0, 14.0, 14.0, 13.0, 12.0, 12.0, 14.0, 14.0, 12.0, 11.0, 14.0, 15.0, 12.0, 14.0, 16.0, 12.0, 9.0, 12.0, 13.0, 12.0, 8.0, 12.0, 10.0, 13.0, 15.0, 12.0, 11.0, 12.0, 11.0, 11.0, 9.0, 10.0, 11.0, 11.0, 12.0, 8.0, 9.0, 9.0, 13.0, 10.0, 11.0, 12.0, 9.0, 9.0, 11.0, 12.0, 13.0, 9.0, 13.0, 13.0, 13.0, 11.0, 12.0, 13.0, 10.0, 11.0, 13.0, 9.0, 8.0, 13.0, 10.0, 12.0, 12.0, 8.0, 13.0, 13.0, 11.0, 12.0, 11.0, 12.0, 13.0, 12.0, 14.0, 12.0, 12.0, 10.0, 11.0, 11.0, 9.0, 10.0, 11.0, 14.0, 11.0, 11.0, 10.0, 14.0, 8.0, 12.0, 7.0, 12.0, 11.0, 10.0, 10.0, 12.0, 13.0, 10.0, 10.0, 12.0, 9.0, 12.0, 9.0, 10.0, 11.0, 12.0, 12.0, 9.0, 10.0, 10.0, 11.0, 8.0, 12.0, 10.0, 13.0, 10.0, 11.0, 13.0, 13.0, 10.0, 13.0, 6.0, 11.0, 12.0, 9.0, 11.0, 12.0, 11.0, 9.0, 10.0, 10.0, 12.0, 10.0, 11.0, 10.0, 11.0, 11.0, 12.0, 9.0, 12.0, 10.0, 9.0, 12.0, 9.0, 6.0, 9.0, 5.0, 10.0, 9.0, 6.0, 10.0, 8.0, 6.0, 5.0, 8.0, 9.0, 10.0, 10.0]\n"
     ]
    }
   ],
   "source": [
    "vector_de_conteos = []\n",
    "with open(nombre_archivo, 'r') as f:\n",
    "    for linea in f:\n",
    "        # strip() elimina espacios en blanco y saltos de línea\n",
    "        # float() convierte el texto a número (usa int() si solo tienes enteros)\n",
    "        vector_de_conteos.append(float(linea.strip()))\n",
    "\n",
    "print(\"Lista cargada:\", vector_de_conteos)"
   ]
  },
  {
   "cell_type": "code",
   "execution_count": 48,
   "id": "7ee21a20",
   "metadata": {},
   "outputs": [
    {
     "data": {
      "text/plain": [
       "np.float64(11.14090909090909)"
      ]
     },
     "execution_count": 48,
     "metadata": {},
     "output_type": "execute_result"
    }
   ],
   "source": [
    "np.mean(vector_de_conteos)"
   ]
  },
  {
   "cell_type": "code",
   "execution_count": 49,
   "id": "fe3319a4",
   "metadata": {},
   "outputs": [
    {
     "data": {
      "image/png": "[encoded data removed]",
      "text/plain": [
       "<Figure size 1400x800 with 1 Axes>"
      ]
     },
     "metadata": {},
     "output_type": "display_data"
    }
   ],
   "source": [
    "graficar_boxplots_por_beta(vector_de_conteos, archive)"
   ]
  }
 ],
 "metadata": {
  "kernelspec": {
   "display_name": "Python 3",
   "language": "python",
   "name": "python3"
  },
  "language_info": {
   "codemirror_mode": {
    "name": "ipython",
    "version": 3
   },
   "file_extension": ".py",
   "mimetype": "text/x-python",
   "name": "python",
   "nbconvert_exporter": "python",
   "pygments_lexer": "ipython3",
   "version": "3.13.5"
  }
 },
 "nbformat": 4,
 "nbformat_minor": 5
}
