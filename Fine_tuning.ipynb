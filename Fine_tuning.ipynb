{
 "cells": [
  {
   "cell_type": "code",
   "execution_count": null,
   "id": "b78d63a2",
   "metadata": {},
   "outputs": [],
   "source": [
    "import numpy as np\n",
    "\n",
    "from tools import create_distances\n",
    "from tools.grasp_multiprocessing_MAB import multi_GRASP_Bandit\n",
    "from tools.fine_tuning import contar_soluciones_en_pareto, graficar_boxplots_por_betha, borrar_resultados_hashtag\n",
    "\n",
    "import multiprocessing\n",
    "from tqdm import tqdm\n"
   ]
  },
  {
   "cell_type": "code",
   "execution_count": 3,
   "id": "82250ac9",
   "metadata": {},
   "outputs": [],
   "source": [
    "archive = \"WorkSpace 1000_50_5\"\n",
    "k=5\n",
    "m=50\n",
    "context_size=3"
   ]
  },
  {
   "cell_type": "code",
   "execution_count": 4,
   "id": "cd128706",
   "metadata": {},
   "outputs": [],
   "source": [
    "max_iterations=5"
   ]
  },
  {
   "cell_type": "code",
   "execution_count": null,
   "id": "96575a5e",
   "metadata": {},
   "outputs": [],
   "source": [
    "alpha=0.3\n",
    "#betha=0.2\n",
    "learning_rate=1"
   ]
  },
  {
   "cell_type": "code",
   "execution_count": 6,
   "id": "5acdaeea",
   "metadata": {},
   "outputs": [],
   "source": [
    "create_distances.create_distances(archive)"
   ]
  },
  {
   "cell_type": "code",
   "execution_count": null,
   "id": "4a7b2f77",
   "metadata": {},
   "outputs": [],
   "source": [
    "def ejecutar_con_pool_betha(archive, k, m, context_size, max_iterations, alpha, learning_rate):\n",
    "    \"\"\"\n",
    "    Ejecuta la función multi_GRASP_Bandit 110 veces en paralelo.\n",
    "\n",
    "    Las ejecuciones se dividen en 11 grupos de 10. Cada grupo tiene un\n",
    "    valor de alpha diferente, comenzando en 0.0 para el primer grupo y\n",
    "    aumentando en 0.1 hasta llegar a 1.0 en el último.\n",
    "\n",
    "    Args:\n",
    "        archive: El parámetro 'archive' para multi_GRASP_Bandit.\n",
    "        k: El parámetro 'k' para multi_GRASP_Bandit.\n",
    "        m: El parámetro 'm' para multi_GRASP_Bandit.\n",
    "        context_size: El parámetro 'context_size' para multi_GRASP_Bandit.\n",
    "        max_iterations: El parámetro 'max_iterations' para multi_GRASP_Bandit.\n",
    "        betha: El parámetro 'betha' para multi_GRASP_Bandit.\n",
    "        learning_rate: El parámetro 'learning_rate' para multi_GRASP_Bandit.\n",
    "    \"\"\"\n",
    "    # Genera la lista de 11 valores para alpha, de 0.0 a 1.0\n",
    "    # np.linspace(0, 1, 11) crea [0.0, 0.1, 0.2, 0.3, 0.4, 0.5, 0.6, 0.7, 0.8, 0.9, 1.0]\n",
    "    bethas = np.linspace(0, 1, 11)\n",
    "    \n",
    "    lista_de_argumentos = []\n",
    "    corrida_id_counter = 1\n",
    "\n",
    "    # Itera sobre cada valor de alpha\n",
    "    for betha_val in bethas:\n",
    "        # Para cada alpha, crea 20 ejecuciones (corridas)\n",
    "        for _ in range(20):\n",
    "            argumentos = (archive, k, m, context_size, max_iterations, alpha, betha_val, learning_rate, corrida_id_counter)\n",
    "            lista_de_argumentos.append(argumentos)\n",
    "            corrida_id_counter += 1\n",
    "            \n",
    "    # Usa un pool de procesos para ejecutar todas las tareas en paralelo\n",
    "    with multiprocessing.Pool() as pool:\n",
    "        # starmap es útil cuando los argumentos de la función son tuplas\n",
    "        pool.starmap(multi_GRASP_Bandit, lista_de_argumentos)\n"
   ]
  },
  {
   "cell_type": "code",
   "execution_count": 8,
   "id": "19012794",
   "metadata": {},
   "outputs": [
    {
     "name": "stdout",
     "output_type": "stream",
     "text": [
      "Buscando archivos con '#' en la carpeta: Solutions/Multiprocessing/WorkSpace 1000_50_5\n",
      "Eliminado: WorkSpace 1000_50_5_#1.csv\n",
      "Eliminado: WorkSpace 1000_50_5_#10.csv\n",
      "Eliminado: WorkSpace 1000_50_5_#100.csv\n",
      "Eliminado: WorkSpace 1000_50_5_#101.csv\n",
      "Eliminado: WorkSpace 1000_50_5_#102.csv\n",
      "Eliminado: WorkSpace 1000_50_5_#103.csv\n",
      "Eliminado: WorkSpace 1000_50_5_#104.csv\n",
      "Eliminado: WorkSpace 1000_50_5_#105.csv\n",
      "Eliminado: WorkSpace 1000_50_5_#106.csv\n",
      "Eliminado: WorkSpace 1000_50_5_#107.csv\n",
      "Eliminado: WorkSpace 1000_50_5_#108.csv\n",
      "Eliminado: WorkSpace 1000_50_5_#109.csv\n",
      "Eliminado: WorkSpace 1000_50_5_#11.csv\n",
      "Eliminado: WorkSpace 1000_50_5_#110.csv\n",
      "Eliminado: WorkSpace 1000_50_5_#111.csv\n",
      "Eliminado: WorkSpace 1000_50_5_#112.csv\n",
      "Eliminado: WorkSpace 1000_50_5_#113.csv\n",
      "Eliminado: WorkSpace 1000_50_5_#114.csv\n",
      "Eliminado: WorkSpace 1000_50_5_#115.csv\n",
      "Eliminado: WorkSpace 1000_50_5_#116.csv\n",
      "Eliminado: WorkSpace 1000_50_5_#117.csv\n",
      "Eliminado: WorkSpace 1000_50_5_#118.csv\n",
      "Eliminado: WorkSpace 1000_50_5_#119.csv\n",
      "Eliminado: WorkSpace 1000_50_5_#12.csv\n",
      "Eliminado: WorkSpace 1000_50_5_#120.csv\n",
      "Eliminado: WorkSpace 1000_50_5_#121.csv\n",
      "Eliminado: WorkSpace 1000_50_5_#122.csv\n",
      "Eliminado: WorkSpace 1000_50_5_#123.csv\n",
      "Eliminado: WorkSpace 1000_50_5_#124.csv\n",
      "Eliminado: WorkSpace 1000_50_5_#125.csv\n",
      "Eliminado: WorkSpace 1000_50_5_#126.csv\n",
      "Eliminado: WorkSpace 1000_50_5_#127.csv\n",
      "Eliminado: WorkSpace 1000_50_5_#128.csv\n",
      "Eliminado: WorkSpace 1000_50_5_#129.csv\n",
      "Eliminado: WorkSpace 1000_50_5_#13.csv\n",
      "Eliminado: WorkSpace 1000_50_5_#130.csv\n",
      "Eliminado: WorkSpace 1000_50_5_#131.csv\n",
      "Eliminado: WorkSpace 1000_50_5_#132.csv\n",
      "Eliminado: WorkSpace 1000_50_5_#133.csv\n",
      "Eliminado: WorkSpace 1000_50_5_#134.csv\n",
      "Eliminado: WorkSpace 1000_50_5_#135.csv\n",
      "Eliminado: WorkSpace 1000_50_5_#136.csv\n",
      "Eliminado: WorkSpace 1000_50_5_#137.csv\n",
      "Eliminado: WorkSpace 1000_50_5_#138.csv\n",
      "Eliminado: WorkSpace 1000_50_5_#139.csv\n",
      "Eliminado: WorkSpace 1000_50_5_#14.csv\n",
      "Eliminado: WorkSpace 1000_50_5_#140.csv\n",
      "Eliminado: WorkSpace 1000_50_5_#141.csv\n",
      "Eliminado: WorkSpace 1000_50_5_#142.csv\n",
      "Eliminado: WorkSpace 1000_50_5_#143.csv\n",
      "Eliminado: WorkSpace 1000_50_5_#144.csv\n",
      "Eliminado: WorkSpace 1000_50_5_#145.csv\n",
      "Eliminado: WorkSpace 1000_50_5_#146.csv\n",
      "Eliminado: WorkSpace 1000_50_5_#147.csv\n",
      "Eliminado: WorkSpace 1000_50_5_#148.csv\n",
      "Eliminado: WorkSpace 1000_50_5_#149.csv\n",
      "Eliminado: WorkSpace 1000_50_5_#15.csv\n",
      "Eliminado: WorkSpace 1000_50_5_#150.csv\n",
      "Eliminado: WorkSpace 1000_50_5_#151.csv\n",
      "Eliminado: WorkSpace 1000_50_5_#152.csv\n",
      "Eliminado: WorkSpace 1000_50_5_#153.csv\n",
      "Eliminado: WorkSpace 1000_50_5_#154.csv\n",
      "Eliminado: WorkSpace 1000_50_5_#155.csv\n",
      "Eliminado: WorkSpace 1000_50_5_#156.csv\n",
      "Eliminado: WorkSpace 1000_50_5_#157.csv\n",
      "Eliminado: WorkSpace 1000_50_5_#158.csv\n",
      "Eliminado: WorkSpace 1000_50_5_#159.csv\n",
      "Eliminado: WorkSpace 1000_50_5_#16.csv\n",
      "Eliminado: WorkSpace 1000_50_5_#160.csv\n",
      "Eliminado: WorkSpace 1000_50_5_#161.csv\n",
      "Eliminado: WorkSpace 1000_50_5_#162.csv\n",
      "Eliminado: WorkSpace 1000_50_5_#163.csv\n",
      "Eliminado: WorkSpace 1000_50_5_#164.csv\n",
      "Eliminado: WorkSpace 1000_50_5_#165.csv\n",
      "Eliminado: WorkSpace 1000_50_5_#166.csv\n",
      "Eliminado: WorkSpace 1000_50_5_#167.csv\n",
      "Eliminado: WorkSpace 1000_50_5_#168.csv\n",
      "Eliminado: WorkSpace 1000_50_5_#169.csv\n",
      "Eliminado: WorkSpace 1000_50_5_#17.csv\n",
      "Eliminado: WorkSpace 1000_50_5_#170.csv\n",
      "Eliminado: WorkSpace 1000_50_5_#171.csv\n",
      "Eliminado: WorkSpace 1000_50_5_#172.csv\n",
      "Eliminado: WorkSpace 1000_50_5_#173.csv\n",
      "Eliminado: WorkSpace 1000_50_5_#174.csv\n",
      "Eliminado: WorkSpace 1000_50_5_#175.csv\n",
      "Eliminado: WorkSpace 1000_50_5_#176.csv\n",
      "Eliminado: WorkSpace 1000_50_5_#177.csv\n",
      "Eliminado: WorkSpace 1000_50_5_#178.csv\n",
      "Eliminado: WorkSpace 1000_50_5_#179.csv\n",
      "Eliminado: WorkSpace 1000_50_5_#18.csv\n",
      "Eliminado: WorkSpace 1000_50_5_#180.csv\n",
      "Eliminado: WorkSpace 1000_50_5_#181.csv\n",
      "Eliminado: WorkSpace 1000_50_5_#182.csv\n",
      "Eliminado: WorkSpace 1000_50_5_#183.csv\n",
      "Eliminado: WorkSpace 1000_50_5_#184.csv\n",
      "Eliminado: WorkSpace 1000_50_5_#185.csv\n",
      "Eliminado: WorkSpace 1000_50_5_#186.csv\n",
      "Eliminado: WorkSpace 1000_50_5_#187.csv\n",
      "Eliminado: WorkSpace 1000_50_5_#188.csv\n",
      "Eliminado: WorkSpace 1000_50_5_#189.csv\n",
      "Eliminado: WorkSpace 1000_50_5_#19.csv\n",
      "Eliminado: WorkSpace 1000_50_5_#190.csv\n",
      "Eliminado: WorkSpace 1000_50_5_#191.csv\n",
      "Eliminado: WorkSpace 1000_50_5_#192.csv\n",
      "Eliminado: WorkSpace 1000_50_5_#193.csv\n",
      "Eliminado: WorkSpace 1000_50_5_#194.csv\n",
      "Eliminado: WorkSpace 1000_50_5_#195.csv\n",
      "Eliminado: WorkSpace 1000_50_5_#196.csv\n",
      "Eliminado: WorkSpace 1000_50_5_#197.csv\n",
      "Eliminado: WorkSpace 1000_50_5_#198.csv\n",
      "Eliminado: WorkSpace 1000_50_5_#199.csv\n",
      "Eliminado: WorkSpace 1000_50_5_#2.csv\n",
      "Eliminado: WorkSpace 1000_50_5_#20.csv\n",
      "Eliminado: WorkSpace 1000_50_5_#200.csv\n",
      "Eliminado: WorkSpace 1000_50_5_#201.csv\n",
      "Eliminado: WorkSpace 1000_50_5_#202.csv\n",
      "Eliminado: WorkSpace 1000_50_5_#203.csv\n",
      "Eliminado: WorkSpace 1000_50_5_#204.csv\n",
      "Eliminado: WorkSpace 1000_50_5_#205.csv\n",
      "Eliminado: WorkSpace 1000_50_5_#206.csv\n",
      "Eliminado: WorkSpace 1000_50_5_#207.csv\n",
      "Eliminado: WorkSpace 1000_50_5_#208.csv\n",
      "Eliminado: WorkSpace 1000_50_5_#209.csv\n",
      "Eliminado: WorkSpace 1000_50_5_#21.csv\n",
      "Eliminado: WorkSpace 1000_50_5_#210.csv\n",
      "Eliminado: WorkSpace 1000_50_5_#211.csv\n",
      "Eliminado: WorkSpace 1000_50_5_#212.csv\n",
      "Eliminado: WorkSpace 1000_50_5_#213.csv\n",
      "Eliminado: WorkSpace 1000_50_5_#214.csv\n",
      "Eliminado: WorkSpace 1000_50_5_#215.csv\n",
      "Eliminado: WorkSpace 1000_50_5_#216.csv\n",
      "Eliminado: WorkSpace 1000_50_5_#217.csv\n",
      "Eliminado: WorkSpace 1000_50_5_#218.csv\n",
      "Eliminado: WorkSpace 1000_50_5_#219.csv\n",
      "Eliminado: WorkSpace 1000_50_5_#22.csv\n",
      "Eliminado: WorkSpace 1000_50_5_#220.csv\n",
      "Eliminado: WorkSpace 1000_50_5_#23.csv\n",
      "Eliminado: WorkSpace 1000_50_5_#24.csv\n",
      "Eliminado: WorkSpace 1000_50_5_#25.csv\n",
      "Eliminado: WorkSpace 1000_50_5_#26.csv\n",
      "Eliminado: WorkSpace 1000_50_5_#27.csv\n",
      "Eliminado: WorkSpace 1000_50_5_#28.csv\n",
      "Eliminado: WorkSpace 1000_50_5_#29.csv\n",
      "Eliminado: WorkSpace 1000_50_5_#3.csv\n",
      "Eliminado: WorkSpace 1000_50_5_#30.csv\n",
      "Eliminado: WorkSpace 1000_50_5_#31.csv\n",
      "Eliminado: WorkSpace 1000_50_5_#32.csv\n",
      "Eliminado: WorkSpace 1000_50_5_#33.csv\n",
      "Eliminado: WorkSpace 1000_50_5_#34.csv\n",
      "Eliminado: WorkSpace 1000_50_5_#35.csv\n",
      "Eliminado: WorkSpace 1000_50_5_#36.csv\n",
      "Eliminado: WorkSpace 1000_50_5_#37.csv\n",
      "Eliminado: WorkSpace 1000_50_5_#38.csv\n",
      "Eliminado: WorkSpace 1000_50_5_#39.csv\n",
      "Eliminado: WorkSpace 1000_50_5_#4.csv\n",
      "Eliminado: WorkSpace 1000_50_5_#40.csv\n",
      "Eliminado: WorkSpace 1000_50_5_#41.csv\n",
      "Eliminado: WorkSpace 1000_50_5_#42.csv\n",
      "Eliminado: WorkSpace 1000_50_5_#43.csv\n",
      "Eliminado: WorkSpace 1000_50_5_#44.csv\n",
      "Eliminado: WorkSpace 1000_50_5_#45.csv\n",
      "Eliminado: WorkSpace 1000_50_5_#46.csv\n",
      "Eliminado: WorkSpace 1000_50_5_#47.csv\n",
      "Eliminado: WorkSpace 1000_50_5_#48.csv\n",
      "Eliminado: WorkSpace 1000_50_5_#49.csv\n",
      "Eliminado: WorkSpace 1000_50_5_#5.csv\n",
      "Eliminado: WorkSpace 1000_50_5_#50.csv\n",
      "Eliminado: WorkSpace 1000_50_5_#51.csv\n",
      "Eliminado: WorkSpace 1000_50_5_#52.csv\n",
      "Eliminado: WorkSpace 1000_50_5_#53.csv\n",
      "Eliminado: WorkSpace 1000_50_5_#54.csv\n",
      "Eliminado: WorkSpace 1000_50_5_#55.csv\n",
      "Eliminado: WorkSpace 1000_50_5_#56.csv\n",
      "Eliminado: WorkSpace 1000_50_5_#57.csv\n",
      "Eliminado: WorkSpace 1000_50_5_#58.csv\n",
      "Eliminado: WorkSpace 1000_50_5_#59.csv\n",
      "Eliminado: WorkSpace 1000_50_5_#6.csv\n",
      "Eliminado: WorkSpace 1000_50_5_#60.csv\n",
      "Eliminado: WorkSpace 1000_50_5_#61.csv\n",
      "Eliminado: WorkSpace 1000_50_5_#62.csv\n",
      "Eliminado: WorkSpace 1000_50_5_#63.csv\n",
      "Eliminado: WorkSpace 1000_50_5_#64.csv\n",
      "Eliminado: WorkSpace 1000_50_5_#65.csv\n",
      "Eliminado: WorkSpace 1000_50_5_#66.csv\n",
      "Eliminado: WorkSpace 1000_50_5_#67.csv\n",
      "Eliminado: WorkSpace 1000_50_5_#68.csv\n",
      "Eliminado: WorkSpace 1000_50_5_#69.csv\n",
      "Eliminado: WorkSpace 1000_50_5_#7.csv\n",
      "Eliminado: WorkSpace 1000_50_5_#70.csv\n",
      "Eliminado: WorkSpace 1000_50_5_#71.csv\n",
      "Eliminado: WorkSpace 1000_50_5_#72.csv\n",
      "Eliminado: WorkSpace 1000_50_5_#73.csv\n",
      "Eliminado: WorkSpace 1000_50_5_#74.csv\n",
      "Eliminado: WorkSpace 1000_50_5_#75.csv\n",
      "Eliminado: WorkSpace 1000_50_5_#76.csv\n",
      "Eliminado: WorkSpace 1000_50_5_#77.csv\n",
      "Eliminado: WorkSpace 1000_50_5_#78.csv\n",
      "Eliminado: WorkSpace 1000_50_5_#79.csv\n",
      "Eliminado: WorkSpace 1000_50_5_#8.csv\n",
      "Eliminado: WorkSpace 1000_50_5_#80.csv\n",
      "Eliminado: WorkSpace 1000_50_5_#81.csv\n",
      "Eliminado: WorkSpace 1000_50_5_#82.csv\n",
      "Eliminado: WorkSpace 1000_50_5_#83.csv\n",
      "Eliminado: WorkSpace 1000_50_5_#84.csv\n",
      "Eliminado: WorkSpace 1000_50_5_#85.csv\n",
      "Eliminado: WorkSpace 1000_50_5_#86.csv\n",
      "Eliminado: WorkSpace 1000_50_5_#87.csv\n",
      "Eliminado: WorkSpace 1000_50_5_#88.csv\n",
      "Eliminado: WorkSpace 1000_50_5_#89.csv\n",
      "Eliminado: WorkSpace 1000_50_5_#9.csv\n",
      "Eliminado: WorkSpace 1000_50_5_#90.csv\n",
      "Eliminado: WorkSpace 1000_50_5_#91.csv\n",
      "Eliminado: WorkSpace 1000_50_5_#92.csv\n",
      "Eliminado: WorkSpace 1000_50_5_#93.csv\n",
      "Eliminado: WorkSpace 1000_50_5_#94.csv\n",
      "Eliminado: WorkSpace 1000_50_5_#95.csv\n",
      "Eliminado: WorkSpace 1000_50_5_#96.csv\n",
      "Eliminado: WorkSpace 1000_50_5_#97.csv\n",
      "Eliminado: WorkSpace 1000_50_5_#98.csv\n",
      "Eliminado: WorkSpace 1000_50_5_#99.csv\n"
     ]
    }
   ],
   "source": [
    "ruta_borrado=f\"Solutions/Multiprocessing/{archive}\"\n",
    "borrar_resultados_hashtag(ruta_borrado)"
   ]
  },
  {
   "cell_type": "code",
   "execution_count": null,
   "id": "fae818a7",
   "metadata": {},
   "outputs": [
    {
     "name": "stderr",
     "output_type": "stream",
     "text": [
      "Ejecutando GRASP: 100%|██████████| 2000/2000 [3:05:28<00:00,  5.56s/it]  \n"
     ]
    }
   ],
   "source": [
    "for i in tqdm(range(2000), desc=\"Ejecutando GRASP\"):\n",
    "    ejecutar_con_pool_betha(archive, k, m, context_size, max_iterations, alpha, learning_rate)"
   ]
  },
  {
   "cell_type": "code",
   "execution_count": 18,
   "id": "7ab061c3",
   "metadata": {},
   "outputs": [
    {
     "name": "stdout",
     "output_type": "stream",
     "text": [
      "✅ Frente de Pareto cargado desde 'Pareto_front/WorkSpace 1000_50_5.csv'. Contiene 18 soluciones.\n"
     ]
    }
   ],
   "source": [
    "# Llamar a la función principal (procesará hasta el número 5, aunque solo existan 4)\n",
    "vector_de_conteos = contar_soluciones_en_pareto(archive, total_corridas=220)"
   ]
  },
  {
   "cell_type": "code",
   "execution_count": 19,
   "id": "7ee21a20",
   "metadata": {},
   "outputs": [
    {
     "data": {
      "text/plain": [
       "np.float64(11.204545454545455)"
      ]
     },
     "execution_count": 19,
     "metadata": {},
     "output_type": "execute_result"
    }
   ],
   "source": [
    "np.mean(vector_de_conteos)"
   ]
  },
  {
   "cell_type": "code",
   "execution_count": 20,
   "id": "fe3319a4",
   "metadata": {},
   "outputs": [
    {
     "data": {
      "image/png": "[encoded data removed]",
      "text/plain": [
       "<Figure size 1400x800 with 1 Axes>"
      ]
     },
     "metadata": {},
     "output_type": "display_data"
    }
   ],
   "source": [
    "graficar_boxplots_por_alpha(vector_de_conteos, archive)"
   ]
  }
 ],
 "metadata": {
  "kernelspec": {
   "display_name": "Python 3",
   "language": "python",
   "name": "python3"
  },
  "language_info": {
   "codemirror_mode": {
    "name": "ipython",
    "version": 3
   },
   "file_extension": ".py",
   "mimetype": "text/x-python",
   "name": "python",
   "nbconvert_exporter": "python",
   "pygments_lexer": "ipython3",
   "version": "3.13.5"
  }
 },
 "nbformat": 4,
 "nbformat_minor": 5
}
