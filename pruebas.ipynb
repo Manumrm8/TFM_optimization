{
 "cells": [
  {
   "cell_type": "markdown",
   "metadata": {},
   "source": [
    "# SoftMax"
   ]
  },
  {
   "cell_type": "code",
   "execution_count": 36,
   "metadata": {},
   "outputs": [],
   "source": [
    "context= [100,20,30]\n",
    "temperature=1\n",
    "n_arms=15"
   ]
  },
  {
   "cell_type": "code",
   "execution_count": 37,
   "metadata": {},
   "outputs": [],
   "source": [
    "weights=[[0, 0.7, 0.69],\n",
    " [0.72, 0.72, 0.72],\n",
    " [0.72, 0.72, 0.72],\n",
    " [0.72, 0.72, 10],\n",
    " [0.72, 0.72, 0.72],\n",
    " [0.72, 0.72, 0.72],\n",
    " [0.72, 0.72, 0.72],\n",
    " [0.72, 0.72, 0.72],\n",
    " [0.72, 0.72, 0.72],\n",
    " [0.72, 0.72, 0.72],\n",
    " [0.72, 0.72, 0.72],\n",
    " [0.72, 0.72, 0.72],\n",
    " [0.72, 0.72, 0.72],\n",
    " [0.72, 0.72, 0.72],\n",
    " [1, 0.87, 1]]"
   ]
  },
  {
   "cell_type": "code",
   "execution_count": 44,
   "metadata": {},
   "outputs": [],
   "source": [
    "def soft_max(context, temperature, n_arms, weights):\n",
    "    context_np = np.array(context).reshape(1, -1)  # Convertir a fila vector\n",
    "\n",
    "    context_np = context_np / np.sum(context_np)  # Normalización del contexto\n",
    "\n",
    "    expected_rewards = np.dot(weights, context_np.T).flatten()\n",
    "\n",
    "    # Aplicar softmax\n",
    "    exp_rewards = np.exp(\n",
    "        (expected_rewards - np.max(expected_rewards)) / temperature\n",
    "    ) \n",
    "\n",
    "    sum_exp_rewards = np.sum(exp_rewards)\n",
    "    if sum_exp_rewards == 0:\n",
    "        choice = np.random.choice(n_arms)\n",
    "    else:\n",
    "        try:\n",
    "            probabilities = exp_rewards / np.sum(exp_rewards)\n",
    "            choice = np.random.choice(n_arms, p=probabilities)\n",
    "        except Exception as e:\n",
    "            print(e)\n",
    "            print(weights)\n",
    "            print(probabilities)\n",
    "            choice = np.random.choice(n_arms)\n",
    "    print(exp_rewards)\n",
    "    return choice\n",
    "    "
   ]
  },
  {
   "cell_type": "code",
   "execution_count": 46,
   "metadata": {},
   "outputs": [
    {
     "name": "stdout",
     "output_type": "stream",
     "text": [
      "[0.09587916 0.15629657 0.15629657 1.         0.15629657 0.15629657\n",
      " 0.15629657 0.15629657 0.15629657 0.15629657 0.15629657 0.15629657\n",
      " 0.15629657 0.15629657 0.20324699]\n"
     ]
    },
    {
     "data": {
      "text/plain": [
       "7"
      ]
     },
     "execution_count": 46,
     "metadata": {},
     "output_type": "execute_result"
    }
   ],
   "source": [
    "soft_max(context, temperature, n_arms, weights)"
   ]
  },
  {
   "cell_type": "code",
   "execution_count": 47,
   "metadata": {},
   "outputs": [
    {
     "name": "stdout",
     "output_type": "stream",
     "text": [
      "[0.09587916 0.15629657 0.15629657 1.         0.15629657 0.15629657\n",
      " 0.15629657 0.15629657 0.15629657 0.15629657 0.15629657 0.15629657\n",
      " 0.15629657 0.15629657 0.20324699]\n"
     ]
    },
    {
     "data": {
      "text/plain": [
       "3"
      ]
     },
     "execution_count": 47,
     "metadata": {},
     "output_type": "execute_result"
    }
   ],
   "source": [
    "softmax_choice(context, temperature, n_arms, weights)"
   ]
  },
  {
   "cell_type": "code",
   "execution_count": 43,
   "metadata": {},
   "outputs": [
    {
     "data": {
      "text/plain": [
       "array([0.09587916, 0.15629657, 0.15629657, 1.        , 0.15629657,\n",
       "       0.15629657, 0.15629657, 0.15629657, 0.15629657, 0.15629657,\n",
       "       0.15629657, 0.15629657, 0.15629657, 0.15629657, 0.20324699])"
      ]
     },
     "execution_count": 43,
     "metadata": {},
     "output_type": "execute_result"
    }
   ],
   "source": [
    "exp_rewards"
   ]
  },
  {
   "cell_type": "code",
   "execution_count": 8,
   "metadata": {},
   "outputs": [
    {
     "data": {
      "text/plain": [
       "7"
      ]
     },
     "execution_count": 8,
     "metadata": {},
     "output_type": "execute_result"
    }
   ],
   "source": [
    "choice"
   ]
  },
  {
   "cell_type": "markdown",
   "metadata": {},
   "source": [
    "# Velocidad trozos algoritmo"
   ]
  },
  {
   "cell_type": "code",
   "execution_count": 3,
   "metadata": {},
   "outputs": [],
   "source": [
    "import pandas as pd\n",
    "import numpy as np"
   ]
  },
  {
   "cell_type": "code",
   "execution_count": 4,
   "metadata": {},
   "outputs": [],
   "source": [
    "def add_solutions(solution, f1, f2, f3, route_solutions, df_solutions):\n",
    "    solution = str(sorted(solution))\n",
    "    solucion_encontrada = False\n",
    "\n",
    "    if not df_solutions.empty:\n",
    "        if solution in df_solutions[\"solution\"].values:\n",
    "            return  # La solución ya existe, no hacer nada\n",
    "\n",
    "        df_dominado = df_solutions.copy()\n",
    "        df_dominado = df_dominado[df_dominado[\"f1\"] <= f1]\n",
    "        df_dominado = df_dominado[df_dominado[\"f2\"] <= f2]\n",
    "        df_dominado = df_dominado[df_dominado[\"f3\"] <= f3]\n",
    "        if df_dominado.empty:\n",
    "            # Eliminar soluciones que sean dominadas por la nueva\n",
    "            df_solutions = df_solutions[\n",
    "                ~(\n",
    "                    (df_solutions[\"f1\"] >= f1)\n",
    "                    & (df_solutions[\"f2\"] >= f2)\n",
    "                    & (df_solutions[\"f3\"] >= f3)\n",
    "                    & (\n",
    "                        (df_solutions[\"f1\"] > f1)\n",
    "                        | (df_solutions[\"f2\"] > f2)\n",
    "                        | (df_solutions[\"f3\"] > f3)\n",
    "                    )\n",
    "                )\n",
    "            ]\n",
    "            # Agregar la nueva solución\n",
    "            new_solution = pd.DataFrame(\n",
    "                [{\"solution\": solution, \"f1\": f1, \"f2\": f2, \"f3\": f3}]\n",
    "            )\n",
    "            df_solutions = pd.concat([df_solutions, new_solution], ignore_index=True)\n",
    "            df_solutions.to_csv(route_solutions, index=False)\n",
    "            solucion_encontrada = True\n",
    "    else:\n",
    "        df_solutions = pd.DataFrame(\n",
    "            [{\"solution\": solution, \"f1\": f1, \"f2\": f2, \"f3\": f3}]\n",
    "        )\n",
    "        df_solutions.to_csv(route_solutions, index=False)\n",
    "    return solucion_encontrada"
   ]
  },
  {
   "cell_type": "code",
   "execution_count": 2,
   "metadata": {},
   "outputs": [],
   "source": [
    "def add_solutions_optimized(solution, f1, f2, f3, route_solutions, df_solutions):\n",
    "    \"\"\"\n",
    "    Versión optimizada que utiliza NumPy para comprobaciones de dominancia\n",
    "    y un set para verificar duplicados rápidamente.\n",
    "    \"\"\"\n",
    "    solution = str(sorted(solution))\n",
    "\n",
    "    # --- CASO BASE: Si el DataFrame está vacío, añadir y salir ---\n",
    "    if df_solutions.empty:\n",
    "        df_solutions = pd.DataFrame(\n",
    "            [{\"solution\": solution, \"f1\": f1, \"f2\": f2, \"f3\": f3}]\n",
    "        )\n",
    "        df_solutions.to_csv(route_solutions, index=False)\n",
    "        return True\n",
    "\n",
    "    # Usar un set para comprobar existencia (O(1) en promedio) ---\n",
    "    existing_solutions = set(df_solutions[\"solution\"])\n",
    "    if solution in existing_solutions:\n",
    "        return False # La solución ya existe\n",
    "\n",
    "\n",
    "    # Extraer los valores numéricos a un array de NumPy para cálculos rápidos\n",
    "    vals = df_solutions[[\"f1\", \"f2\", \"f3\"]].values\n",
    "    new_vals = np.array([f1, f2, f3])\n",
    "\n",
    "\n",
    "    if np.any(np.all(vals <= new_vals, axis=1)):\n",
    "        return False # La nueva solución es dominada, no hacer nada\n",
    "\n",
    "    # 2. Si no es dominada, eliminar las soluciones que SÍ son dominadas por la nueva.\n",
    "    #    Una solución 'new' domina a una existente 's' si:\n",
    "    #    (new_f1 <= s_f1, new_f2 <= s_f2, new_f3 <= s_f3) Y\n",
    "    #    (new_f1 < s_f1  O  new_f2 < s_f2  O  new_f3 < s_f3)\n",
    "    #    Lo calculamos con una máscara booleana.\n",
    "    \n",
    "    # Condición 1: Todos los valores de la nueva solución son menores o iguales\n",
    "    # a los de las soluciones existentes.\n",
    "    cond1 = np.all(new_vals <= vals, axis=1)\n",
    "    # Condición 2: Al menos un valor de la nueva solución es estrictamente menor.\n",
    "    cond2 = np.any(new_vals < vals, axis=1)\n",
    "    \n",
    "    # La máscara final identifica las filas a eliminar (las dominadas)\n",
    "    dominated_mask = cond1 & cond2\n",
    "    \n",
    "    # Mantener solo las filas que NO están dominadas\n",
    "    df_solutions = df_solutions[~dominated_mask]\n",
    "\n",
    "    # 3. Añadir la nueva solución no dominada\n",
    "    new_solution_df = pd.DataFrame(\n",
    "        [{\"solution\": solution, \"f1\": f1, \"f2\": f2, \"f3\": f3}]\n",
    "    )\n",
    "    df_solutions = pd.concat([df_solutions, new_solution_df], ignore_index=True)\n",
    "    \n",
    "    # Guardar el resultado final en el CSV\n",
    "    df_solutions.to_csv(route_solutions, index=False)\n",
    "    \n",
    "    return True"
   ]
  },
  {
   "cell_type": "code",
   "execution_count": 1,
   "metadata": {},
   "outputs": [],
   "source": [
    "import os"
   ]
  },
  {
   "cell_type": "code",
   "execution_count": 15,
   "metadata": {},
   "outputs": [],
   "source": [
    "archive = \"WorkSpace 1000_50_5\"\n",
    "solution=[5, 8, 11, 27, 40]\n",
    "f1_value=200\n",
    "f2_value=300\n",
    "f3_value=100"
   ]
  },
  {
   "cell_type": "code",
   "execution_count": 6,
   "metadata": {},
   "outputs": [],
   "source": [
    "folder_solutions = f\"Solutions/Multiprocessing/{archive}/\"\n",
    "\n",
    "route_solutions = folder_solutions + archive + \".csv\"\n",
    "\n",
    "if os.path.exists(route_solutions):\n",
    "    df_solutions = pd.read_csv(route_solutions)"
   ]
  },
  {
   "cell_type": "code",
   "execution_count": 16,
   "metadata": {},
   "outputs": [
    {
     "data": {
      "text/plain": [
       "True"
      ]
     },
     "execution_count": 16,
     "metadata": {},
     "output_type": "execute_result"
    }
   ],
   "source": [
    "\n",
    "add_solutions(solution, f1_value, f2_value, f3_value, route_solutions, df_solutions)"
   ]
  },
  {
   "cell_type": "code",
   "execution_count": 17,
   "metadata": {},
   "outputs": [
    {
     "data": {
      "text/plain": [
       "True"
      ]
     },
     "execution_count": 17,
     "metadata": {},
     "output_type": "execute_result"
    }
   ],
   "source": [
    "\n",
    "add_solutions_optimized(solution, f1_value, f2_value, f3_value, route_solutions, df_solutions)"
   ]
  }
 ],
 "metadata": {
  "kernelspec": {
   "display_name": "Optimization",
   "language": "python",
   "name": "python3"
  },
  "language_info": {
   "codemirror_mode": {
    "name": "ipython",
    "version": 3
   },
   "file_extension": ".py",
   "mimetype": "text/x-python",
   "name": "python",
   "nbconvert_exporter": "python",
   "pygments_lexer": "ipython3",
   "version": "3.12.7"
  }
 },
 "nbformat": 4,
 "nbformat_minor": 2
}
