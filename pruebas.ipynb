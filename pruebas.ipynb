{
 "cells": [
  {
   "cell_type": "markdown",
   "metadata": {},
   "source": [
    "# SoftMax"
   ]
  },
  {
   "cell_type": "code",
   "execution_count": 36,
   "metadata": {},
   "outputs": [],
   "source": [
    "context= [100,20,30]\n",
    "temperature=1\n",
    "n_arms=15"
   ]
  },
  {
   "cell_type": "code",
   "execution_count": 37,
   "metadata": {},
   "outputs": [],
   "source": [
    "weights=[[0, 0.7, 0.69],\n",
    " [0.72, 0.72, 0.72],\n",
    " [0.72, 0.72, 0.72],\n",
    " [0.72, 0.72, 10],\n",
    " [0.72, 0.72, 0.72],\n",
    " [0.72, 0.72, 0.72],\n",
    " [0.72, 0.72, 0.72],\n",
    " [0.72, 0.72, 0.72],\n",
    " [0.72, 0.72, 0.72],\n",
    " [0.72, 0.72, 0.72],\n",
    " [0.72, 0.72, 0.72],\n",
    " [0.72, 0.72, 0.72],\n",
    " [0.72, 0.72, 0.72],\n",
    " [0.72, 0.72, 0.72],\n",
    " [1, 0.87, 1]]"
   ]
  },
  {
   "cell_type": "code",
   "execution_count": 44,
   "metadata": {},
   "outputs": [],
   "source": [
    "def soft_max(context, temperature, n_arms, weights):\n",
    "    context_np = np.array(context).reshape(1, -1)  # Convertir a fila vector\n",
    "\n",
    "    context_np = context_np / np.sum(context_np)  # Normalización del contexto\n",
    "\n",
    "    expected_rewards = np.dot(weights, context_np.T).flatten()\n",
    "\n",
    "    # Aplicar softmax\n",
    "    exp_rewards = np.exp(\n",
    "        (expected_rewards - np.max(expected_rewards)) / temperature\n",
    "    ) \n",
    "\n",
    "    sum_exp_rewards = np.sum(exp_rewards)\n",
    "    if sum_exp_rewards == 0:\n",
    "        choice = np.random.choice(n_arms)\n",
    "    else:\n",
    "        try:\n",
    "            probabilities = exp_rewards / np.sum(exp_rewards)\n",
    "            choice = np.random.choice(n_arms, p=probabilities)\n",
    "        except Exception as e:\n",
    "            print(e)\n",
    "            print(weights)\n",
    "            print(probabilities)\n",
    "            choice = np.random.choice(n_arms)\n",
    "    print(exp_rewards)\n",
    "    return choice\n",
    "    "
   ]
  },
  {
   "cell_type": "code",
   "execution_count": 46,
   "metadata": {},
   "outputs": [
    {
     "name": "stdout",
     "output_type": "stream",
     "text": [
      "[0.09587916 0.15629657 0.15629657 1.         0.15629657 0.15629657\n",
      " 0.15629657 0.15629657 0.15629657 0.15629657 0.15629657 0.15629657\n",
      " 0.15629657 0.15629657 0.20324699]\n"
     ]
    },
    {
     "data": {
      "text/plain": [
       "7"
      ]
     },
     "execution_count": 46,
     "metadata": {},
     "output_type": "execute_result"
    }
   ],
   "source": [
    "soft_max(context, temperature, n_arms, weights)"
   ]
  },
  {
   "cell_type": "code",
   "execution_count": 47,
   "metadata": {},
   "outputs": [
    {
     "name": "stdout",
     "output_type": "stream",
     "text": [
      "[0.09587916 0.15629657 0.15629657 1.         0.15629657 0.15629657\n",
      " 0.15629657 0.15629657 0.15629657 0.15629657 0.15629657 0.15629657\n",
      " 0.15629657 0.15629657 0.20324699]\n"
     ]
    },
    {
     "data": {
      "text/plain": [
       "3"
      ]
     },
     "execution_count": 47,
     "metadata": {},
     "output_type": "execute_result"
    }
   ],
   "source": [
    "softmax_choice(context, temperature, n_arms, weights)"
   ]
  },
  {
   "cell_type": "code",
   "execution_count": 43,
   "metadata": {},
   "outputs": [
    {
     "data": {
      "text/plain": [
       "array([0.09587916, 0.15629657, 0.15629657, 1.        , 0.15629657,\n",
       "       0.15629657, 0.15629657, 0.15629657, 0.15629657, 0.15629657,\n",
       "       0.15629657, 0.15629657, 0.15629657, 0.15629657, 0.20324699])"
      ]
     },
     "execution_count": 43,
     "metadata": {},
     "output_type": "execute_result"
    }
   ],
   "source": [
    "exp_rewards"
   ]
  },
  {
   "cell_type": "code",
   "execution_count": 8,
   "metadata": {},
   "outputs": [
    {
     "data": {
      "text/plain": [
       "7"
      ]
     },
     "execution_count": 8,
     "metadata": {},
     "output_type": "execute_result"
    }
   ],
   "source": [
    "choice"
   ]
  },
  {
   "cell_type": "markdown",
   "metadata": {},
   "source": [
    "# Nueva búsqueda local"
   ]
  },
  {
   "cell_type": "code",
   "execution_count": 3,
   "metadata": {},
   "outputs": [],
   "source": [
    "import pandas as pd\n",
    "import numpy as np"
   ]
  },
  {
   "cell_type": "code",
   "execution_count": 2,
   "metadata": {},
   "outputs": [],
   "source": [
    "def f1(supply_selected, df_distances_demand):\n",
    "    \"\"\"\n",
    "    - df_distances_demand: DataFrame con las distancias entre los puntos de suministro y los puntos de demanda.\n",
    "    - supply_selected: Lista con los indices de los puntos de suministro seleccionados.\n",
    "    \"\"\"\n",
    "\n",
    "    value = df_distances_demand.iloc[:, supply_selected].min(axis=1).max()\n",
    "    return value\n",
    "\n",
    "def f2(supply_selected, df_distances_demand):\n",
    "    \"\"\"\n",
    "    - df_distances_demand: DataFrame con las distancias entre los puntos de suministro y los puntos de demanda.\n",
    "    - supply_selected: Lista con los indices de los puntos de suministro seleccionados.\n",
    "    \"\"\"\n",
    "    asignacion = df_distances_demand.iloc[:, supply_selected].idxmin(axis=1)\n",
    "    maximum = asignacion.value_counts().max()\n",
    "    return maximum\n",
    "\n",
    "def f3(supply_selected, df_distances_demand):\n",
    "    \"\"\"\n",
    "    Calcula la diferencia entre el número máximo y mínimo de demandas asignadas a los puntos de suministro seleccionados,\n",
    "    de forma más eficiente.\n",
    "    \"\"\"\n",
    "    asignacion = df_distances_demand.iloc[:, supply_selected].idxmin(axis=1)\n",
    "    counts = asignacion.value_counts()\n",
    "    return counts.max() - counts.min()"
   ]
  },
  {
   "cell_type": "code",
   "execution_count": 4,
   "metadata": {},
   "outputs": [],
   "source": [
    "k=5\n",
    "m=50\n",
    "\n",
    "archive = \"WorkSpace 1000_50_5\"\n",
    "folder_distances = \"./data/distances/demand/\"\n",
    "route_distances = folder_distances + archive + \".csv\"\n",
    "df_distances_demand = pd.read_csv(route_distances, index_col=0)"
   ]
  },
  {
   "cell_type": "code",
   "execution_count": 56,
   "metadata": {},
   "outputs": [],
   "source": [
    "supply_selected = [8, 20, 4, 1, 12]"
   ]
  },
  {
   "cell_type": "code",
   "execution_count": 63,
   "metadata": {},
   "outputs": [
    {
     "data": {
      "text/plain": [
       "np.int64(313)"
      ]
     },
     "execution_count": 63,
     "metadata": {},
     "output_type": "execute_result"
    }
   ],
   "source": [
    "f2(supply_selected, df_distances_demand)"
   ]
  },
  {
   "cell_type": "code",
   "execution_count": 52,
   "metadata": {},
   "outputs": [
    {
     "data": {
      "text/plain": [
       "([35, 9, 3, 1, 15], np.int64(35))"
      ]
     },
     "execution_count": 52,
     "metadata": {},
     "output_type": "execute_result"
    }
   ],
   "source": [
    "local_search_f3_optimized(supply_selected, df_distances_demand, k, m, 50)"
   ]
  },
  {
   "cell_type": "code",
   "execution_count": null,
   "metadata": {},
   "outputs": [
    {
     "data": {
      "text/plain": [
       "[np.float64(481.1330377348868), np.int64(211), np.int64(24)]"
      ]
     },
     "metadata": {},
     "output_type": "display_data"
    }
   ],
   "source": [
    "new_f_values"
   ]
  }
 ],
 "metadata": {
  "kernelspec": {
   "display_name": "Optimization",
   "language": "python",
   "name": "python3"
  },
  "language_info": {
   "codemirror_mode": {
    "name": "ipython",
    "version": 3
   },
   "file_extension": ".py",
   "mimetype": "text/x-python",
   "name": "python",
   "nbconvert_exporter": "python",
   "pygments_lexer": "ipython3",
   "version": "3.12.7"
  }
 },
 "nbformat": 4,
 "nbformat_minor": 2
}
