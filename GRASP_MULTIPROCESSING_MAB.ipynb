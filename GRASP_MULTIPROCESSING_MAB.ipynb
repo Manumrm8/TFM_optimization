{
 "cells": [
  {
   "cell_type": "markdown",
   "id": "1ba24e0a",
   "metadata": {},
   "source": [
    "# Librerías"
   ]
  },
  {
   "cell_type": "code",
   "execution_count": 10,
   "id": "2c59840c",
   "metadata": {},
   "outputs": [],
   "source": [
    "import numpy as np\n",
    "import os\n",
    "import pandas as pd\n",
    "\n",
    "from tools.compare_functions import load_solutions, get_pareto_front, get_styled_table, classify_solutions\n",
    "from tools import create_distances\n",
    "from tools.delete_dominated_solutions import delete_dominated_solutions\n",
    "from tools.grasp_multiprocessing_MAB_LS_2 import multi_GRASP_Bandit\n",
    "from tools.fine_tuning import contar_soluciones_en_pareto\n",
    "\n",
    "import multiprocessing\n",
    "from tqdm import tqdm\n",
    "from IPython.display import display, HTML\n",
    "import glob\n"
   ]
  },
  {
   "cell_type": "markdown",
   "id": "fa41e45e",
   "metadata": {},
   "source": [
    "# Datos"
   ]
  },
  {
   "cell_type": "code",
   "execution_count": 11,
   "id": "9483e500",
   "metadata": {},
   "outputs": [],
   "source": [
    "archive = \"WorkSpace 1000_50_5\"\n",
    "k=5\n",
    "m=50\n",
    "context_size=3\n",
    "alpha=0.3\n",
    "betha=0.1\n",
    "learning_rate=0.1\n",
    "temperature=1.5"
   ]
  },
  {
   "cell_type": "code",
   "execution_count": 14,
   "id": "a3e29837",
   "metadata": {},
   "outputs": [],
   "source": [
    "archive = \"WorkSpace 1000_50_10\"\n",
    "k=10\n",
    "m=50\n",
    "context_size=3\n",
    "alpha=0.3\n",
    "betha=0.1\n",
    "learning_rate=0.1\n",
    "temperature=1.5"
   ]
  },
  {
   "cell_type": "markdown",
   "id": "2f779dd0",
   "metadata": {},
   "source": [
    "# Preparar los datos"
   ]
  },
  {
   "cell_type": "code",
   "execution_count": 15,
   "id": "ca448dcc",
   "metadata": {},
   "outputs": [],
   "source": [
    "create_distances.create_distances(archive)"
   ]
  },
  {
   "cell_type": "markdown",
   "id": "cd430024",
   "metadata": {},
   "source": [
    "# Función multiproceso"
   ]
  },
  {
   "cell_type": "code",
   "execution_count": 16,
   "id": "7ece5725",
   "metadata": {},
   "outputs": [],
   "source": [
    "def ejecutar_con_pool(archive, k, m, context_size, alpha, betha, learning_rate, temperature):\n",
    "    \"\"\"\n",
    "    Ejecuta la función multi_GRASP en paralelo usando multiprocessing.Pool.\n",
    "\n",
    "    Args:\n",
    "        archive: El parámetro 'archive' para multi_GRASP.\n",
    "        k: El parámetro 'k' para multi_GRASP.\n",
    "        m: El parámetro 'm' para multi_GRASP.\n",
    "        alpha: El parámetro 'alpha' para multi_GRASP.\n",
    "    \"\"\"\n",
    "    num_corridas = 220 # Número de veces que quieres ejecutar multi_GRASP\n",
    "\n",
    "    # Crear una lista de tuplas de argumentos.\n",
    "    # Cada tupla en esta lista será pasada como *args a una llamada de multi_GRASP.\n",
    "    # Como queremos ejecutar la misma función 10 veces con los MISMOS parámetros,\n",
    "    # creamos una lista que contiene 10 veces la misma tupla de argumentos.\n",
    "\n",
    "    lista_de_argumentos = []\n",
    "    for i in range(num_corridas):\n",
    "        # Ahora, 'i' es el corrida_id para cada ejecución\n",
    "        lista_de_argumentos.append((archive, k, m, context_size, alpha, betha, learning_rate, temperature, i+1))\n",
    "\n",
    "    # Usando Pool con 'with' asegura que el pool se cierre correctamente\n",
    "    # Puedes especificar el número de procesos en Pool(processes=N).\n",
    "    # Si no lo especificas, usa multiprocessing.cpu_count()\n",
    "    with multiprocessing.Pool() as pool:\n",
    "        # pool.starmap() es ideal para aplicar una función que toma múltiples\n",
    "        # argumentos (desempaquetados de una tupla) a cada elemento\n",
    "        # (que es una tupla de argumentos) de un iterable (lista_de_argumentos).\n",
    "        pool.starmap(multi_GRASP_Bandit, lista_de_argumentos)\n"
   ]
  },
  {
   "cell_type": "markdown",
   "id": "12f87785",
   "metadata": {},
   "source": [
    "# Ejecución GRASP"
   ]
  },
  {
   "cell_type": "code",
   "execution_count": 17,
   "id": "b60610aa",
   "metadata": {},
   "outputs": [
    {
     "name": "stderr",
     "output_type": "stream",
     "text": [
      "Ejecutando GRASP: 100%|██████████| 100/100 [06:27<00:00,  3.88s/it]\n"
     ]
    }
   ],
   "source": [
    "for i in tqdm(range(100), desc=\"Ejecutando GRASP\"):\n",
    "    ejecutar_con_pool(archive, k, m, context_size, alpha, betha, learning_rate, temperature)"
   ]
  },
  {
   "cell_type": "code",
   "execution_count": 24,
   "id": "6162821b",
   "metadata": {},
   "outputs": [
    {
     "name": "stdout",
     "output_type": "stream",
     "text": [
      "✅ Frente de Pareto cargado desde 'Pareto_front/WorkSpace 1000_50_10.csv'. Contiene 47 soluciones.\n"
     ]
    }
   ],
   "source": [
    "vector_de_conteos = contar_soluciones_en_pareto(archive, total_corridas=220)"
   ]
  },
  {
   "attachments": {
    "image.png": {
     "image/png": "[encoded data removed]"
    }
   },
   "cell_type": "markdown",
   "id": "01596bba",
   "metadata": {},
   "source": [
    "![image.png](attachment:image.png)\n",
    "\n",
    "Esto para medir, de las soluciones encontradas en cada caso, qué proporcion es óptima"
   ]
  },
  {
   "cell_type": "code",
   "execution_count": 26,
   "id": "95e2b0e1",
   "metadata": {},
   "outputs": [
    {
     "data": {
      "text/plain": [
       "9"
      ]
     },
     "execution_count": 26,
     "metadata": {},
     "output_type": "execute_result"
    }
   ],
   "source": [
    "vector_de_conteos[0]"
   ]
  },
  {
   "cell_type": "code",
   "execution_count": 19,
   "id": "30843941",
   "metadata": {},
   "outputs": [
    {
     "data": {
      "text/plain": [
       "np.float64(8.2)"
      ]
     },
     "execution_count": 19,
     "metadata": {},
     "output_type": "execute_result"
    }
   ],
   "source": [
    "np.mean(vector_de_conteos)"
   ]
  },
  {
   "cell_type": "code",
   "execution_count": 21,
   "id": "eb7b7a75",
   "metadata": {},
   "outputs": [],
   "source": [
    "import matplotlib.pyplot as plt"
   ]
  },
  {
   "cell_type": "code",
   "execution_count": 22,
   "id": "2a034252",
   "metadata": {},
   "outputs": [
    {
     "data": {
      "image/png": "[encoded data removed]",
      "text/plain": [
       "<Figure size 640x480 with 1 Axes>"
      ]
     },
     "metadata": {},
     "output_type": "display_data"
    }
   ],
   "source": [
    "# 2. Crear la figura y los ejes para el gráfico\n",
    "fig, ax = plt.subplots()\n",
    "\n",
    "# 3. Generar el boxplot\n",
    "ax.boxplot(vector_de_conteos)\n",
    "\n",
    "# 4. Añadir títulos (opcional pero recomendado)\n",
    "ax.set_title('Diagrama de Caja de Vector de Conteos')\n",
    "ax.set_ylabel('Valores')\n",
    "ax.set_xticklabels(['']) # Oculta la etiqueta del eje x si no es necesaria\n",
    "\n",
    "# 5. Mostrar el gráfico\n",
    "plt.show()"
   ]
  },
  {
   "cell_type": "markdown",
   "id": "06a23060",
   "metadata": {},
   "source": [
    "# Juntar soluciones en un único archivo y borar las que no pertenezcan al frente de pareto"
   ]
  },
  {
   "cell_type": "code",
   "execution_count": 8,
   "id": "1113e566",
   "metadata": {},
   "outputs": [],
   "source": [
    "folder_solutions=f\"Solutions/Multiprocessing/{archive}/\""
   ]
  },
  {
   "cell_type": "code",
   "execution_count": 9,
   "id": "862fc157",
   "metadata": {},
   "outputs": [
    {
     "name": "stdout",
     "output_type": "stream",
     "text": [
      "Todas las soluciones se han unificado y guardado en: Solutions/Multiprocessing/WorkSpace 1000_50_10/WorkSpace 1000_50_10.csv\n",
      "Archivos individuales eliminados.\n",
      "Soluciones no dominadas:\n",
      "                                   solution          f1   f2   f3\n",
      "0     [0, 1, 3, 16, 22, 24, 29, 30, 41, 45]  298.412466  124   69\n",
      "1      [0, 1, 3, 6, 16, 22, 24, 29, 30, 45]  298.412466  126   67\n",
      "2       [0, 2, 3, 5, 7, 10, 25, 28, 30, 32]  287.471738  150  110\n",
      "3      [0, 1, 3, 6, 16, 21, 25, 28, 29, 35]  301.086366  128   66\n",
      "4     [0, 1, 3, 16, 18, 24, 28, 29, 30, 45]  310.942117  117   45\n",
      "5      [0, 2, 3, 7, 10, 24, 28, 30, 32, 46]  295.194851  150  107\n",
      "6       [0, 1, 4, 5, 7, 25, 28, 30, 32, 49]  280.166022  155  126\n",
      "7    [0, 3, 11, 16, 24, 28, 29, 30, 46, 47]  295.743132  127   71\n",
      "8    [1, 3, 13, 20, 22, 25, 29, 30, 43, 45]  373.048254  116   40\n",
      "9   [0, 16, 18, 21, 26, 28, 29, 30, 45, 49]  402.612717  109   25\n",
      "10    [0, 1, 3, 14, 18, 19, 24, 27, 29, 30]  335.089540  113   41\n",
      "11    [0, 1, 3, 16, 19, 21, 26, 28, 31, 45]  355.316760  119   40\n",
      "12  [0, 11, 16, 19, 22, 24, 29, 36, 45, 49]  344.052322  121   38\n",
      "13    [0, 1, 3, 16, 24, 28, 29, 30, 41, 46]  305.851271  122   69\n",
      "14  [1, 13, 19, 22, 25, 29, 30, 43, 45, 49]  383.317101  110   34\n",
      "15    [1, 4, 7, 13, 18, 27, 28, 31, 43, 45]  377.005305  112   24\n",
      "16    [0, 1, 3, 16, 18, 25, 28, 29, 30, 45]  318.523155  117   41\n",
      "17   [1, 4, 12, 18, 19, 25, 28, 29, 30, 43]  389.802514  111   23\n",
      "18  [3, 11, 15, 19, 21, 25, 28, 31, 43, 45]  398.433181  110   27\n",
      "19    [0, 2, 6, 16, 18, 21, 24, 27, 36, 40]  458.802790  107   15\n",
      "20   [1, 4, 13, 18, 19, 25, 28, 29, 30, 43]  377.005305  113   23\n",
      "21   [2, 8, 13, 18, 25, 28, 43, 45, 47, 48]  458.802790  106   16\n",
      "22   [1, 3, 13, 20, 21, 26, 28, 43, 45, 48]  373.048254  118   39\n",
      "23     [0, 1, 3, 6, 16, 24, 28, 29, 30, 45]  298.412466  126   67\n",
      "24   [0, 3, 11, 24, 28, 29, 30, 43, 46, 47]  295.743132  127   71\n",
      "25   [1, 4, 12, 18, 19, 22, 27, 33, 43, 48]  389.802514  110   28\n",
      "26    [0, 1, 3, 16, 18, 22, 24, 29, 30, 45]  310.942117  117   45\n",
      "27     [0, 1, 3, 6, 16, 21, 25, 28, 29, 30]  301.086366  128   66\n",
      "28    [0, 2, 3, 10, 20, 25, 28, 30, 32, 41]  293.640937  153  108\n",
      "29   [1, 4, 13, 18, 19, 22, 24, 29, 30, 43]  377.005305  111   38\n",
      "30  [0, 11, 16, 19, 22, 24, 29, 40, 45, 49]  344.052322  121   38\n",
      "31   [1, 3, 13, 19, 22, 25, 29, 30, 43, 45]  373.048254  116   40\n",
      "32  [0, 11, 16, 19, 22, 24, 29, 30, 45, 49]  344.052322  121   38\n",
      "33    [0, 1, 3, 16, 18, 22, 25, 29, 30, 45]  318.523155  117   41\n",
      "34   [0, 3, 11, 16, 24, 28, 29, 40, 46, 47]  295.743132  127   71\n",
      "35     [0, 1, 3, 6, 16, 24, 28, 29, 40, 45]  298.412466  126   67\n",
      "36   [1, 3, 13, 20, 22, 25, 29, 40, 43, 45]  373.048254  116   40\n",
      "37     [0, 1, 3, 6, 16, 24, 28, 29, 35, 45]  298.412466  126   67\n",
      "38     [0, 1, 3, 6, 16, 21, 25, 28, 29, 40]  301.086366  128   66\n",
      "39    [0, 2, 3, 10, 19, 25, 28, 30, 32, 41]  293.640937  153  108\n",
      "40   [1, 3, 13, 19, 22, 25, 29, 40, 43, 45]  373.048254  116   40\n",
      "41  [5, 11, 12, 22, 23, 32, 43, 46, 47, 48]  503.008946  103    8\n",
      "42  [0, 11, 16, 19, 22, 24, 29, 35, 45, 49]  344.052322  121   38\n",
      "43     [0, 1, 3, 6, 16, 21, 25, 28, 29, 31]  301.086366  128   66\n",
      "44     [0, 1, 3, 6, 16, 22, 24, 29, 40, 45]  298.412466  126   67\n",
      "45     [0, 1, 3, 6, 16, 21, 25, 28, 29, 36]  301.086366  128   66\n",
      "46  [8, 13, 18, 19, 24, 28, 31, 43, 45, 49]  373.048254  123   37\n",
      "Soluciones guardadas en el archivo original.\n"
     ]
    }
   ],
   "source": [
    "file_pattern = os.path.join(folder_solutions, f\"{archive}_#*.csv\")\n",
    "\n",
    "# Obtiene una lista de todos los archivos que coinciden con el patrón\n",
    "solution_files = glob.glob(file_pattern)\n",
    "\n",
    "if not solution_files:\n",
    "    print(f\"No se encontraron archivos de solución para unificar en {folder_solutions} con el patrón '{archive}_#*.csv'.\")\n",
    "\n",
    "\n",
    "all_solutions_df = pd.DataFrame()\n",
    "\n",
    "# Lee cada archivo y concaténalos\n",
    "for file_path in solution_files:\n",
    "    try:\n",
    "        df_temp = pd.read_csv(file_path)\n",
    "        all_solutions_df = pd.concat([all_solutions_df, df_temp], ignore_index=True)\n",
    "    except Exception as e:\n",
    "        print(f\"Error al leer el archivo {file_path}: {e}\")\n",
    "\n",
    "if all_solutions_df.empty:\n",
    "    print(\"No se pudo leer ninguna solución. El DataFrame unificado está vacío.\")\n",
    "\n",
    "all_solutions_df.drop_duplicates(subset=['solution'], inplace=True)\n",
    "\n",
    "# Guarda el DataFrame unificado\n",
    "try:\n",
    "    final_unified_route = os.path.join(folder_solutions, f\"{archive}.csv\")\n",
    "\n",
    "    # Verifica si el archivo unificado ya existe\n",
    "    if os.path.exists(final_unified_route):\n",
    "        print(f\"El archivo unificado {final_unified_route} ya existe. Cargando soluciones existentes para añadir las nuevas.\")\n",
    "        try:\n",
    "            # Carga las soluciones existentes\n",
    "            df_existing_solutions = pd.read_csv(final_unified_route)\n",
    "            \n",
    "            # Concatena las soluciones existentes con las nuevas soluciones leídas de los archivos individuales\n",
    "            # all_solutions_df ya contiene las soluciones de los archivos _#i.csv\n",
    "            all_solutions_df = pd.concat([df_existing_solutions, all_solutions_df], ignore_index=True)\n",
    "            \n",
    "            print(\"Aplicando lógica de deduplicación y dominancia al conjunto combinado...\")\n",
    "            # Aplica la lógica de deduplicación. Si 'solution' es tu identificador único:\n",
    "            all_solutions_df.drop_duplicates(subset=['solution'], inplace=True) \n",
    "\n",
    "        except pd.errors.EmptyDataError:\n",
    "            print(f\"El archivo {final_unified_route} existe pero está vacío. Creando uno nuevo.\")\n",
    "            # Si el archivo existe pero está vacío, all_solutions_df ya tiene los datos nuevos.\n",
    "        except Exception as e:\n",
    "            print(f\"Error al cargar el archivo existente {final_unified_route}: {e}. Se intentará guardar solo las soluciones nuevas.\")\n",
    "            # En caso de error, procedemos con lo que ya está en all_solutions_df\n",
    "            \n",
    "    # Guarda el DataFrame unificado (sea el nuevo o el combinado)\n",
    "    all_solutions_df.to_csv(final_unified_route, index=False)\n",
    "    print(f\"Todas las soluciones se han unificado y guardado en: {final_unified_route}\")\n",
    "\n",
    "    # Opcional: Eliminar los archivos individuales después de la unificación exitosa\n",
    "    for file_path in solution_files:\n",
    "        os.remove(file_path)\n",
    "    print(\"Archivos individuales eliminados.\")\n",
    "\n",
    "except Exception as e:\n",
    "    print(f\"Error general al gestionar el archivo unificado {final_unified_route}: {e}\")\n",
    "\n",
    "\n",
    "delete_dominated_solutions(archive)"
   ]
  },
  {
   "cell_type": "markdown",
   "id": "25e42284",
   "metadata": {},
   "source": [
    "# Comparar soluciones con el pareto front"
   ]
  },
  {
   "cell_type": "code",
   "execution_count": 15,
   "id": "eb8f338f",
   "metadata": {},
   "outputs": [],
   "source": [
    "ruta_solution=\"Solutions/Multiprocessing/\"+archive+\"/\"+archive+\".csv\"\n",
    "ruta_pareto=f\"Pareto_front/{archive}.txt\"\n",
    "df_csv_full, df_csv_obj, df_txt = load_solutions(ruta_solution, ruta_pareto)"
   ]
  },
  {
   "cell_type": "code",
   "execution_count": 16,
   "id": "67e5c8f5",
   "metadata": {},
   "outputs": [
    {
     "data": {
      "text/html": [
       "\n",
       "<div style=\"display: flex; gap: 30px;\">\n",
       "  <div style=\"flex: 1;\">\n",
       "    <h3>Soluciones CSV (con ID)</h3>\n",
       "    <style type=\"text/css\">\n",
       "#T_5fb07_row0_col0, #T_5fb07_row0_col1, #T_5fb07_row0_col2, #T_5fb07_row0_col3, #T_5fb07_row1_col0, #T_5fb07_row1_col1, #T_5fb07_row1_col2, #T_5fb07_row1_col3, #T_5fb07_row2_col0, #T_5fb07_row2_col1, #T_5fb07_row2_col2, #T_5fb07_row2_col3, #T_5fb07_row3_col0, #T_5fb07_row3_col1, #T_5fb07_row3_col2, #T_5fb07_row3_col3, #T_5fb07_row4_col0, #T_5fb07_row4_col1, #T_5fb07_row4_col2, #T_5fb07_row4_col3, #T_5fb07_row5_col0, #T_5fb07_row5_col1, #T_5fb07_row5_col2, #T_5fb07_row5_col3, #T_5fb07_row6_col0, #T_5fb07_row6_col1, #T_5fb07_row6_col2, #T_5fb07_row6_col3, #T_5fb07_row7_col0, #T_5fb07_row7_col1, #T_5fb07_row7_col2, #T_5fb07_row7_col3, #T_5fb07_row8_col0, #T_5fb07_row8_col1, #T_5fb07_row8_col2, #T_5fb07_row8_col3, #T_5fb07_row9_col0, #T_5fb07_row9_col1, #T_5fb07_row9_col2, #T_5fb07_row9_col3, #T_5fb07_row10_col0, #T_5fb07_row10_col1, #T_5fb07_row10_col2, #T_5fb07_row10_col3, #T_5fb07_row11_col0, #T_5fb07_row11_col1, #T_5fb07_row11_col2, #T_5fb07_row11_col3, #T_5fb07_row12_col0, #T_5fb07_row12_col1, #T_5fb07_row12_col2, #T_5fb07_row12_col3, #T_5fb07_row13_col0, #T_5fb07_row13_col1, #T_5fb07_row13_col2, #T_5fb07_row13_col3, #T_5fb07_row14_col0, #T_5fb07_row14_col1, #T_5fb07_row14_col2, #T_5fb07_row14_col3, #T_5fb07_row15_col0, #T_5fb07_row15_col1, #T_5fb07_row15_col2, #T_5fb07_row15_col3, #T_5fb07_row16_col0, #T_5fb07_row16_col1, #T_5fb07_row16_col2, #T_5fb07_row16_col3, #T_5fb07_row17_col0, #T_5fb07_row17_col1, #T_5fb07_row17_col2, #T_5fb07_row17_col3 {\n",
       "  background-color: blue;\n",
       "}\n",
       "</style>\n",
       "<table id=\"T_5fb07\">\n",
       "  <thead>\n",
       "    <tr>\n",
       "      <th class=\"blank level0\" >&nbsp;</th>\n",
       "      <th id=\"T_5fb07_level0_col0\" class=\"col_heading level0 col0\" >solution</th>\n",
       "      <th id=\"T_5fb07_level0_col1\" class=\"col_heading level0 col1\" >f1</th>\n",
       "      <th id=\"T_5fb07_level0_col2\" class=\"col_heading level0 col2\" >f2</th>\n",
       "      <th id=\"T_5fb07_level0_col3\" class=\"col_heading level0 col3\" >f3</th>\n",
       "    </tr>\n",
       "  </thead>\n",
       "  <tbody>\n",
       "    <tr>\n",
       "      <th id=\"T_5fb07_level0_row0\" class=\"row_heading level0 row0\" >0</th>\n",
       "      <td id=\"T_5fb07_row0_col0\" class=\"data row0 col0\" >[1, 4, 14, 27, 29]</td>\n",
       "      <td id=\"T_5fb07_row0_col1\" class=\"data row0 col1\" >379.969736</td>\n",
       "      <td id=\"T_5fb07_row0_col2\" class=\"data row0 col2\" >259</td>\n",
       "      <td id=\"T_5fb07_row0_col3\" class=\"data row0 col3\" >160</td>\n",
       "    </tr>\n",
       "    <tr>\n",
       "      <th id=\"T_5fb07_level0_row1\" class=\"row_heading level0 row1\" >1</th>\n",
       "      <td id=\"T_5fb07_row1_col0\" class=\"data row1 col0\" >[2, 17, 19, 23, 29]</td>\n",
       "      <td id=\"T_5fb07_row1_col1\" class=\"data row1 col1\" >458.802790</td>\n",
       "      <td id=\"T_5fb07_row1_col2\" class=\"data row1 col2\" >209</td>\n",
       "      <td id=\"T_5fb07_row1_col3\" class=\"data row1 col3\" >22</td>\n",
       "    </tr>\n",
       "    <tr>\n",
       "      <th id=\"T_5fb07_level0_row2\" class=\"row_heading level0 row2\" >2</th>\n",
       "      <td id=\"T_5fb07_row2_col0\" class=\"data row2 col0\" >[7, 14, 23, 29, 49]</td>\n",
       "      <td id=\"T_5fb07_row2_col1\" class=\"data row2 col1\" >415.120464</td>\n",
       "      <td id=\"T_5fb07_row2_col2\" class=\"data row2 col2\" >242</td>\n",
       "      <td id=\"T_5fb07_row2_col3\" class=\"data row2 col3\" >120</td>\n",
       "    </tr>\n",
       "    <tr>\n",
       "      <th id=\"T_5fb07_level0_row3\" class=\"row_heading level0 row3\" >3</th>\n",
       "      <td id=\"T_5fb07_row3_col0\" class=\"data row3 col0\" >[13, 20, 23, 29, 49]</td>\n",
       "      <td id=\"T_5fb07_row3_col1\" class=\"data row3 col1\" >415.120464</td>\n",
       "      <td id=\"T_5fb07_row3_col2\" class=\"data row3 col2\" >233</td>\n",
       "      <td id=\"T_5fb07_row3_col3\" class=\"data row3 col3\" >129</td>\n",
       "    </tr>\n",
       "    <tr>\n",
       "      <th id=\"T_5fb07_level0_row4\" class=\"row_heading level0 row4\" >4</th>\n",
       "      <td id=\"T_5fb07_row4_col0\" class=\"data row4 col0\" >[4, 14, 27, 29, 46]</td>\n",
       "      <td id=\"T_5fb07_row4_col1\" class=\"data row4 col1\" >377.005305</td>\n",
       "      <td id=\"T_5fb07_row4_col2\" class=\"data row4 col2\" >281</td>\n",
       "      <td id=\"T_5fb07_row4_col3\" class=\"data row4 col3\" >210</td>\n",
       "    </tr>\n",
       "    <tr>\n",
       "      <th id=\"T_5fb07_level0_row5\" class=\"row_heading level0 row5\" >5</th>\n",
       "      <td id=\"T_5fb07_row5_col0\" class=\"data row5 col0\" >[13, 23, 28, 33, 49]</td>\n",
       "      <td id=\"T_5fb07_row5_col1\" class=\"data row5 col1\" >423.161908</td>\n",
       "      <td id=\"T_5fb07_row5_col2\" class=\"data row5 col2\" >250</td>\n",
       "      <td id=\"T_5fb07_row5_col3\" class=\"data row5 col3\" >112</td>\n",
       "    </tr>\n",
       "    <tr>\n",
       "      <th id=\"T_5fb07_level0_row6\" class=\"row_heading level0 row6\" >6</th>\n",
       "      <td id=\"T_5fb07_row6_col0\" class=\"data row6 col0\" >[4, 14, 27, 29, 47]</td>\n",
       "      <td id=\"T_5fb07_row6_col1\" class=\"data row6 col1\" >377.005305</td>\n",
       "      <td id=\"T_5fb07_row6_col2\" class=\"data row6 col2\" >284</td>\n",
       "      <td id=\"T_5fb07_row6_col3\" class=\"data row6 col3\" >202</td>\n",
       "    </tr>\n",
       "    <tr>\n",
       "      <th id=\"T_5fb07_level0_row7\" class=\"row_heading level0 row7\" >7</th>\n",
       "      <td id=\"T_5fb07_row7_col0\" class=\"data row7 col0\" >[3, 9, 12, 27, 29]</td>\n",
       "      <td id=\"T_5fb07_row7_col1\" class=\"data row7 col1\" >442.764046</td>\n",
       "      <td id=\"T_5fb07_row7_col2\" class=\"data row7 col2\" >233</td>\n",
       "      <td id=\"T_5fb07_row7_col3\" class=\"data row7 col3\" >103</td>\n",
       "    </tr>\n",
       "    <tr>\n",
       "      <th id=\"T_5fb07_level0_row8\" class=\"row_heading level0 row8\" >8</th>\n",
       "      <td id=\"T_5fb07_row8_col0\" class=\"data row8 col0\" >[3, 9, 13, 27, 29]</td>\n",
       "      <td id=\"T_5fb07_row8_col1\" class=\"data row8 col1\" >433.416659</td>\n",
       "      <td id=\"T_5fb07_row8_col2\" class=\"data row8 col2\" >243</td>\n",
       "      <td id=\"T_5fb07_row8_col3\" class=\"data row8 col3\" >113</td>\n",
       "    </tr>\n",
       "    <tr>\n",
       "      <th id=\"T_5fb07_level0_row9\" class=\"row_heading level0 row9\" >9</th>\n",
       "      <td id=\"T_5fb07_row9_col0\" class=\"data row9 col0\" >[14, 23, 28, 33, 49]</td>\n",
       "      <td id=\"T_5fb07_row9_col1\" class=\"data row9 col1\" >438.262478</td>\n",
       "      <td id=\"T_5fb07_row9_col2\" class=\"data row9 col2\" >249</td>\n",
       "      <td id=\"T_5fb07_row9_col3\" class=\"data row9 col3\" >97</td>\n",
       "    </tr>\n",
       "    <tr>\n",
       "      <th id=\"T_5fb07_level0_row10\" class=\"row_heading level0 row10\" >10</th>\n",
       "      <td id=\"T_5fb07_row10_col0\" class=\"data row10 col0\" >[2, 8, 11, 27, 29]</td>\n",
       "      <td id=\"T_5fb07_row10_col1\" class=\"data row10 col1\" >481.133038</td>\n",
       "      <td id=\"T_5fb07_row10_col2\" class=\"data row10 col2\" >203</td>\n",
       "      <td id=\"T_5fb07_row10_col3\" class=\"data row10 col3\" >6</td>\n",
       "    </tr>\n",
       "    <tr>\n",
       "      <th id=\"T_5fb07_level0_row11\" class=\"row_heading level0 row11\" >11</th>\n",
       "      <td id=\"T_5fb07_row11_col0\" class=\"data row11 col0\" >[13, 23, 29, 45, 49]</td>\n",
       "      <td id=\"T_5fb07_row11_col1\" class=\"data row11 col1\" >412.506970</td>\n",
       "      <td id=\"T_5fb07_row11_col2\" class=\"data row11 col2\" >247</td>\n",
       "      <td id=\"T_5fb07_row11_col3\" class=\"data row11 col3\" >148</td>\n",
       "    </tr>\n",
       "    <tr>\n",
       "      <th id=\"T_5fb07_level0_row12\" class=\"row_heading level0 row12\" >12</th>\n",
       "      <td id=\"T_5fb07_row12_col0\" class=\"data row12 col0\" >[14, 23, 29, 45, 49]</td>\n",
       "      <td id=\"T_5fb07_row12_col1\" class=\"data row12 col1\" >412.137113</td>\n",
       "      <td id=\"T_5fb07_row12_col2\" class=\"data row12 col2\" >253</td>\n",
       "      <td id=\"T_5fb07_row12_col3\" class=\"data row12 col3\" >147</td>\n",
       "    </tr>\n",
       "    <tr>\n",
       "      <th id=\"T_5fb07_level0_row13\" class=\"row_heading level0 row13\" >13</th>\n",
       "      <td id=\"T_5fb07_row13_col0\" class=\"data row13 col0\" >[3, 7, 12, 27, 29]</td>\n",
       "      <td id=\"T_5fb07_row13_col1\" class=\"data row13 col1\" >442.764046</td>\n",
       "      <td id=\"T_5fb07_row13_col2\" class=\"data row13 col2\" >229</td>\n",
       "      <td id=\"T_5fb07_row13_col3\" class=\"data row13 col3\" >104</td>\n",
       "    </tr>\n",
       "    <tr>\n",
       "      <th id=\"T_5fb07_level0_row14\" class=\"row_heading level0 row14\" >14</th>\n",
       "      <td id=\"T_5fb07_row14_col0\" class=\"data row14 col0\" >[15, 20, 23, 30, 49]</td>\n",
       "      <td id=\"T_5fb07_row14_col1\" class=\"data row14 col1\" >422.413305</td>\n",
       "      <td id=\"T_5fb07_row14_col2\" class=\"data row14 col2\" >237</td>\n",
       "      <td id=\"T_5fb07_row14_col3\" class=\"data row14 col3\" >127</td>\n",
       "    </tr>\n",
       "    <tr>\n",
       "      <th id=\"T_5fb07_level0_row15\" class=\"row_heading level0 row15\" >15</th>\n",
       "      <td id=\"T_5fb07_row15_col0\" class=\"data row15 col0\" >[3, 12, 15, 27, 30]</td>\n",
       "      <td id=\"T_5fb07_row15_col1\" class=\"data row15 col1\" >450.699456</td>\n",
       "      <td id=\"T_5fb07_row15_col2\" class=\"data row15 col2\" >227</td>\n",
       "      <td id=\"T_5fb07_row15_col3\" class=\"data row15 col3\" >83</td>\n",
       "    </tr>\n",
       "    <tr>\n",
       "      <th id=\"T_5fb07_level0_row16\" class=\"row_heading level0 row16\" >16</th>\n",
       "      <td id=\"T_5fb07_row16_col0\" class=\"data row16 col0\" >[14, 20, 23, 29, 49]</td>\n",
       "      <td id=\"T_5fb07_row16_col1\" class=\"data row16 col1\" >415.120464</td>\n",
       "      <td id=\"T_5fb07_row16_col2\" class=\"data row16 col2\" >238</td>\n",
       "      <td id=\"T_5fb07_row16_col3\" class=\"data row16 col3\" >127</td>\n",
       "    </tr>\n",
       "    <tr>\n",
       "      <th id=\"T_5fb07_level0_row17\" class=\"row_heading level0 row17\" >17</th>\n",
       "      <td id=\"T_5fb07_row17_col0\" class=\"data row17 col0\" >[3, 10, 15, 27, 30]</td>\n",
       "      <td id=\"T_5fb07_row17_col1\" class=\"data row17 col1\" >441.834811</td>\n",
       "      <td id=\"T_5fb07_row17_col2\" class=\"data row17 col2\" >241</td>\n",
       "      <td id=\"T_5fb07_row17_col3\" class=\"data row17 col3\" >125</td>\n",
       "    </tr>\n",
       "  </tbody>\n",
       "</table>\n",
       "\n",
       "  </div>\n",
       "  <div style=\"flex: 1;\">\n",
       "    <h3>Soluciones TXT</h3>\n",
       "    <style type=\"text/css\">\n",
       "#T_1cde7_row0_col0, #T_1cde7_row0_col1, #T_1cde7_row0_col2, #T_1cde7_row1_col0, #T_1cde7_row1_col1, #T_1cde7_row1_col2, #T_1cde7_row2_col0, #T_1cde7_row2_col1, #T_1cde7_row2_col2, #T_1cde7_row3_col0, #T_1cde7_row3_col1, #T_1cde7_row3_col2, #T_1cde7_row4_col0, #T_1cde7_row4_col1, #T_1cde7_row4_col2, #T_1cde7_row5_col0, #T_1cde7_row5_col1, #T_1cde7_row5_col2, #T_1cde7_row6_col0, #T_1cde7_row6_col1, #T_1cde7_row6_col2, #T_1cde7_row7_col0, #T_1cde7_row7_col1, #T_1cde7_row7_col2, #T_1cde7_row8_col0, #T_1cde7_row8_col1, #T_1cde7_row8_col2, #T_1cde7_row9_col0, #T_1cde7_row9_col1, #T_1cde7_row9_col2, #T_1cde7_row10_col0, #T_1cde7_row10_col1, #T_1cde7_row10_col2, #T_1cde7_row11_col0, #T_1cde7_row11_col1, #T_1cde7_row11_col2, #T_1cde7_row12_col0, #T_1cde7_row12_col1, #T_1cde7_row12_col2, #T_1cde7_row13_col0, #T_1cde7_row13_col1, #T_1cde7_row13_col2, #T_1cde7_row14_col0, #T_1cde7_row14_col1, #T_1cde7_row14_col2, #T_1cde7_row15_col0, #T_1cde7_row15_col1, #T_1cde7_row15_col2, #T_1cde7_row16_col0, #T_1cde7_row16_col1, #T_1cde7_row16_col2, #T_1cde7_row17_col0, #T_1cde7_row17_col1, #T_1cde7_row17_col2 {\n",
       "  background-color: blue;\n",
       "}\n",
       "</style>\n",
       "<table id=\"T_1cde7\">\n",
       "  <thead>\n",
       "    <tr>\n",
       "      <th class=\"blank level0\" >&nbsp;</th>\n",
       "      <th id=\"T_1cde7_level0_col0\" class=\"col_heading level0 col0\" >0</th>\n",
       "      <th id=\"T_1cde7_level0_col1\" class=\"col_heading level0 col1\" >1</th>\n",
       "      <th id=\"T_1cde7_level0_col2\" class=\"col_heading level0 col2\" >2</th>\n",
       "    </tr>\n",
       "  </thead>\n",
       "  <tbody>\n",
       "    <tr>\n",
       "      <th id=\"T_1cde7_level0_row0\" class=\"row_heading level0 row0\" >0</th>\n",
       "      <td id=\"T_1cde7_row0_col0\" class=\"data row0 col0\" >379.969736</td>\n",
       "      <td id=\"T_1cde7_row0_col1\" class=\"data row0 col1\" >259</td>\n",
       "      <td id=\"T_1cde7_row0_col2\" class=\"data row0 col2\" >160</td>\n",
       "    </tr>\n",
       "    <tr>\n",
       "      <th id=\"T_1cde7_level0_row1\" class=\"row_heading level0 row1\" >1</th>\n",
       "      <td id=\"T_1cde7_row1_col0\" class=\"data row1 col0\" >481.133038</td>\n",
       "      <td id=\"T_1cde7_row1_col1\" class=\"data row1 col1\" >203</td>\n",
       "      <td id=\"T_1cde7_row1_col2\" class=\"data row1 col2\" >6</td>\n",
       "    </tr>\n",
       "    <tr>\n",
       "      <th id=\"T_1cde7_level0_row2\" class=\"row_heading level0 row2\" >2</th>\n",
       "      <td id=\"T_1cde7_row2_col0\" class=\"data row2 col0\" >458.802790</td>\n",
       "      <td id=\"T_1cde7_row2_col1\" class=\"data row2 col1\" >209</td>\n",
       "      <td id=\"T_1cde7_row2_col2\" class=\"data row2 col2\" >22</td>\n",
       "    </tr>\n",
       "    <tr>\n",
       "      <th id=\"T_1cde7_level0_row3\" class=\"row_heading level0 row3\" >3</th>\n",
       "      <td id=\"T_1cde7_row3_col0\" class=\"data row3 col0\" >442.764046</td>\n",
       "      <td id=\"T_1cde7_row3_col1\" class=\"data row3 col1\" >229</td>\n",
       "      <td id=\"T_1cde7_row3_col2\" class=\"data row3 col2\" >104</td>\n",
       "    </tr>\n",
       "    <tr>\n",
       "      <th id=\"T_1cde7_level0_row4\" class=\"row_heading level0 row4\" >4</th>\n",
       "      <td id=\"T_1cde7_row4_col0\" class=\"data row4 col0\" >442.764046</td>\n",
       "      <td id=\"T_1cde7_row4_col1\" class=\"data row4 col1\" >233</td>\n",
       "      <td id=\"T_1cde7_row4_col2\" class=\"data row4 col2\" >103</td>\n",
       "    </tr>\n",
       "    <tr>\n",
       "      <th id=\"T_1cde7_level0_row5\" class=\"row_heading level0 row5\" >5</th>\n",
       "      <td id=\"T_1cde7_row5_col0\" class=\"data row5 col0\" >433.416659</td>\n",
       "      <td id=\"T_1cde7_row5_col1\" class=\"data row5 col1\" >243</td>\n",
       "      <td id=\"T_1cde7_row5_col2\" class=\"data row5 col2\" >113</td>\n",
       "    </tr>\n",
       "    <tr>\n",
       "      <th id=\"T_1cde7_level0_row6\" class=\"row_heading level0 row6\" >6</th>\n",
       "      <td id=\"T_1cde7_row6_col0\" class=\"data row6 col0\" >441.834811</td>\n",
       "      <td id=\"T_1cde7_row6_col1\" class=\"data row6 col1\" >241</td>\n",
       "      <td id=\"T_1cde7_row6_col2\" class=\"data row6 col2\" >125</td>\n",
       "    </tr>\n",
       "    <tr>\n",
       "      <th id=\"T_1cde7_level0_row7\" class=\"row_heading level0 row7\" >7</th>\n",
       "      <td id=\"T_1cde7_row7_col0\" class=\"data row7 col0\" >450.699456</td>\n",
       "      <td id=\"T_1cde7_row7_col1\" class=\"data row7 col1\" >227</td>\n",
       "      <td id=\"T_1cde7_row7_col2\" class=\"data row7 col2\" >83</td>\n",
       "    </tr>\n",
       "    <tr>\n",
       "      <th id=\"T_1cde7_level0_row8\" class=\"row_heading level0 row8\" >8</th>\n",
       "      <td id=\"T_1cde7_row8_col0\" class=\"data row8 col0\" >377.005305</td>\n",
       "      <td id=\"T_1cde7_row8_col1\" class=\"data row8 col1\" >281</td>\n",
       "      <td id=\"T_1cde7_row8_col2\" class=\"data row8 col2\" >210</td>\n",
       "    </tr>\n",
       "    <tr>\n",
       "      <th id=\"T_1cde7_level0_row9\" class=\"row_heading level0 row9\" >9</th>\n",
       "      <td id=\"T_1cde7_row9_col0\" class=\"data row9 col0\" >377.005305</td>\n",
       "      <td id=\"T_1cde7_row9_col1\" class=\"data row9 col1\" >284</td>\n",
       "      <td id=\"T_1cde7_row9_col2\" class=\"data row9 col2\" >202</td>\n",
       "    </tr>\n",
       "    <tr>\n",
       "      <th id=\"T_1cde7_level0_row10\" class=\"row_heading level0 row10\" >10</th>\n",
       "      <td id=\"T_1cde7_row10_col0\" class=\"data row10 col0\" >415.120464</td>\n",
       "      <td id=\"T_1cde7_row10_col1\" class=\"data row10 col1\" >242</td>\n",
       "      <td id=\"T_1cde7_row10_col2\" class=\"data row10 col2\" >120</td>\n",
       "    </tr>\n",
       "    <tr>\n",
       "      <th id=\"T_1cde7_level0_row11\" class=\"row_heading level0 row11\" >11</th>\n",
       "      <td id=\"T_1cde7_row11_col0\" class=\"data row11 col0\" >415.120464</td>\n",
       "      <td id=\"T_1cde7_row11_col1\" class=\"data row11 col1\" >233</td>\n",
       "      <td id=\"T_1cde7_row11_col2\" class=\"data row11 col2\" >129</td>\n",
       "    </tr>\n",
       "    <tr>\n",
       "      <th id=\"T_1cde7_level0_row12\" class=\"row_heading level0 row12\" >12</th>\n",
       "      <td id=\"T_1cde7_row12_col0\" class=\"data row12 col0\" >423.161908</td>\n",
       "      <td id=\"T_1cde7_row12_col1\" class=\"data row12 col1\" >250</td>\n",
       "      <td id=\"T_1cde7_row12_col2\" class=\"data row12 col2\" >112</td>\n",
       "    </tr>\n",
       "    <tr>\n",
       "      <th id=\"T_1cde7_level0_row13\" class=\"row_heading level0 row13\" >13</th>\n",
       "      <td id=\"T_1cde7_row13_col0\" class=\"data row13 col0\" >412.506970</td>\n",
       "      <td id=\"T_1cde7_row13_col1\" class=\"data row13 col1\" >247</td>\n",
       "      <td id=\"T_1cde7_row13_col2\" class=\"data row13 col2\" >148</td>\n",
       "    </tr>\n",
       "    <tr>\n",
       "      <th id=\"T_1cde7_level0_row14\" class=\"row_heading level0 row14\" >14</th>\n",
       "      <td id=\"T_1cde7_row14_col0\" class=\"data row14 col0\" >415.120464</td>\n",
       "      <td id=\"T_1cde7_row14_col1\" class=\"data row14 col1\" >238</td>\n",
       "      <td id=\"T_1cde7_row14_col2\" class=\"data row14 col2\" >127</td>\n",
       "    </tr>\n",
       "    <tr>\n",
       "      <th id=\"T_1cde7_level0_row15\" class=\"row_heading level0 row15\" >15</th>\n",
       "      <td id=\"T_1cde7_row15_col0\" class=\"data row15 col0\" >438.262478</td>\n",
       "      <td id=\"T_1cde7_row15_col1\" class=\"data row15 col1\" >249</td>\n",
       "      <td id=\"T_1cde7_row15_col2\" class=\"data row15 col2\" >97</td>\n",
       "    </tr>\n",
       "    <tr>\n",
       "      <th id=\"T_1cde7_level0_row16\" class=\"row_heading level0 row16\" >16</th>\n",
       "      <td id=\"T_1cde7_row16_col0\" class=\"data row16 col0\" >412.137113</td>\n",
       "      <td id=\"T_1cde7_row16_col1\" class=\"data row16 col1\" >253</td>\n",
       "      <td id=\"T_1cde7_row16_col2\" class=\"data row16 col2\" >147</td>\n",
       "    </tr>\n",
       "    <tr>\n",
       "      <th id=\"T_1cde7_level0_row17\" class=\"row_heading level0 row17\" >17</th>\n",
       "      <td id=\"T_1cde7_row17_col0\" class=\"data row17 col0\" >422.413305</td>\n",
       "      <td id=\"T_1cde7_row17_col1\" class=\"data row17 col1\" >237</td>\n",
       "      <td id=\"T_1cde7_row17_col2\" class=\"data row17 col2\" >127</td>\n",
       "    </tr>\n",
       "  </tbody>\n",
       "</table>\n",
       "\n",
       "  </div>\n",
       "</div>\n"
      ],
      "text/plain": [
       "<IPython.core.display.HTML object>"
      ]
     },
     "metadata": {},
     "output_type": "display_data"
    }
   ],
   "source": [
    "# Unir y encontrar frente de Pareto\n",
    "all_solutions = np.vstack([df_csv_obj.values, df_txt.values])\n",
    "pareto_mask = get_pareto_front(all_solutions)\n",
    "pareto_solutions = all_solutions[pareto_mask]\n",
    "\n",
    "# Arrays para detección de comunes\n",
    "csv_array = df_csv_obj.values\n",
    "txt_array = df_txt.values\n",
    "\n",
    "# Clasificar\n",
    "colors_csv = classify_solutions(df_csv_obj, pareto_solutions, txt_array)\n",
    "colors_txt = classify_solutions(df_txt, pareto_solutions, csv_array)\n",
    "\n",
    "# Mostrar\n",
    "html_csv = get_styled_table(df_csv_full, colors_csv)\n",
    "html_txt = get_styled_table(df_txt, colors_txt)\n",
    "\n",
    "# Mostrar lado a lado con HTML\n",
    "display(HTML(f\"\"\"\n",
    "<div style=\"display: flex; gap: 30px;\">\n",
    "  <div style=\"flex: 1;\">\n",
    "    <h3>Soluciones CSV (con ID)</h3>\n",
    "    {html_csv}\n",
    "  </div>\n",
    "  <div style=\"flex: 1;\">\n",
    "    <h3>Soluciones TXT</h3>\n",
    "    {html_txt}\n",
    "  </div>\n",
    "</div>\n",
    "\"\"\"))\n"
   ]
  }
 ],
 "metadata": {
  "kernelspec": {
   "display_name": "Python 3",
   "language": "python",
   "name": "python3"
  },
  "language_info": {
   "codemirror_mode": {
    "name": "ipython",
    "version": 3
   },
   "file_extension": ".py",
   "mimetype": "text/x-python",
   "name": "python",
   "nbconvert_exporter": "python",
   "pygments_lexer": "ipython3",
   "version": "3.13.5"
  }
 },
 "nbformat": 4,
 "nbformat_minor": 5
}
