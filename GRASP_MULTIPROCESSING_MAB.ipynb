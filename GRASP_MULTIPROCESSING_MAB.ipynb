{
 "cells": [
  {
   "cell_type": "markdown",
   "id": "1ba24e0a",
   "metadata": {},
   "source": [
    "# Librerías"
   ]
  },
  {
   "cell_type": "code",
   "execution_count": 19,
   "id": "2c59840c",
   "metadata": {},
   "outputs": [],
   "source": [
    "import numpy as np\n",
    "import os\n",
    "import pandas as pd\n",
    "import math\n",
    "\n",
    "from tools.compare_functions import load_solutions, get_pareto_front, get_styled_table, classify_solutions\n",
    "from tools import create_distances\n",
    "from tools.delete_dominated_solutions import delete_dominated_solutions\n",
    "from tools.grasp_multiprocessing_MAB_LS_2 import multi_GRASP_Bandit\n",
    "from tools.fine_tuning import contar_soluciones_en_pareto\n",
    "from tools.obtain_metrics import calcular_coverage_pareto\n",
    "\n",
    "import statistics\n",
    "import multiprocessing\n",
    "from tqdm import tqdm\n",
    "from IPython.display import display, HTML\n",
    "import glob\n"
   ]
  },
  {
   "cell_type": "markdown",
   "id": "fa41e45e",
   "metadata": {},
   "source": [
    "# Datos"
   ]
  },
  {
   "cell_type": "code",
   "execution_count": 20,
   "id": "9483e500",
   "metadata": {},
   "outputs": [],
   "source": [
    "archive = \"WorkSpace 1000_50_5\"\n",
    "k=5\n",
    "m=50\n",
    "context_size=3\n",
    "alpha=0.3\n",
    "betha=0.1\n",
    "learning_rate=0.1\n",
    "temperature=1.5"
   ]
  },
  {
   "cell_type": "code",
   "execution_count": 28,
   "id": "a3e29837",
   "metadata": {},
   "outputs": [],
   "source": [
    "archive = \"WorkSpace 1000_50_10\"\n",
    "k=10\n",
    "m=50\n",
    "context_size=3\n",
    "alpha=0.3\n",
    "betha=0.1\n",
    "learning_rate=0.1\n",
    "temperature=1.5"
   ]
  },
  {
   "cell_type": "markdown",
   "id": "2f779dd0",
   "metadata": {},
   "source": [
    "# Preparar los datos"
   ]
  },
  {
   "cell_type": "code",
   "execution_count": 29,
   "id": "ca448dcc",
   "metadata": {},
   "outputs": [],
   "source": [
    "create_distances.create_distances(archive)"
   ]
  },
  {
   "cell_type": "markdown",
   "id": "cd430024",
   "metadata": {},
   "source": [
    "# Función multiproceso"
   ]
  },
  {
   "cell_type": "code",
   "execution_count": 30,
   "id": "7ece5725",
   "metadata": {},
   "outputs": [],
   "source": [
    "def ejecutar_con_pool(archive, k, m, context_size, alpha, betha, learning_rate, temperature):\n",
    "    \"\"\"\n",
    "    Ejecuta la función multi_GRASP en paralelo usando multiprocessing.Pool.\n",
    "\n",
    "    Args:\n",
    "        archive: El parámetro 'archive' para multi_GRASP.\n",
    "        k: El parámetro 'k' para multi_GRASP.\n",
    "        m: El parámetro 'm' para multi_GRASP.\n",
    "        alpha: El parámetro 'alpha' para multi_GRASP.\n",
    "    \"\"\"\n",
    "    num_corridas = 220 # Número de veces que quieres ejecutar multi_GRASP\n",
    "\n",
    "    # Crear una lista de tuplas de argumentos.\n",
    "    # Cada tupla en esta lista será pasada como *args a una llamada de multi_GRASP.\n",
    "    # Como queremos ejecutar la misma función 10 veces con los MISMOS parámetros,\n",
    "    # creamos una lista que contiene 10 veces la misma tupla de argumentos.\n",
    "\n",
    "    lista_de_argumentos = []\n",
    "    for i in range(num_corridas):\n",
    "        # Ahora, 'i' es el corrida_id para cada ejecución\n",
    "        lista_de_argumentos.append((archive, k, m, context_size, alpha, betha, learning_rate, temperature, i+1))\n",
    "\n",
    "    # Usando Pool con 'with' asegura que el pool se cierre correctamente\n",
    "    # Puedes especificar el número de procesos en Pool(processes=N).\n",
    "    # Si no lo especificas, usa multiprocessing.cpu_count()\n",
    "    with multiprocessing.Pool() as pool:\n",
    "        # pool.starmap() es ideal para aplicar una función que toma múltiples\n",
    "        # argumentos (desempaquetados de una tupla) a cada elemento\n",
    "        # (que es una tupla de argumentos) de un iterable (lista_de_argumentos).\n",
    "        pool.starmap(multi_GRASP_Bandit, lista_de_argumentos)\n"
   ]
  },
  {
   "cell_type": "markdown",
   "id": "12f87785",
   "metadata": {},
   "source": [
    "# Ejecución GRASP"
   ]
  },
  {
   "cell_type": "code",
   "execution_count": 31,
   "id": "b60610aa",
   "metadata": {},
   "outputs": [
    {
     "name": "stderr",
     "output_type": "stream",
     "text": [
      "Ejecutando GRASP: 100%|██████████| 100/100 [06:17<00:00,  3.77s/it]\n"
     ]
    }
   ],
   "source": [
    "for i in tqdm(range(100), desc=\"Ejecutando GRASP\"):\n",
    "    ejecutar_con_pool(archive, k, m, context_size, alpha, betha, learning_rate, temperature)"
   ]
  },
  {
   "cell_type": "markdown",
   "id": "3a1f4b33",
   "metadata": {},
   "source": [
    "## Coverage"
   ]
  },
  {
   "cell_type": "code",
   "execution_count": 7,
   "id": "18175291",
   "metadata": {},
   "outputs": [
    {
     "name": "stdout",
     "output_type": "stream",
     "text": [
      "✅ Frente de Pareto cargado desde 'Pareto_front/WorkSpace 1000_50_5.csv'. Contiene 18 soluciones.\n"
     ]
    }
   ],
   "source": [
    "vector_coverage=calcular_coverage_pareto(archive = archive, total_corridas=40)"
   ]
  },
  {
   "cell_type": "code",
   "execution_count": 8,
   "id": "fa52b935",
   "metadata": {},
   "outputs": [
    {
     "name": "stdout",
     "output_type": "stream",
     "text": [
      "\n",
      "Coverage Promedio: 0.0898\n"
     ]
    }
   ],
   "source": [
    "print(f\"\\nCoverage Promedio: {statistics.mean(vector_coverage):.4f}\")"
   ]
  },
  {
   "cell_type": "markdown",
   "id": "693b138f",
   "metadata": {},
   "source": [
    "## Soluciones medias"
   ]
  },
  {
   "cell_type": "code",
   "execution_count": 4,
   "id": "6162821b",
   "metadata": {},
   "outputs": [
    {
     "name": "stdout",
     "output_type": "stream",
     "text": [
      "✅ Frente de Pareto cargado desde 'Pareto_front/WorkSpace 1000_50_5.csv'. Contiene 18 soluciones.\n"
     ]
    }
   ],
   "source": [
    "vector_de_conteos = contar_soluciones_en_pareto(archive, total_corridas=40)"
   ]
  },
  {
   "cell_type": "code",
   "execution_count": 5,
   "id": "ed4b795e",
   "metadata": {},
   "outputs": [
    {
     "name": "stdout",
     "output_type": "stream",
     "text": [
      "\n",
      "Coverage Promedio: 11.7250\n"
     ]
    }
   ],
   "source": [
    "print(f\"\\nCoverage Promedio: {statistics.mean(vector_de_conteos):.4f}\")"
   ]
  },
  {
   "cell_type": "markdown",
   "id": "4b24900b",
   "metadata": {},
   "source": [
    "## Gráfica soluciones medias"
   ]
  },
  {
   "cell_type": "code",
   "execution_count": 9,
   "id": "eb7b7a75",
   "metadata": {},
   "outputs": [],
   "source": [
    "import matplotlib.pyplot as plt"
   ]
  },
  {
   "cell_type": "code",
   "execution_count": 10,
   "id": "2a034252",
   "metadata": {},
   "outputs": [
    {
     "data": {
      "image/png": "[encoded data removed]",
      "text/plain": [
       "<Figure size 640x480 with 1 Axes>"
      ]
     },
     "metadata": {},
     "output_type": "display_data"
    }
   ],
   "source": [
    "# 2. Crear la figura y los ejes para el gráfico\n",
    "fig, ax = plt.subplots()\n",
    "\n",
    "# 3. Generar el boxplot\n",
    "ax.boxplot(vector_de_conteos)\n",
    "\n",
    "# 4. Añadir títulos (opcional pero recomendado)\n",
    "ax.set_title('Diagrama de Caja de Vector de Conteos')\n",
    "ax.set_ylabel('Valores')\n",
    "ax.set_xticklabels(['']) # Oculta la etiqueta del eje x si no es necesaria\n",
    "\n",
    "# 5. Mostrar el gráfico\n",
    "plt.show()"
   ]
  },
  {
   "cell_type": "markdown",
   "id": "b352abad",
   "metadata": {},
   "source": [
    "## Porcentaje de espacio explorado y cantidad de espacio explorado"
   ]
  },
  {
   "cell_type": "code",
   "execution_count": 11,
   "id": "aef4ff5c",
   "metadata": {},
   "outputs": [],
   "source": [
    "ruta_pareto=f\"Pareto_front/{archive}.csv\""
   ]
  },
  {
   "cell_type": "code",
   "execution_count": 12,
   "id": "bb0dc71f",
   "metadata": {},
   "outputs": [
    {
     "name": "stdout",
     "output_type": "stream",
     "text": [
      "✅ Frente de Pareto cargado desde 'Pareto_front/WorkSpace 1000_50_5.csv'. Contiene 18 soluciones.\n"
     ]
    }
   ],
   "source": [
    "vector_de_conteos = contar_soluciones_en_pareto(archive, total_corridas=40)"
   ]
  },
  {
   "cell_type": "code",
   "execution_count": 13,
   "id": "088343fa",
   "metadata": {},
   "outputs": [
    {
     "name": "stdout",
     "output_type": "stream",
     "text": [
      "Total de soluciones: 18\n",
      "total de combinaciones: 2118760\n"
     ]
    }
   ],
   "source": [
    "df = pd.read_csv(ruta_pareto)\n",
    "total_soluciones= len(df)\n",
    "print(f\"Total de soluciones: {total_soluciones}\")\n",
    "total_combinaciones= math.comb(m, k)\n",
    "print(f\"total de combinaciones: {total_combinaciones}\")"
   ]
  },
  {
   "cell_type": "code",
   "execution_count": 14,
   "id": "6e7cbfd0",
   "metadata": {},
   "outputs": [],
   "source": [
    "# Calcular el porcentaje de soluciones encontradas\n",
    "porcentaje_soluciones_encontradas=[v/total_soluciones*100 for v in vector_de_conteos]"
   ]
  },
  {
   "cell_type": "code",
   "execution_count": 17,
   "id": "ca8efd9e",
   "metadata": {},
   "outputs": [],
   "source": [
    "cantidad_comb_exploradas=[p*total_combinaciones/100 for p in porcentaje_soluciones_encontradas]"
   ]
  },
  {
   "cell_type": "code",
   "execution_count": 18,
   "id": "a4f379ca",
   "metadata": {},
   "outputs": [
    {
     "name": "stdout",
     "output_type": "stream",
     "text": [
      "Porcentaje medio de soluciones: 65.1389 %\n",
      "Cantidad media relativa de espacio explorado con las soluciones encontradas: 1380136.7222\n"
     ]
    }
   ],
   "source": [
    "print(f\"Porcentaje medio de soluciones: {statistics.mean(porcentaje_soluciones_encontradas):.4f} %\")\n",
    "print(f\"Cantidad media relativa de espacio explorado con las soluciones encontradas: {statistics.mean(cantidad_comb_exploradas):.4f}\")"
   ]
  },
  {
   "cell_type": "markdown",
   "id": "06a23060",
   "metadata": {},
   "source": [
    "# Juntar soluciones en un único archivo y borar las que no pertenezcan al frente de pareto"
   ]
  },
  {
   "cell_type": "code",
   "execution_count": 24,
   "id": "1113e566",
   "metadata": {},
   "outputs": [],
   "source": [
    "folder_solutions=f\"Solutions/Multiprocessing/{archive}/\""
   ]
  },
  {
   "cell_type": "code",
   "execution_count": 25,
   "id": "862fc157",
   "metadata": {},
   "outputs": [
    {
     "name": "stdout",
     "output_type": "stream",
     "text": [
      "Todas las soluciones se han unificado y guardado en: Solutions/Multiprocessing/WorkSpace 1000_50_5/WorkSpace 1000_50_5.csv\n",
      "Archivos individuales eliminados.\n",
      "Soluciones no dominadas:\n",
      "                solution          f1   f2   f3\n",
      "0     [3, 9, 12, 27, 29]  442.764046  233  103\n",
      "1    [4, 14, 27, 29, 47]  377.005305  284  202\n",
      "2    [2, 17, 19, 23, 29]  458.802790  209   22\n",
      "3   [13, 20, 23, 29, 49]  415.120464  233  129\n",
      "4    [7, 14, 23, 29, 49]  415.120464  242  120\n",
      "5     [1, 4, 14, 27, 29]  379.969736  259  160\n",
      "6   [14, 23, 29, 45, 49]  412.137113  253  147\n",
      "7     [3, 7, 12, 27, 29]  442.764046  229  104\n",
      "8    [4, 14, 27, 29, 46]  377.005305  281  210\n",
      "9   [15, 20, 23, 30, 49]  422.413305  237  127\n",
      "10    [2, 8, 11, 27, 29]  481.133038  203    6\n",
      "11    [3, 9, 13, 27, 29]  433.416659  243  113\n",
      "12   [3, 12, 15, 27, 30]  450.699456  227   83\n",
      "13  [14, 23, 28, 33, 49]  438.262478  249   97\n",
      "14  [13, 23, 28, 33, 49]  423.161908  250  112\n",
      "15  [13, 23, 29, 45, 49]  412.506970  247  148\n",
      "16  [14, 20, 23, 29, 49]  415.120464  238  127\n",
      "17   [3, 10, 15, 27, 30]  441.834811  241  125\n",
      "Soluciones guardadas en el archivo original.\n"
     ]
    }
   ],
   "source": [
    "file_pattern = os.path.join(folder_solutions, f\"{archive}_#*.csv\")\n",
    "\n",
    "# Obtiene una lista de todos los archivos que coinciden con el patrón\n",
    "solution_files = glob.glob(file_pattern)\n",
    "\n",
    "if not solution_files:\n",
    "    print(f\"No se encontraron archivos de solución para unificar en {folder_solutions} con el patrón '{archive}_#*.csv'.\")\n",
    "\n",
    "\n",
    "all_solutions_df = pd.DataFrame()\n",
    "\n",
    "# Lee cada archivo y concaténalos\n",
    "for file_path in solution_files:\n",
    "    try:\n",
    "        df_temp = pd.read_csv(file_path)\n",
    "        all_solutions_df = pd.concat([all_solutions_df, df_temp], ignore_index=True)\n",
    "    except Exception as e:\n",
    "        print(f\"Error al leer el archivo {file_path}: {e}\")\n",
    "\n",
    "if all_solutions_df.empty:\n",
    "    print(\"No se pudo leer ninguna solución. El DataFrame unificado está vacío.\")\n",
    "\n",
    "all_solutions_df.drop_duplicates(subset=['solution'], inplace=True)\n",
    "\n",
    "# Guarda el DataFrame unificado\n",
    "try:\n",
    "    final_unified_route = os.path.join(folder_solutions, f\"{archive}.csv\")\n",
    "\n",
    "    # Verifica si el archivo unificado ya existe\n",
    "    if os.path.exists(final_unified_route):\n",
    "        print(f\"El archivo unificado {final_unified_route} ya existe. Cargando soluciones existentes para añadir las nuevas.\")\n",
    "        try:\n",
    "            # Carga las soluciones existentes\n",
    "            df_existing_solutions = pd.read_csv(final_unified_route)\n",
    "            \n",
    "            # Concatena las soluciones existentes con las nuevas soluciones leídas de los archivos individuales\n",
    "            # all_solutions_df ya contiene las soluciones de los archivos _#i.csv\n",
    "            all_solutions_df = pd.concat([df_existing_solutions, all_solutions_df], ignore_index=True)\n",
    "            \n",
    "            print(\"Aplicando lógica de deduplicación y dominancia al conjunto combinado...\")\n",
    "            # Aplica la lógica de deduplicación. Si 'solution' es tu identificador único:\n",
    "            all_solutions_df.drop_duplicates(subset=['solution'], inplace=True) \n",
    "\n",
    "        except pd.errors.EmptyDataError:\n",
    "            print(f\"El archivo {final_unified_route} existe pero está vacío. Creando uno nuevo.\")\n",
    "            # Si el archivo existe pero está vacío, all_solutions_df ya tiene los datos nuevos.\n",
    "        except Exception as e:\n",
    "            print(f\"Error al cargar el archivo existente {final_unified_route}: {e}. Se intentará guardar solo las soluciones nuevas.\")\n",
    "            # En caso de error, procedemos con lo que ya está en all_solutions_df\n",
    "            \n",
    "    # Guarda el DataFrame unificado (sea el nuevo o el combinado)\n",
    "    all_solutions_df.to_csv(final_unified_route, index=False)\n",
    "    print(f\"Todas las soluciones se han unificado y guardado en: {final_unified_route}\")\n",
    "\n",
    "    # Opcional: Eliminar los archivos individuales después de la unificación exitosa\n",
    "    for file_path in solution_files:\n",
    "        os.remove(file_path)\n",
    "    print(\"Archivos individuales eliminados.\")\n",
    "\n",
    "except Exception as e:\n",
    "    print(f\"Error general al gestionar el archivo unificado {final_unified_route}: {e}\")\n",
    "\n",
    "\n",
    "delete_dominated_solutions(archive)"
   ]
  },
  {
   "cell_type": "markdown",
   "id": "25e42284",
   "metadata": {},
   "source": [
    "# Comparar soluciones con el pareto front"
   ]
  },
  {
   "cell_type": "code",
   "execution_count": 26,
   "id": "eb8f338f",
   "metadata": {},
   "outputs": [],
   "source": [
    "ruta_solution=\"Solutions/Multiprocessing/\"+archive+\"/\"+archive+\".csv\"\n",
    "ruta_pareto=f\"Pareto_front/{archive}.txt\"\n",
    "df_csv_full, df_csv_obj, df_txt = load_solutions(ruta_solution, ruta_pareto)"
   ]
  },
  {
   "cell_type": "code",
   "execution_count": 27,
   "id": "67e5c8f5",
   "metadata": {},
   "outputs": [
    {
     "data": {
      "text/html": [
       "\n",
       "<div style=\"display: flex; gap: 30px;\">\n",
       "  <div style=\"flex: 1;\">\n",
       "    <h3>Soluciones CSV (con ID)</h3>\n",
       "    <style type=\"text/css\">\n",
       "#T_2fdac_row0_col0, #T_2fdac_row0_col1, #T_2fdac_row0_col2, #T_2fdac_row0_col3, #T_2fdac_row1_col0, #T_2fdac_row1_col1, #T_2fdac_row1_col2, #T_2fdac_row1_col3, #T_2fdac_row2_col0, #T_2fdac_row2_col1, #T_2fdac_row2_col2, #T_2fdac_row2_col3, #T_2fdac_row3_col0, #T_2fdac_row3_col1, #T_2fdac_row3_col2, #T_2fdac_row3_col3, #T_2fdac_row4_col0, #T_2fdac_row4_col1, #T_2fdac_row4_col2, #T_2fdac_row4_col3, #T_2fdac_row5_col0, #T_2fdac_row5_col1, #T_2fdac_row5_col2, #T_2fdac_row5_col3, #T_2fdac_row6_col0, #T_2fdac_row6_col1, #T_2fdac_row6_col2, #T_2fdac_row6_col3, #T_2fdac_row7_col0, #T_2fdac_row7_col1, #T_2fdac_row7_col2, #T_2fdac_row7_col3, #T_2fdac_row8_col0, #T_2fdac_row8_col1, #T_2fdac_row8_col2, #T_2fdac_row8_col3, #T_2fdac_row9_col0, #T_2fdac_row9_col1, #T_2fdac_row9_col2, #T_2fdac_row9_col3, #T_2fdac_row10_col0, #T_2fdac_row10_col1, #T_2fdac_row10_col2, #T_2fdac_row10_col3, #T_2fdac_row11_col0, #T_2fdac_row11_col1, #T_2fdac_row11_col2, #T_2fdac_row11_col3, #T_2fdac_row12_col0, #T_2fdac_row12_col1, #T_2fdac_row12_col2, #T_2fdac_row12_col3, #T_2fdac_row13_col0, #T_2fdac_row13_col1, #T_2fdac_row13_col2, #T_2fdac_row13_col3, #T_2fdac_row14_col0, #T_2fdac_row14_col1, #T_2fdac_row14_col2, #T_2fdac_row14_col3, #T_2fdac_row15_col0, #T_2fdac_row15_col1, #T_2fdac_row15_col2, #T_2fdac_row15_col3, #T_2fdac_row16_col0, #T_2fdac_row16_col1, #T_2fdac_row16_col2, #T_2fdac_row16_col3, #T_2fdac_row17_col0, #T_2fdac_row17_col1, #T_2fdac_row17_col2, #T_2fdac_row17_col3 {\n",
       "  background-color: blue;\n",
       "}\n",
       "</style>\n",
       "<table id=\"T_2fdac\">\n",
       "  <thead>\n",
       "    <tr>\n",
       "      <th class=\"blank level0\" >&nbsp;</th>\n",
       "      <th id=\"T_2fdac_level0_col0\" class=\"col_heading level0 col0\" >solution</th>\n",
       "      <th id=\"T_2fdac_level0_col1\" class=\"col_heading level0 col1\" >f1</th>\n",
       "      <th id=\"T_2fdac_level0_col2\" class=\"col_heading level0 col2\" >f2</th>\n",
       "      <th id=\"T_2fdac_level0_col3\" class=\"col_heading level0 col3\" >f3</th>\n",
       "    </tr>\n",
       "  </thead>\n",
       "  <tbody>\n",
       "    <tr>\n",
       "      <th id=\"T_2fdac_level0_row0\" class=\"row_heading level0 row0\" >0</th>\n",
       "      <td id=\"T_2fdac_row0_col0\" class=\"data row0 col0\" >[3, 9, 12, 27, 29]</td>\n",
       "      <td id=\"T_2fdac_row0_col1\" class=\"data row0 col1\" >442.764046</td>\n",
       "      <td id=\"T_2fdac_row0_col2\" class=\"data row0 col2\" >233</td>\n",
       "      <td id=\"T_2fdac_row0_col3\" class=\"data row0 col3\" >103</td>\n",
       "    </tr>\n",
       "    <tr>\n",
       "      <th id=\"T_2fdac_level0_row1\" class=\"row_heading level0 row1\" >1</th>\n",
       "      <td id=\"T_2fdac_row1_col0\" class=\"data row1 col0\" >[4, 14, 27, 29, 47]</td>\n",
       "      <td id=\"T_2fdac_row1_col1\" class=\"data row1 col1\" >377.005305</td>\n",
       "      <td id=\"T_2fdac_row1_col2\" class=\"data row1 col2\" >284</td>\n",
       "      <td id=\"T_2fdac_row1_col3\" class=\"data row1 col3\" >202</td>\n",
       "    </tr>\n",
       "    <tr>\n",
       "      <th id=\"T_2fdac_level0_row2\" class=\"row_heading level0 row2\" >2</th>\n",
       "      <td id=\"T_2fdac_row2_col0\" class=\"data row2 col0\" >[2, 17, 19, 23, 29]</td>\n",
       "      <td id=\"T_2fdac_row2_col1\" class=\"data row2 col1\" >458.802790</td>\n",
       "      <td id=\"T_2fdac_row2_col2\" class=\"data row2 col2\" >209</td>\n",
       "      <td id=\"T_2fdac_row2_col3\" class=\"data row2 col3\" >22</td>\n",
       "    </tr>\n",
       "    <tr>\n",
       "      <th id=\"T_2fdac_level0_row3\" class=\"row_heading level0 row3\" >3</th>\n",
       "      <td id=\"T_2fdac_row3_col0\" class=\"data row3 col0\" >[13, 20, 23, 29, 49]</td>\n",
       "      <td id=\"T_2fdac_row3_col1\" class=\"data row3 col1\" >415.120464</td>\n",
       "      <td id=\"T_2fdac_row3_col2\" class=\"data row3 col2\" >233</td>\n",
       "      <td id=\"T_2fdac_row3_col3\" class=\"data row3 col3\" >129</td>\n",
       "    </tr>\n",
       "    <tr>\n",
       "      <th id=\"T_2fdac_level0_row4\" class=\"row_heading level0 row4\" >4</th>\n",
       "      <td id=\"T_2fdac_row4_col0\" class=\"data row4 col0\" >[7, 14, 23, 29, 49]</td>\n",
       "      <td id=\"T_2fdac_row4_col1\" class=\"data row4 col1\" >415.120464</td>\n",
       "      <td id=\"T_2fdac_row4_col2\" class=\"data row4 col2\" >242</td>\n",
       "      <td id=\"T_2fdac_row4_col3\" class=\"data row4 col3\" >120</td>\n",
       "    </tr>\n",
       "    <tr>\n",
       "      <th id=\"T_2fdac_level0_row5\" class=\"row_heading level0 row5\" >5</th>\n",
       "      <td id=\"T_2fdac_row5_col0\" class=\"data row5 col0\" >[1, 4, 14, 27, 29]</td>\n",
       "      <td id=\"T_2fdac_row5_col1\" class=\"data row5 col1\" >379.969736</td>\n",
       "      <td id=\"T_2fdac_row5_col2\" class=\"data row5 col2\" >259</td>\n",
       "      <td id=\"T_2fdac_row5_col3\" class=\"data row5 col3\" >160</td>\n",
       "    </tr>\n",
       "    <tr>\n",
       "      <th id=\"T_2fdac_level0_row6\" class=\"row_heading level0 row6\" >6</th>\n",
       "      <td id=\"T_2fdac_row6_col0\" class=\"data row6 col0\" >[14, 23, 29, 45, 49]</td>\n",
       "      <td id=\"T_2fdac_row6_col1\" class=\"data row6 col1\" >412.137113</td>\n",
       "      <td id=\"T_2fdac_row6_col2\" class=\"data row6 col2\" >253</td>\n",
       "      <td id=\"T_2fdac_row6_col3\" class=\"data row6 col3\" >147</td>\n",
       "    </tr>\n",
       "    <tr>\n",
       "      <th id=\"T_2fdac_level0_row7\" class=\"row_heading level0 row7\" >7</th>\n",
       "      <td id=\"T_2fdac_row7_col0\" class=\"data row7 col0\" >[3, 7, 12, 27, 29]</td>\n",
       "      <td id=\"T_2fdac_row7_col1\" class=\"data row7 col1\" >442.764046</td>\n",
       "      <td id=\"T_2fdac_row7_col2\" class=\"data row7 col2\" >229</td>\n",
       "      <td id=\"T_2fdac_row7_col3\" class=\"data row7 col3\" >104</td>\n",
       "    </tr>\n",
       "    <tr>\n",
       "      <th id=\"T_2fdac_level0_row8\" class=\"row_heading level0 row8\" >8</th>\n",
       "      <td id=\"T_2fdac_row8_col0\" class=\"data row8 col0\" >[4, 14, 27, 29, 46]</td>\n",
       "      <td id=\"T_2fdac_row8_col1\" class=\"data row8 col1\" >377.005305</td>\n",
       "      <td id=\"T_2fdac_row8_col2\" class=\"data row8 col2\" >281</td>\n",
       "      <td id=\"T_2fdac_row8_col3\" class=\"data row8 col3\" >210</td>\n",
       "    </tr>\n",
       "    <tr>\n",
       "      <th id=\"T_2fdac_level0_row9\" class=\"row_heading level0 row9\" >9</th>\n",
       "      <td id=\"T_2fdac_row9_col0\" class=\"data row9 col0\" >[15, 20, 23, 30, 49]</td>\n",
       "      <td id=\"T_2fdac_row9_col1\" class=\"data row9 col1\" >422.413305</td>\n",
       "      <td id=\"T_2fdac_row9_col2\" class=\"data row9 col2\" >237</td>\n",
       "      <td id=\"T_2fdac_row9_col3\" class=\"data row9 col3\" >127</td>\n",
       "    </tr>\n",
       "    <tr>\n",
       "      <th id=\"T_2fdac_level0_row10\" class=\"row_heading level0 row10\" >10</th>\n",
       "      <td id=\"T_2fdac_row10_col0\" class=\"data row10 col0\" >[2, 8, 11, 27, 29]</td>\n",
       "      <td id=\"T_2fdac_row10_col1\" class=\"data row10 col1\" >481.133038</td>\n",
       "      <td id=\"T_2fdac_row10_col2\" class=\"data row10 col2\" >203</td>\n",
       "      <td id=\"T_2fdac_row10_col3\" class=\"data row10 col3\" >6</td>\n",
       "    </tr>\n",
       "    <tr>\n",
       "      <th id=\"T_2fdac_level0_row11\" class=\"row_heading level0 row11\" >11</th>\n",
       "      <td id=\"T_2fdac_row11_col0\" class=\"data row11 col0\" >[3, 9, 13, 27, 29]</td>\n",
       "      <td id=\"T_2fdac_row11_col1\" class=\"data row11 col1\" >433.416659</td>\n",
       "      <td id=\"T_2fdac_row11_col2\" class=\"data row11 col2\" >243</td>\n",
       "      <td id=\"T_2fdac_row11_col3\" class=\"data row11 col3\" >113</td>\n",
       "    </tr>\n",
       "    <tr>\n",
       "      <th id=\"T_2fdac_level0_row12\" class=\"row_heading level0 row12\" >12</th>\n",
       "      <td id=\"T_2fdac_row12_col0\" class=\"data row12 col0\" >[3, 12, 15, 27, 30]</td>\n",
       "      <td id=\"T_2fdac_row12_col1\" class=\"data row12 col1\" >450.699456</td>\n",
       "      <td id=\"T_2fdac_row12_col2\" class=\"data row12 col2\" >227</td>\n",
       "      <td id=\"T_2fdac_row12_col3\" class=\"data row12 col3\" >83</td>\n",
       "    </tr>\n",
       "    <tr>\n",
       "      <th id=\"T_2fdac_level0_row13\" class=\"row_heading level0 row13\" >13</th>\n",
       "      <td id=\"T_2fdac_row13_col0\" class=\"data row13 col0\" >[14, 23, 28, 33, 49]</td>\n",
       "      <td id=\"T_2fdac_row13_col1\" class=\"data row13 col1\" >438.262478</td>\n",
       "      <td id=\"T_2fdac_row13_col2\" class=\"data row13 col2\" >249</td>\n",
       "      <td id=\"T_2fdac_row13_col3\" class=\"data row13 col3\" >97</td>\n",
       "    </tr>\n",
       "    <tr>\n",
       "      <th id=\"T_2fdac_level0_row14\" class=\"row_heading level0 row14\" >14</th>\n",
       "      <td id=\"T_2fdac_row14_col0\" class=\"data row14 col0\" >[13, 23, 28, 33, 49]</td>\n",
       "      <td id=\"T_2fdac_row14_col1\" class=\"data row14 col1\" >423.161908</td>\n",
       "      <td id=\"T_2fdac_row14_col2\" class=\"data row14 col2\" >250</td>\n",
       "      <td id=\"T_2fdac_row14_col3\" class=\"data row14 col3\" >112</td>\n",
       "    </tr>\n",
       "    <tr>\n",
       "      <th id=\"T_2fdac_level0_row15\" class=\"row_heading level0 row15\" >15</th>\n",
       "      <td id=\"T_2fdac_row15_col0\" class=\"data row15 col0\" >[13, 23, 29, 45, 49]</td>\n",
       "      <td id=\"T_2fdac_row15_col1\" class=\"data row15 col1\" >412.506970</td>\n",
       "      <td id=\"T_2fdac_row15_col2\" class=\"data row15 col2\" >247</td>\n",
       "      <td id=\"T_2fdac_row15_col3\" class=\"data row15 col3\" >148</td>\n",
       "    </tr>\n",
       "    <tr>\n",
       "      <th id=\"T_2fdac_level0_row16\" class=\"row_heading level0 row16\" >16</th>\n",
       "      <td id=\"T_2fdac_row16_col0\" class=\"data row16 col0\" >[14, 20, 23, 29, 49]</td>\n",
       "      <td id=\"T_2fdac_row16_col1\" class=\"data row16 col1\" >415.120464</td>\n",
       "      <td id=\"T_2fdac_row16_col2\" class=\"data row16 col2\" >238</td>\n",
       "      <td id=\"T_2fdac_row16_col3\" class=\"data row16 col3\" >127</td>\n",
       "    </tr>\n",
       "    <tr>\n",
       "      <th id=\"T_2fdac_level0_row17\" class=\"row_heading level0 row17\" >17</th>\n",
       "      <td id=\"T_2fdac_row17_col0\" class=\"data row17 col0\" >[3, 10, 15, 27, 30]</td>\n",
       "      <td id=\"T_2fdac_row17_col1\" class=\"data row17 col1\" >441.834811</td>\n",
       "      <td id=\"T_2fdac_row17_col2\" class=\"data row17 col2\" >241</td>\n",
       "      <td id=\"T_2fdac_row17_col3\" class=\"data row17 col3\" >125</td>\n",
       "    </tr>\n",
       "  </tbody>\n",
       "</table>\n",
       "\n",
       "  </div>\n",
       "  <div style=\"flex: 1;\">\n",
       "    <h3>Soluciones TXT</h3>\n",
       "    <style type=\"text/css\">\n",
       "#T_2216c_row0_col0, #T_2216c_row0_col1, #T_2216c_row0_col2, #T_2216c_row1_col0, #T_2216c_row1_col1, #T_2216c_row1_col2, #T_2216c_row2_col0, #T_2216c_row2_col1, #T_2216c_row2_col2, #T_2216c_row3_col0, #T_2216c_row3_col1, #T_2216c_row3_col2, #T_2216c_row4_col0, #T_2216c_row4_col1, #T_2216c_row4_col2, #T_2216c_row5_col0, #T_2216c_row5_col1, #T_2216c_row5_col2, #T_2216c_row6_col0, #T_2216c_row6_col1, #T_2216c_row6_col2, #T_2216c_row7_col0, #T_2216c_row7_col1, #T_2216c_row7_col2, #T_2216c_row8_col0, #T_2216c_row8_col1, #T_2216c_row8_col2, #T_2216c_row9_col0, #T_2216c_row9_col1, #T_2216c_row9_col2, #T_2216c_row10_col0, #T_2216c_row10_col1, #T_2216c_row10_col2, #T_2216c_row11_col0, #T_2216c_row11_col1, #T_2216c_row11_col2, #T_2216c_row12_col0, #T_2216c_row12_col1, #T_2216c_row12_col2, #T_2216c_row13_col0, #T_2216c_row13_col1, #T_2216c_row13_col2, #T_2216c_row14_col0, #T_2216c_row14_col1, #T_2216c_row14_col2, #T_2216c_row15_col0, #T_2216c_row15_col1, #T_2216c_row15_col2, #T_2216c_row16_col0, #T_2216c_row16_col1, #T_2216c_row16_col2, #T_2216c_row17_col0, #T_2216c_row17_col1, #T_2216c_row17_col2 {\n",
       "  background-color: blue;\n",
       "}\n",
       "</style>\n",
       "<table id=\"T_2216c\">\n",
       "  <thead>\n",
       "    <tr>\n",
       "      <th class=\"blank level0\" >&nbsp;</th>\n",
       "      <th id=\"T_2216c_level0_col0\" class=\"col_heading level0 col0\" >0</th>\n",
       "      <th id=\"T_2216c_level0_col1\" class=\"col_heading level0 col1\" >1</th>\n",
       "      <th id=\"T_2216c_level0_col2\" class=\"col_heading level0 col2\" >2</th>\n",
       "    </tr>\n",
       "  </thead>\n",
       "  <tbody>\n",
       "    <tr>\n",
       "      <th id=\"T_2216c_level0_row0\" class=\"row_heading level0 row0\" >0</th>\n",
       "      <td id=\"T_2216c_row0_col0\" class=\"data row0 col0\" >379.969736</td>\n",
       "      <td id=\"T_2216c_row0_col1\" class=\"data row0 col1\" >259</td>\n",
       "      <td id=\"T_2216c_row0_col2\" class=\"data row0 col2\" >160</td>\n",
       "    </tr>\n",
       "    <tr>\n",
       "      <th id=\"T_2216c_level0_row1\" class=\"row_heading level0 row1\" >1</th>\n",
       "      <td id=\"T_2216c_row1_col0\" class=\"data row1 col0\" >481.133038</td>\n",
       "      <td id=\"T_2216c_row1_col1\" class=\"data row1 col1\" >203</td>\n",
       "      <td id=\"T_2216c_row1_col2\" class=\"data row1 col2\" >6</td>\n",
       "    </tr>\n",
       "    <tr>\n",
       "      <th id=\"T_2216c_level0_row2\" class=\"row_heading level0 row2\" >2</th>\n",
       "      <td id=\"T_2216c_row2_col0\" class=\"data row2 col0\" >458.802790</td>\n",
       "      <td id=\"T_2216c_row2_col1\" class=\"data row2 col1\" >209</td>\n",
       "      <td id=\"T_2216c_row2_col2\" class=\"data row2 col2\" >22</td>\n",
       "    </tr>\n",
       "    <tr>\n",
       "      <th id=\"T_2216c_level0_row3\" class=\"row_heading level0 row3\" >3</th>\n",
       "      <td id=\"T_2216c_row3_col0\" class=\"data row3 col0\" >442.764046</td>\n",
       "      <td id=\"T_2216c_row3_col1\" class=\"data row3 col1\" >229</td>\n",
       "      <td id=\"T_2216c_row3_col2\" class=\"data row3 col2\" >104</td>\n",
       "    </tr>\n",
       "    <tr>\n",
       "      <th id=\"T_2216c_level0_row4\" class=\"row_heading level0 row4\" >4</th>\n",
       "      <td id=\"T_2216c_row4_col0\" class=\"data row4 col0\" >442.764046</td>\n",
       "      <td id=\"T_2216c_row4_col1\" class=\"data row4 col1\" >233</td>\n",
       "      <td id=\"T_2216c_row4_col2\" class=\"data row4 col2\" >103</td>\n",
       "    </tr>\n",
       "    <tr>\n",
       "      <th id=\"T_2216c_level0_row5\" class=\"row_heading level0 row5\" >5</th>\n",
       "      <td id=\"T_2216c_row5_col0\" class=\"data row5 col0\" >433.416659</td>\n",
       "      <td id=\"T_2216c_row5_col1\" class=\"data row5 col1\" >243</td>\n",
       "      <td id=\"T_2216c_row5_col2\" class=\"data row5 col2\" >113</td>\n",
       "    </tr>\n",
       "    <tr>\n",
       "      <th id=\"T_2216c_level0_row6\" class=\"row_heading level0 row6\" >6</th>\n",
       "      <td id=\"T_2216c_row6_col0\" class=\"data row6 col0\" >441.834811</td>\n",
       "      <td id=\"T_2216c_row6_col1\" class=\"data row6 col1\" >241</td>\n",
       "      <td id=\"T_2216c_row6_col2\" class=\"data row6 col2\" >125</td>\n",
       "    </tr>\n",
       "    <tr>\n",
       "      <th id=\"T_2216c_level0_row7\" class=\"row_heading level0 row7\" >7</th>\n",
       "      <td id=\"T_2216c_row7_col0\" class=\"data row7 col0\" >450.699456</td>\n",
       "      <td id=\"T_2216c_row7_col1\" class=\"data row7 col1\" >227</td>\n",
       "      <td id=\"T_2216c_row7_col2\" class=\"data row7 col2\" >83</td>\n",
       "    </tr>\n",
       "    <tr>\n",
       "      <th id=\"T_2216c_level0_row8\" class=\"row_heading level0 row8\" >8</th>\n",
       "      <td id=\"T_2216c_row8_col0\" class=\"data row8 col0\" >377.005305</td>\n",
       "      <td id=\"T_2216c_row8_col1\" class=\"data row8 col1\" >281</td>\n",
       "      <td id=\"T_2216c_row8_col2\" class=\"data row8 col2\" >210</td>\n",
       "    </tr>\n",
       "    <tr>\n",
       "      <th id=\"T_2216c_level0_row9\" class=\"row_heading level0 row9\" >9</th>\n",
       "      <td id=\"T_2216c_row9_col0\" class=\"data row9 col0\" >377.005305</td>\n",
       "      <td id=\"T_2216c_row9_col1\" class=\"data row9 col1\" >284</td>\n",
       "      <td id=\"T_2216c_row9_col2\" class=\"data row9 col2\" >202</td>\n",
       "    </tr>\n",
       "    <tr>\n",
       "      <th id=\"T_2216c_level0_row10\" class=\"row_heading level0 row10\" >10</th>\n",
       "      <td id=\"T_2216c_row10_col0\" class=\"data row10 col0\" >415.120464</td>\n",
       "      <td id=\"T_2216c_row10_col1\" class=\"data row10 col1\" >242</td>\n",
       "      <td id=\"T_2216c_row10_col2\" class=\"data row10 col2\" >120</td>\n",
       "    </tr>\n",
       "    <tr>\n",
       "      <th id=\"T_2216c_level0_row11\" class=\"row_heading level0 row11\" >11</th>\n",
       "      <td id=\"T_2216c_row11_col0\" class=\"data row11 col0\" >415.120464</td>\n",
       "      <td id=\"T_2216c_row11_col1\" class=\"data row11 col1\" >233</td>\n",
       "      <td id=\"T_2216c_row11_col2\" class=\"data row11 col2\" >129</td>\n",
       "    </tr>\n",
       "    <tr>\n",
       "      <th id=\"T_2216c_level0_row12\" class=\"row_heading level0 row12\" >12</th>\n",
       "      <td id=\"T_2216c_row12_col0\" class=\"data row12 col0\" >423.161908</td>\n",
       "      <td id=\"T_2216c_row12_col1\" class=\"data row12 col1\" >250</td>\n",
       "      <td id=\"T_2216c_row12_col2\" class=\"data row12 col2\" >112</td>\n",
       "    </tr>\n",
       "    <tr>\n",
       "      <th id=\"T_2216c_level0_row13\" class=\"row_heading level0 row13\" >13</th>\n",
       "      <td id=\"T_2216c_row13_col0\" class=\"data row13 col0\" >412.506970</td>\n",
       "      <td id=\"T_2216c_row13_col1\" class=\"data row13 col1\" >247</td>\n",
       "      <td id=\"T_2216c_row13_col2\" class=\"data row13 col2\" >148</td>\n",
       "    </tr>\n",
       "    <tr>\n",
       "      <th id=\"T_2216c_level0_row14\" class=\"row_heading level0 row14\" >14</th>\n",
       "      <td id=\"T_2216c_row14_col0\" class=\"data row14 col0\" >415.120464</td>\n",
       "      <td id=\"T_2216c_row14_col1\" class=\"data row14 col1\" >238</td>\n",
       "      <td id=\"T_2216c_row14_col2\" class=\"data row14 col2\" >127</td>\n",
       "    </tr>\n",
       "    <tr>\n",
       "      <th id=\"T_2216c_level0_row15\" class=\"row_heading level0 row15\" >15</th>\n",
       "      <td id=\"T_2216c_row15_col0\" class=\"data row15 col0\" >438.262478</td>\n",
       "      <td id=\"T_2216c_row15_col1\" class=\"data row15 col1\" >249</td>\n",
       "      <td id=\"T_2216c_row15_col2\" class=\"data row15 col2\" >97</td>\n",
       "    </tr>\n",
       "    <tr>\n",
       "      <th id=\"T_2216c_level0_row16\" class=\"row_heading level0 row16\" >16</th>\n",
       "      <td id=\"T_2216c_row16_col0\" class=\"data row16 col0\" >412.137113</td>\n",
       "      <td id=\"T_2216c_row16_col1\" class=\"data row16 col1\" >253</td>\n",
       "      <td id=\"T_2216c_row16_col2\" class=\"data row16 col2\" >147</td>\n",
       "    </tr>\n",
       "    <tr>\n",
       "      <th id=\"T_2216c_level0_row17\" class=\"row_heading level0 row17\" >17</th>\n",
       "      <td id=\"T_2216c_row17_col0\" class=\"data row17 col0\" >422.413305</td>\n",
       "      <td id=\"T_2216c_row17_col1\" class=\"data row17 col1\" >237</td>\n",
       "      <td id=\"T_2216c_row17_col2\" class=\"data row17 col2\" >127</td>\n",
       "    </tr>\n",
       "  </tbody>\n",
       "</table>\n",
       "\n",
       "  </div>\n",
       "</div>\n"
      ],
      "text/plain": [
       "<IPython.core.display.HTML object>"
      ]
     },
     "metadata": {},
     "output_type": "display_data"
    }
   ],
   "source": [
    "# Unir y encontrar frente de Pareto\n",
    "all_solutions = np.vstack([df_csv_obj.values, df_txt.values])\n",
    "pareto_mask = get_pareto_front(all_solutions)\n",
    "pareto_solutions = all_solutions[pareto_mask]\n",
    "\n",
    "# Arrays para detección de comunes\n",
    "csv_array = df_csv_obj.values\n",
    "txt_array = df_txt.values\n",
    "\n",
    "# Clasificar\n",
    "colors_csv = classify_solutions(df_csv_obj, pareto_solutions, txt_array)\n",
    "colors_txt = classify_solutions(df_txt, pareto_solutions, csv_array)\n",
    "\n",
    "# Mostrar\n",
    "html_csv = get_styled_table(df_csv_full, colors_csv)\n",
    "html_txt = get_styled_table(df_txt, colors_txt)\n",
    "\n",
    "# Mostrar lado a lado con HTML\n",
    "display(HTML(f\"\"\"\n",
    "<div style=\"display: flex; gap: 30px;\">\n",
    "  <div style=\"flex: 1;\">\n",
    "    <h3>Soluciones CSV (con ID)</h3>\n",
    "    {html_csv}\n",
    "  </div>\n",
    "  <div style=\"flex: 1;\">\n",
    "    <h3>Soluciones TXT</h3>\n",
    "    {html_txt}\n",
    "  </div>\n",
    "</div>\n",
    "\"\"\"))\n"
   ]
  }
 ],
 "metadata": {
  "kernelspec": {
   "display_name": "base",
   "language": "python",
   "name": "python3"
  },
  "language_info": {
   "codemirror_mode": {
    "name": "ipython",
    "version": 3
   },
   "file_extension": ".py",
   "mimetype": "text/x-python",
   "name": "python",
   "nbconvert_exporter": "python",
   "pygments_lexer": "ipython3",
   "version": "3.13.5"
  }
 },
 "nbformat": 4,
 "nbformat_minor": 5
}
